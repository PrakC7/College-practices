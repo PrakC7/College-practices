{
  "nbformat": 4,
  "nbformat_minor": 0,
  "metadata": {
    "colab": {
      "provenance": [],
      "authorship_tag": "ABX9TyNfc1Bx+r2moe5HYbJyksbR"
    },
    "kernelspec": {
      "name": "python3",
      "display_name": "Python 3"
    },
    "language_info": {
      "name": "python"
    }
  },
  "cells": [
    {
      "cell_type": "code",
      "execution_count": null,
      "metadata": {
        "colab": {
          "base_uri": "https://localhost:8080/"
        },
        "id": "LmYYCtn6Vbzk",
        "outputId": "b69ae314-8ec8-4c68-cd51-ba6590fa0b5e"
      },
      "outputs": [
        {
          "output_type": "stream",
          "name": "stdout",
          "text": [
            "Title name: Python\n",
            "Author name: Balagauswamy\n",
            "Number 0f pages: 400\n"
          ]
        }
      ],
      "source": [
        "# Book Details\n",
        "class Book:\n",
        "  def __init__(self,title,author,pages):\n",
        "    self.title = title\n",
        "    self.author = author\n",
        "    self.pages = pages\n",
        "\n",
        "  def details(self):\n",
        "    print(\"Title name:\",self.title)\n",
        "    print(\"Author name:\",self.author)\n",
        "    print(\"Number 0f pages:\",self.pages)\n",
        "\n",
        "b1 = Book(\"Python\", \"Balagauswamy\", 400)\n",
        "b1.details()"
      ]
    },
    {
      "cell_type": "code",
      "source": [
        "# Employee Details\n",
        "class Employee:\n",
        "  company_name = 'Tech Mahindra'\n",
        "\n",
        "  def __init__(self,Employee_name,ID):\n",
        "    self.Employee_name = Employee_name\n",
        "    self.ID = ID\n",
        "\n",
        "  def details(self):\n",
        "    print(\"Company Name:\",Employee.company_name)\n",
        "    print(\"Employee Name:\",self.Employee_name)\n",
        "    print(\"ID Name:\",self.ID)\n",
        "\n",
        "E1 = Employee(\"Alok\", \"ABC123\")\n",
        "E1.details()"
      ],
      "metadata": {
        "colab": {
          "base_uri": "https://localhost:8080/"
        },
        "id": "t2uTpaTldKDR",
        "outputId": "25099677-1d8d-441e-eded-874a7c2ae6e8"
      },
      "execution_count": null,
      "outputs": [
        {
          "output_type": "stream",
          "name": "stdout",
          "text": [
            "Company Name: Tech Mahindra\n",
            "Employee Name: Alok\n",
            "ID Name: ABC123\n"
          ]
        }
      ]
    },
    {
      "cell_type": "code",
      "source": [
        "# Cicle area and Circumference\n",
        "import math\n",
        "\n",
        "class Circle:\n",
        "  def __init__(self, radius):\n",
        "    self.radius = radius\n",
        "\n",
        "  def area(self):\n",
        "    return math.pi * self.radius ** 2\n",
        "\n",
        "  def circumference(self):\n",
        "    return 2*math.pi * self.radius\n",
        "\n",
        "c1 = Circle(5)\n",
        "print(\"Area of circle:\",c1.area())\n",
        "print(\"Circumference of circle:\",c1.circumference())\n"
      ],
      "metadata": {
        "colab": {
          "base_uri": "https://localhost:8080/"
        },
        "id": "PfuLyXuCfrq6",
        "outputId": "df3652fb-3696-4fbe-a4ff-2365fe5f9ea3"
      },
      "execution_count": null,
      "outputs": [
        {
          "output_type": "stream",
          "name": "stdout",
          "text": [
            "Area of circle: 78.53981633974483\n",
            "Circumference of circle: 31.41592653589793\n"
          ]
        }
      ]
    },
    {
      "cell_type": "code",
      "source": [
        "# Student Details\n",
        "class Student:\n",
        "  college_name = \"Noida Institute of Engineering & Technology\"\n",
        "\n",
        "  def __init__(self,name,student_ID):\n",
        "    self.name = name\n",
        "    self.student_ID = student_ID\n",
        "\n",
        "  @classmethod\n",
        "  def change_cname(cls, new_name):\n",
        "    cls.college_name = new_name\n",
        "\n",
        "  def details(self):\n",
        "    print(\"College name:\",Student.college_name)\n",
        "    print(\"Student name:\",self.name)\n",
        "    print(\"Student ID:\",self.student_ID)\n",
        "\n",
        "s1 = Student(\"Priyanshu\",\"0241CSAI120\")\n",
        "s1.details()\n",
        "\n",
        "Student.change_cname(\"Indian Institute of Technology\")\n",
        "\n",
        "s2 = Student(\"Ved Prakash\",\"001\")\n",
        "s2.details()"
      ],
      "metadata": {
        "colab": {
          "base_uri": "https://localhost:8080/"
        },
        "id": "h1GEubz_jYVV",
        "outputId": "06247a0b-38ad-4068-a8b8-f45b096b1f16"
      },
      "execution_count": null,
      "outputs": [
        {
          "output_type": "stream",
          "name": "stdout",
          "text": [
            "College name: Noida Institute of Engineering & Technology\n",
            "Student name: Priyanshu\n",
            "Student ID: 0241CSAI120\n",
            "College name: Indian Institute of Technology\n",
            "Student name: Ved Prakash\n",
            "Student ID: 001\n"
          ]
        }
      ]
    },
    {
      "cell_type": "code",
      "source": [
        "# Movie Details\n",
        "class Movie:\n",
        "  def __init__(self,title='Unknown',director='Unknown',rating=0.0):\n",
        "    self.title = title\n",
        "    self.director = director\n",
        "    self.rating = rating\n",
        "\n",
        "  def details(self):\n",
        "    print(\"Movie:\",self.title)\n",
        "    print(\"Director:\",self.director)\n",
        "    print(\"Rating:\",self.rating)\n",
        "\n",
        "#Parametrized Constructor\n",
        "m1 = Movie(\"Kung Fu Panda\",\"Mark Osborne, John Stevenson\", 7.6)\n",
        "m1.details()\n",
        "\n",
        "print(\"\")\n",
        "\n",
        "#Default Constructor\n",
        "m2 = Movie()\n",
        "m2.details()"
      ],
      "metadata": {
        "colab": {
          "base_uri": "https://localhost:8080/"
        },
        "id": "Pl6XMGECn0DT",
        "outputId": "36731a8c-3e39-45c3-9cef-2427a836c0b7"
      },
      "execution_count": null,
      "outputs": [
        {
          "output_type": "stream",
          "name": "stdout",
          "text": [
            "Movie: Kung Fu Panda\n",
            "Director: Mark Osborne, John Stevenson\n",
            "Rating: 7.6\n",
            "\n",
            "Movie: Unknown\n",
            "Director: Unknown\n",
            "Rating: 0.0\n"
          ]
        }
      ]
    },
    {
      "cell_type": "code",
      "source": [
        "# Bank Account Details\n",
        "\n",
        "class BankAccount():\n",
        "  bank_name = \"Default Bank\"\n",
        "\n",
        "  def __init__(self,account_holder,balance=0):\n",
        "    self.account_holder = account_holder\n",
        "    self.balance = balance\n",
        "\n",
        "  def deposit(self, amount):\n",
        "    if 0 < amount:\n",
        "      self.balance  += amount\n",
        "      print(\"Deposited Amount: {}\\nCurrent Balance {}\".format(amount,self.balance))\n",
        "    else:\n",
        "      print(\"Deposited Amount: 0\\nCurrent Balance {}\".format(self.balance))\n",
        "\n",
        "  def withdraw(self, amount):\n",
        "    if 0 < amount <= self.balance:\n",
        "      self.balance  -= amount\n",
        "      print(\"Widrawn Amount: {}\\nCurrent Balance {}\".format(amount,self.balance))\n",
        "    else:\n",
        "      print(\"Insufficient balance\\nCurrent Balance {}\".format(self.balance))\n",
        "\n",
        "  @classmethod\n",
        "  def change_bank_name(cls, new_name):\n",
        "    cls.bank_name = new_name\n",
        "\n",
        "\n",
        "  def details(self):\n",
        "    print(\"Bank Name:\",BankAccount.bank_name)\n",
        "    print(\"Account Holder:\",self.account_holder)\n",
        "    print(\"Balance:\",self.balance)\n",
        "\n",
        "  @staticmethod\n",
        "  def validate_account(account_number):\n",
        "    if isinstance(BankAccount.bank_account, int) and len(BankAccount.bank_account) == 10:\n",
        "      print(\"Account is validated.\")\n",
        "      return True\n",
        "    else:\n",
        "      print(\"Account is invalid.\")\n",
        "    return False\n",
        "\n",
        "a1 = BankAccount(\"Priyanshu\",179000)\n",
        "a1.details()"
      ],
      "metadata": {
        "colab": {
          "base_uri": "https://localhost:8080/"
        },
        "id": "cRsxKBRcq8SW",
        "outputId": "74b9c747-27ae-49eb-a2fc-22c00a0d2cbf"
      },
      "execution_count": null,
      "outputs": [
        {
          "output_type": "stream",
          "name": "stdout",
          "text": [
            "Bank Name: Default Bank\n",
            "Account Holder: Priyanshu\n",
            "Balance: 179000\n"
          ]
        }
      ]
    },
    {
      "cell_type": "code",
      "source": [
        "# Magic Methods initialize automatically work inside the code itself\n",
        "dir(int)"
      ],
      "metadata": {
        "id": "g4T5_FY2y0XW",
        "colab": {
          "base_uri": "https://localhost:8080/"
        },
        "outputId": "2d26f7f3-434a-4643-832d-6dd006914366"
      },
      "execution_count": null,
      "outputs": [
        {
          "output_type": "execute_result",
          "data": {
            "text/plain": [
              "['__abs__',\n",
              " '__add__',\n",
              " '__and__',\n",
              " '__bool__',\n",
              " '__ceil__',\n",
              " '__class__',\n",
              " '__delattr__',\n",
              " '__dir__',\n",
              " '__divmod__',\n",
              " '__doc__',\n",
              " '__eq__',\n",
              " '__float__',\n",
              " '__floor__',\n",
              " '__floordiv__',\n",
              " '__format__',\n",
              " '__ge__',\n",
              " '__getattribute__',\n",
              " '__getnewargs__',\n",
              " '__getstate__',\n",
              " '__gt__',\n",
              " '__hash__',\n",
              " '__index__',\n",
              " '__init__',\n",
              " '__init_subclass__',\n",
              " '__int__',\n",
              " '__invert__',\n",
              " '__le__',\n",
              " '__lshift__',\n",
              " '__lt__',\n",
              " '__mod__',\n",
              " '__mul__',\n",
              " '__ne__',\n",
              " '__neg__',\n",
              " '__new__',\n",
              " '__or__',\n",
              " '__pos__',\n",
              " '__pow__',\n",
              " '__radd__',\n",
              " '__rand__',\n",
              " '__rdivmod__',\n",
              " '__reduce__',\n",
              " '__reduce_ex__',\n",
              " '__repr__',\n",
              " '__rfloordiv__',\n",
              " '__rlshift__',\n",
              " '__rmod__',\n",
              " '__rmul__',\n",
              " '__ror__',\n",
              " '__round__',\n",
              " '__rpow__',\n",
              " '__rrshift__',\n",
              " '__rshift__',\n",
              " '__rsub__',\n",
              " '__rtruediv__',\n",
              " '__rxor__',\n",
              " '__setattr__',\n",
              " '__sizeof__',\n",
              " '__str__',\n",
              " '__sub__',\n",
              " '__subclasshook__',\n",
              " '__truediv__',\n",
              " '__trunc__',\n",
              " '__xor__',\n",
              " 'as_integer_ratio',\n",
              " 'bit_count',\n",
              " 'bit_length',\n",
              " 'conjugate',\n",
              " 'denominator',\n",
              " 'from_bytes',\n",
              " 'imag',\n",
              " 'numerator',\n",
              " 'real',\n",
              " 'to_bytes']"
            ]
          },
          "metadata": {},
          "execution_count": 1
        }
      ]
    },
    {
      "cell_type": "code",
      "source": [
        "# __add__ Magic Method\n",
        "st = 10\n",
        "x = st.__add__(5)\n",
        "print(x)"
      ],
      "metadata": {
        "colab": {
          "base_uri": "https://localhost:8080/"
        },
        "id": "OZ7dMWl1ONQh",
        "outputId": "27f42850-f06f-48a6-9f2d-bf5fce5e7eda"
      },
      "execution_count": null,
      "outputs": [
        {
          "output_type": "stream",
          "name": "stdout",
          "text": [
            "15\n"
          ]
        }
      ]
    },
    {
      "cell_type": "code",
      "source": [
        "# __add__ Magic Method\n",
        "st = '10'\n",
        "x = st.__add__('5')\n",
        "print(x)"
      ],
      "metadata": {
        "colab": {
          "base_uri": "https://localhost:8080/"
        },
        "id": "pEyPikgdNiki",
        "outputId": "d5ba3321-acb2-4140-a0b3-b9ee75bfbe7d"
      },
      "execution_count": null,
      "outputs": [
        {
          "output_type": "stream",
          "name": "stdout",
          "text": [
            "105\n"
          ]
        }
      ]
    },
    {
      "cell_type": "code",
      "source": [
        "# Mass in kg + g\n",
        "class Mass:\n",
        "  def __init__(self, kg=0, g=0):\n",
        "    self.kg = kg + g // 1000\n",
        "    self.g = g % 1000\n",
        "\n",
        "  def __add__(self, other):\n",
        "    total_kg = self.kg + other.kg\n",
        "    total_g = self.g + other.g\n",
        "\n",
        "    if total_g >= 1000:\n",
        "      total_kg += total_g // 1000\n",
        "      total_g = total_g % 1000\n",
        "\n",
        "    return Mass(total_kg, total_g)\n",
        "\n",
        "  def __repr__(self):\n",
        "    return f\"Mass: {self.kg}kg, {self.g}g.\"\n",
        "\n",
        "# Example Usage\n",
        "mass1 = Mass(2, 500)\n",
        "mass2 = Mass(1, 250)\n",
        "mass3 = mass1 + mass2\n",
        "print(mass3)\n"
      ],
      "metadata": {
        "colab": {
          "base_uri": "https://localhost:8080/"
        },
        "id": "V7G_hRH_OXxC",
        "outputId": "791d5a29-ed69-4cef-9698-37c8cba0312f"
      },
      "execution_count": null,
      "outputs": [
        {
          "output_type": "stream",
          "name": "stdout",
          "text": [
            "Mass: 3kg, 750g.\n"
          ]
        }
      ]
    },
    {
      "cell_type": "code",
      "source": [
        "# Comparision between two numbers\n",
        "class Student:\n",
        "  def __init__(self, m1, m2):\n",
        "    self.m1 = m1\n",
        "    self.m2 = m2\n",
        "\n",
        "  def __gt__(self, other):\n",
        "    r1 = self.m1 + self.m2\n",
        "    r2 = other.m1 + other.m2\n",
        "\n",
        "    if r1 > r2:\n",
        "      return True\n",
        "    else:\n",
        "      return False\n",
        "\n",
        "s1 = Student(58, 69)\n",
        "s2 = Student(69, 65)\n",
        "\n",
        "if s1 >s2:\n",
        "  print(\"s1 is greater.\")\n",
        "else:\n",
        "  print(\"s2 is greater.\")"
      ],
      "metadata": {
        "colab": {
          "base_uri": "https://localhost:8080/"
        },
        "id": "ipKGB2N3Tbs-",
        "outputId": "bedf295b-33f1-4cee-ca51-57c59cfa5324"
      },
      "execution_count": null,
      "outputs": [
        {
          "output_type": "stream",
          "name": "stdout",
          "text": [
            "s2 is greater.\n"
          ]
        }
      ]
    },
    {
      "cell_type": "code",
      "source": [
        "# __str__ Magic method\n",
        "class Person:\n",
        "  def __init__(self,name,age):\n",
        "    self.name = name\n",
        "    self.age = age\n",
        "\n",
        "  def __str__(self):\n",
        "    return (\"Name: {}\\nAge: {}\".format(self.name, self.age))\n",
        "\n",
        "p = Person(\"Mohit\",35)\n",
        "print(p)"
      ],
      "metadata": {
        "colab": {
          "base_uri": "https://localhost:8080/"
        },
        "id": "7FH3U5siTwGL",
        "outputId": "a2a18f45-f46b-4247-a119-f4ee8b3eb315"
      },
      "execution_count": null,
      "outputs": [
        {
          "output_type": "stream",
          "name": "stdout",
          "text": [
            "Name: Mohit\n",
            "Age: 35\n"
          ]
        }
      ]
    },
    {
      "cell_type": "code",
      "source": [
        "# __new__ Method\n",
        "class Person:\n",
        "  def __new__(self):\n",
        "    print(\"This is a new method.\")\n",
        "    self.__init__(self)\n",
        "\n",
        "  def __init__(self):\n",
        "    print(\"__init__ method.\")\n",
        "\n",
        "p = Person()"
      ],
      "metadata": {
        "colab": {
          "base_uri": "https://localhost:8080/"
        },
        "id": "Bjr2k3-FXHfF",
        "outputId": "8bdb1832-21b1-4d32-a754-b701cd599090"
      },
      "execution_count": null,
      "outputs": [
        {
          "output_type": "stream",
          "name": "stdout",
          "text": [
            "This is a new method.\n",
            "__init__ method.\n"
          ]
        }
      ]
    },
    {
      "cell_type": "code",
      "source": [
        "# __new__ Method is called  at first then it automatically calls the __init__ Method.\n",
        "class Person:\n",
        "  def __init__(self):\n",
        "    print(\"__init__ method.\")\n",
        "\n",
        "  def __new__(self):\n",
        "    print(\"This is a new method.\")\n",
        "    self.__init__(self)\n",
        "\n",
        "p = Person()"
      ],
      "metadata": {
        "colab": {
          "base_uri": "https://localhost:8080/"
        },
        "id": "pgR1vrnwYD8p",
        "outputId": "34ff1292-0756-464b-dc10-103395f5865d"
      },
      "execution_count": null,
      "outputs": [
        {
          "output_type": "stream",
          "name": "stdout",
          "text": [
            "This is a new method.\n",
            "__init__ method.\n"
          ]
        }
      ]
    },
    {
      "cell_type": "code",
      "source": [
        "# Object as an Argument\n",
        "class MyClass:\n",
        "  def __init__(self, value):\n",
        "    self.value = value\n",
        "\n",
        "def print_value(obj):\n",
        "  print(f\"The value is: {obj.value}\")\n",
        "\n",
        "obj = MyClass(10)\n",
        "print_value(obj)"
      ],
      "metadata": {
        "colab": {
          "base_uri": "https://localhost:8080/"
        },
        "id": "ZJ-r8NqKcK-q",
        "outputId": "844c57ea-697d-4e5e-851c-a6897bd6831b"
      },
      "execution_count": null,
      "outputs": [
        {
          "output_type": "stream",
          "name": "stdout",
          "text": [
            "The value is: 10\n"
          ]
        }
      ]
    },
    {
      "cell_type": "code",
      "source": [
        "# Passing other class object to other class\n",
        "class Person:\n",
        "  def __init__(self,name):\n",
        "    self.name = name\n",
        "\n",
        "  def __repr__(self):\n",
        "    return f\"Person({self.name})\"\n",
        "\n",
        "class Greeting:\n",
        "  def generate_greeting(self, person):\n",
        "    return f\"Hello, {person.name}! Welcome!\"\n",
        "\n",
        "person = Person(\"Alice\")\n",
        "greeting = Greeting()\n",
        "\n",
        "message = greeting.generate_greeting(person)\n",
        "print(message)"
      ],
      "metadata": {
        "colab": {
          "base_uri": "https://localhost:8080/"
        },
        "id": "4Jo7ABCVeJBe",
        "outputId": "e317417f-b75b-45b0-e5d8-45b7e9947ac6"
      },
      "execution_count": null,
      "outputs": [
        {
          "output_type": "stream",
          "name": "stdout",
          "text": [
            "Hello, Alice! Welcome!\n"
          ]
        }
      ]
    },
    {
      "cell_type": "code",
      "source": [
        "# Object is created by a function.\n",
        "class MyClass:\n",
        "  def __init__(self, value):\n",
        "    self.value = value\n",
        "\n",
        "def create_object(value):\n",
        "  return MyClass(value)\n",
        "\n",
        "obj = create_object(10)\n",
        "print(obj.value)"
      ],
      "metadata": {
        "colab": {
          "base_uri": "https://localhost:8080/"
        },
        "id": "mWcnAt37gNlY",
        "outputId": "152e7f15-1d0e-4af5-ce13-ffc5a221371d"
      },
      "execution_count": null,
      "outputs": [
        {
          "output_type": "stream",
          "name": "stdout",
          "text": [
            "10\n"
          ]
        }
      ]
    },
    {
      "cell_type": "code",
      "source": [
        "# Rectangle Area\n",
        "class Rectangle:\n",
        "  def __init__(self,width,height):\n",
        "    self.width = width\n",
        "    self.height = height\n",
        "\n",
        "  def area(self):\n",
        "    return self.width * self.height\n",
        "\n",
        "  def combine(self,other):\n",
        "    new_area = self.area() + other.area()\n",
        "    new_width = self.width\n",
        "    new_height = new_area / new_width\n",
        "    return Rectangle(new_width, new_height)\n",
        "\n",
        "  def __repr__(self):\n",
        "    return f\"Rectangle(width={self.width},height={self.height})\"\n",
        "\n",
        "rect1 = Rectangle(4, 5)\n",
        "rect2 = Rectangle(3, 6)\n",
        "\n",
        "combined_rect = rect1.combine(rect2)\n",
        "print(combined_rect)"
      ],
      "metadata": {
        "colab": {
          "base_uri": "https://localhost:8080/"
        },
        "id": "UW8KKY5YhFUL",
        "outputId": "89d1137e-05b4-47fd-f464-801302c37694"
      },
      "execution_count": null,
      "outputs": [
        {
          "output_type": "stream",
          "name": "stdout",
          "text": [
            "Rectangle(width=4,height=9.5)\n"
          ]
        }
      ]
    },
    {
      "cell_type": "code",
      "source": [
        "# Local Namespace (within a function) (until the function execution)\n",
        "def my_func():\n",
        "  zebra= 5\n",
        "  print(5)\n",
        "\n",
        "my_func()\n",
        "\n",
        "print(zebra) # Here will give an error of not defined"
      ],
      "metadata": {
        "colab": {
          "base_uri": "https://localhost:8080/",
          "height": 228
        },
        "id": "mEXp23vwlKKR",
        "outputId": "6d7091b8-5be9-4bd1-eef9-032052add163"
      },
      "execution_count": null,
      "outputs": [
        {
          "output_type": "stream",
          "name": "stdout",
          "text": [
            "5\n"
          ]
        },
        {
          "output_type": "error",
          "ename": "NameError",
          "evalue": "name 'zebra' is not defined",
          "traceback": [
            "\u001b[0;31m---------------------------------------------------------------------------\u001b[0m",
            "\u001b[0;31mNameError\u001b[0m                                 Traceback (most recent call last)",
            "\u001b[0;32m<ipython-input-42-1709127834>\u001b[0m in \u001b[0;36m<cell line: 0>\u001b[0;34m()\u001b[0m\n\u001b[1;32m      6\u001b[0m \u001b[0mmy_func\u001b[0m\u001b[0;34m(\u001b[0m\u001b[0;34m)\u001b[0m\u001b[0;34m\u001b[0m\u001b[0;34m\u001b[0m\u001b[0m\n\u001b[1;32m      7\u001b[0m \u001b[0;34m\u001b[0m\u001b[0m\n\u001b[0;32m----> 8\u001b[0;31m \u001b[0mprint\u001b[0m\u001b[0;34m(\u001b[0m\u001b[0mzebra\u001b[0m\u001b[0;34m)\u001b[0m\u001b[0;34m\u001b[0m\u001b[0;34m\u001b[0m\u001b[0m\n\u001b[0m\u001b[1;32m      9\u001b[0m \u001b[0;31m# Enclosing Namespace (within a function) (until the function execution)\u001b[0m\u001b[0;34m\u001b[0m\u001b[0;34m\u001b[0m\u001b[0m\n\u001b[1;32m     10\u001b[0m \u001b[0;31m# Global Namespace (within a program) (until the program execution)\u001b[0m\u001b[0;34m\u001b[0m\u001b[0;34m\u001b[0m\u001b[0m\n",
            "\u001b[0;31mNameError\u001b[0m: name 'zebra' is not defined"
          ]
        }
      ]
    },
    {
      "cell_type": "code",
      "source": [
        "# Enclosing(Non-local) Namespace (within a function) (until the function execution)\n",
        "def outer_function():\n",
        "  x = 20\n",
        "\n",
        "  def inner_function():\n",
        "    print(x) # Accessimg variable from the enclosig(outer) namespace\n",
        "  inner_function()\n",
        "\n",
        "outer_function()"
      ],
      "metadata": {
        "colab": {
          "base_uri": "https://localhost:8080/"
        },
        "id": "wK27Q94rmHMy",
        "outputId": "e81dba8b-829f-4563-829c-f8341d811cc7"
      },
      "execution_count": null,
      "outputs": [
        {
          "output_type": "stream",
          "name": "stdout",
          "text": [
            "20\n"
          ]
        }
      ]
    },
    {
      "cell_type": "code",
      "source": [
        "# Enclosing(Non-local) Namespace (within a function) (until the function execution)\n",
        "def outer_function():\n",
        "  x = 20\n",
        "\n",
        "  def inner_function():\n",
        "    nonlocal x\n",
        "    print(x) # Accessimg variable from the enclosig(outer) namespace\n",
        "  inner_function()\n",
        "\n",
        "outer_function()"
      ],
      "metadata": {
        "colab": {
          "base_uri": "https://localhost:8080/"
        },
        "id": "gBGCKD4Pm6qD",
        "outputId": "c257e7f7-3fe3-44a9-8fba-dc8e3fdc97b9"
      },
      "execution_count": null,
      "outputs": [
        {
          "output_type": "stream",
          "name": "stdout",
          "text": [
            "20\n"
          ]
        }
      ]
    },
    {
      "cell_type": "code",
      "source": [
        "# Global Namespace (within a program) (until the program execution)\n",
        "x = 50\n",
        "\n",
        "def my_func():\n",
        "  print(x) # Accessing variable from the global namespace\n",
        "\n",
        "my_func()\n",
        "print(x)"
      ],
      "metadata": {
        "colab": {
          "base_uri": "https://localhost:8080/"
        },
        "id": "rNPzcgfImKcX",
        "outputId": "dc8b1dfb-9a34-41db-d2bc-e32ce1277351"
      },
      "execution_count": null,
      "outputs": [
        {
          "output_type": "stream",
          "name": "stdout",
          "text": [
            "50\n",
            "50\n"
          ]
        }
      ]
    },
    {
      "cell_type": "code",
      "source": [
        "# Bulit-in Namespace (No scope) (No life)\n",
        "print(len([1,2,3]))"
      ],
      "metadata": {
        "colab": {
          "base_uri": "https://localhost:8080/"
        },
        "id": "nQRU1ZtyoN3D",
        "outputId": "c985c084-981f-487d-dbbb-ed85b9325acb"
      },
      "execution_count": null,
      "outputs": [
        {
          "output_type": "stream",
          "name": "stdout",
          "text": [
            "3\n"
          ]
        }
      ]
    }
  ]
}