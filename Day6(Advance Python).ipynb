{
  "nbformat": 4,
  "nbformat_minor": 0,
  "metadata": {
    "colab": {
      "provenance": [],
      "authorship_tag": "ABX9TyPb4DFaW58AIIXrb6lKWAnG"
    },
    "kernelspec": {
      "name": "python3",
      "display_name": "Python 3"
    },
    "language_info": {
      "name": "python"
    }
  },
  "cells": [
    {
      "cell_type": "code",
      "execution_count": 1,
      "metadata": {
        "id": "9ZkqSn5v7k1X"
      },
      "outputs": [],
      "source": [
        "# Immutability"
      ]
    },
    {
      "cell_type": "code",
      "source": [
        "# Iterate using index\n",
        "l1 = [12, 20, 30, 40, 50]\n",
        "\n",
        "for i in range(0, len(l1)):\n",
        "  print(i)"
      ],
      "metadata": {
        "colab": {
          "base_uri": "https://localhost:8080/"
        },
        "id": "5fL0ApnM-SiH",
        "outputId": "5eef2a60-bb1b-4a06-f68c-cc9a61a194ab"
      },
      "execution_count": 2,
      "outputs": [
        {
          "output_type": "stream",
          "name": "stdout",
          "text": [
            "0\n",
            "1\n",
            "2\n",
            "3\n",
            "4\n"
          ]
        }
      ]
    },
    {
      "cell_type": "code",
      "source": [
        "# Iterate\n",
        "l1 = [12, 20, 30, 40, 50]\n",
        "\n",
        "for i in l1:\n",
        "  print(i)"
      ],
      "metadata": {
        "colab": {
          "base_uri": "https://localhost:8080/"
        },
        "id": "4BQEnZ-Z-2Ww",
        "outputId": "2bbec23b-237c-4cd2-96ac-5a6d62aa5d9c"
      },
      "execution_count": 3,
      "outputs": [
        {
          "output_type": "stream",
          "name": "stdout",
          "text": [
            "12\n",
            "20\n",
            "30\n",
            "40\n",
            "50\n"
          ]
        }
      ]
    },
    {
      "cell_type": "code",
      "source": [
        "# Generator (always have at least one yield )\n",
        "def generate_numbers():\n",
        "  for num in range(1, 11):\n",
        "    yield generate_numbers\n",
        "\n",
        "# Create the generator\n",
        "number_generator = list(generate_numbers())\n",
        "print(type(number_generator))\n",
        "\n",
        "for i in number_generator:\n",
        "  print(generate_numbers)"
      ],
      "metadata": {
        "colab": {
          "base_uri": "https://localhost:8080/"
        },
        "id": "SfNmWwD1_BY5",
        "outputId": "d94998d0-c0bf-427f-d2d1-3d99b40bf378"
      },
      "execution_count": 21,
      "outputs": [
        {
          "output_type": "stream",
          "name": "stdout",
          "text": [
            "<class 'list'>\n",
            "<function generate_numbers at 0x79f83b47fa60>\n",
            "<function generate_numbers at 0x79f83b47fa60>\n",
            "<function generate_numbers at 0x79f83b47fa60>\n",
            "<function generate_numbers at 0x79f83b47fa60>\n",
            "<function generate_numbers at 0x79f83b47fa60>\n",
            "<function generate_numbers at 0x79f83b47fa60>\n",
            "<function generate_numbers at 0x79f83b47fa60>\n",
            "<function generate_numbers at 0x79f83b47fa60>\n",
            "<function generate_numbers at 0x79f83b47fa60>\n",
            "<function generate_numbers at 0x79f83b47fa60>\n"
          ]
        }
      ]
    },
    {
      "cell_type": "code",
      "source": [
        "#Subroutines (Non-premptive processes) (Efficiency decreases)\n",
        "\n",
        "#Coroutines (Premptive processes) (Efficiency increases)\n",
        "# Mutlti tasking\n",
        "def print_name(prefix):\n",
        "  print(\"Searching prefix: {}\".format(prefix))\n",
        "  while True:\n",
        "        name = (yield) # Passes all the values using send() function\n",
        "        if prefix in name:\n",
        "          print(name)\n",
        "\n",
        "corou = print_name(\"Dear\") # Step 1\n",
        "\n",
        "corou.__next__()\n",
        "\n",
        "corou.send(\"Atul\")\n",
        "corou.send(\"Dear Atul\")"
      ],
      "metadata": {
        "colab": {
          "base_uri": "https://localhost:8080/"
        },
        "id": "5ID_KKpZBM4n",
        "outputId": "bde32bab-6ea1-41f6-8412-7ed2518b40a8"
      },
      "execution_count": 19,
      "outputs": [
        {
          "output_type": "stream",
          "name": "stdout",
          "text": [
            "Searching prefix: Dear\n",
            "Dear Atul\n"
          ]
        }
      ]
    }
  ]
}