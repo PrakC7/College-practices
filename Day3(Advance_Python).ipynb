{
  "nbformat": 4,
  "nbformat_minor": 0,
  "metadata": {
    "colab": {
      "provenance": [],
      "authorship_tag": "ABX9TyOP3sozeIwBjLIAcEEqO5oB"
    },
    "kernelspec": {
      "name": "python3",
      "display_name": "Python 3"
    },
    "language_info": {
      "name": "python"
    }
  },
  "cells": [
    {
      "cell_type": "code",
      "execution_count": 4,
      "metadata": {
        "colab": {
          "base_uri": "https://localhost:8080/"
        },
        "id": "LmYYCtn6Vbzk",
        "outputId": "b69ae314-8ec8-4c68-cd51-ba6590fa0b5e"
      },
      "outputs": [
        {
          "output_type": "stream",
          "name": "stdout",
          "text": [
            "Title name: Python\n",
            "Author name: Balagauswamy\n",
            "Number 0f pages: 400\n"
          ]
        }
      ],
      "source": [
        "# Book Details\n",
        "class Book:\n",
        "  def __init__(self,title,author,pages):\n",
        "    self.title = title\n",
        "    self.author = author\n",
        "    self.pages = pages\n",
        "\n",
        "  def details(self):\n",
        "    print(\"Title name:\",self.title)\n",
        "    print(\"Author name:\",self.author)\n",
        "    print(\"Number 0f pages:\",self.pages)\n",
        "\n",
        "b1 = Book(\"Python\", \"Balagauswamy\", 400)\n",
        "b1.details()"
      ]
    },
    {
      "cell_type": "code",
      "source": [
        "# Employee Details\n",
        "class Employee:\n",
        "  company_name = 'Tech Mahindra'\n",
        "\n",
        "  def __init__(self,Employee_name,ID):\n",
        "    self.Employee_name = Employee_name\n",
        "    self.ID = ID\n",
        "\n",
        "  def details(self):\n",
        "    print(\"Company Name:\",Employee.company_name)\n",
        "    print(\"Employee Name:\",self.Employee_name)\n",
        "    print(\"ID Name:\",self.ID)\n",
        "\n",
        "E1 = Employee(\"Alok\", \"ABC123\")\n",
        "E1.details()"
      ],
      "metadata": {
        "colab": {
          "base_uri": "https://localhost:8080/"
        },
        "id": "t2uTpaTldKDR",
        "outputId": "25099677-1d8d-441e-eded-874a7c2ae6e8"
      },
      "execution_count": 10,
      "outputs": [
        {
          "output_type": "stream",
          "name": "stdout",
          "text": [
            "Company Name: Tech Mahindra\n",
            "Employee Name: Alok\n",
            "ID Name: ABC123\n"
          ]
        }
      ]
    },
    {
      "cell_type": "code",
      "source": [
        "# Cicle area and Circumference\n",
        "import math\n",
        "\n",
        "class Circle:\n",
        "  def __init__(self, radius):\n",
        "    self.radius = radius\n",
        "\n",
        "  def area(self):\n",
        "    return math.pi * self.radius ** 2\n",
        "\n",
        "  def circumference(self):\n",
        "    return 2*math.pi * self.radius\n",
        "\n",
        "c1 = Circle(5)\n",
        "print(\"Area of circle:\",c1.area())\n",
        "print(\"Circumference of circle:\",c1.circumference())\n"
      ],
      "metadata": {
        "colab": {
          "base_uri": "https://localhost:8080/"
        },
        "id": "PfuLyXuCfrq6",
        "outputId": "df3652fb-3696-4fbe-a4ff-2365fe5f9ea3"
      },
      "execution_count": 12,
      "outputs": [
        {
          "output_type": "stream",
          "name": "stdout",
          "text": [
            "Area of circle: 78.53981633974483\n",
            "Circumference of circle: 31.41592653589793\n"
          ]
        }
      ]
    },
    {
      "cell_type": "code",
      "source": [
        "# Student Details\n",
        "class Student:\n",
        "  college_name = \"Noida Institute of Engineering & Technology\"\n",
        "\n",
        "  def __init__(self,name,student_ID):\n",
        "    self.name = name\n",
        "    self.student_ID = student_ID\n",
        "\n",
        "  @classmethod\n",
        "  def change_cname(cls, new_name):\n",
        "    cls.college_name = new_name\n",
        "\n",
        "  def details(self):\n",
        "    print(\"College name:\",Student.college_name)\n",
        "    print(\"Student name:\",self.name)\n",
        "    print(\"Student ID:\",self.student_ID)\n",
        "\n",
        "s1 = Student(\"Priyanshu\",\"0241CSAI120\")\n",
        "s1.details()\n",
        "\n",
        "Student.change_cname(\"Indian Institute of Technology\")\n",
        "\n",
        "s2 = Student(\"Ved Prakash\",\"001\")\n",
        "s2.details()"
      ],
      "metadata": {
        "colab": {
          "base_uri": "https://localhost:8080/"
        },
        "id": "h1GEubz_jYVV",
        "outputId": "06247a0b-38ad-4068-a8b8-f45b096b1f16"
      },
      "execution_count": 21,
      "outputs": [
        {
          "output_type": "stream",
          "name": "stdout",
          "text": [
            "College name: Noida Institute of Engineering & Technology\n",
            "Student name: Priyanshu\n",
            "Student ID: 0241CSAI120\n",
            "College name: Indian Institute of Technology\n",
            "Student name: Ved Prakash\n",
            "Student ID: 001\n"
          ]
        }
      ]
    },
    {
      "cell_type": "code",
      "source": [
        "# Movie Details\n",
        "class Movie:\n",
        "  def __init__(self,title='Unknown',director='Unknown',rating=0.0):\n",
        "    self.title = title\n",
        "    self.director = director\n",
        "    self.rating = rating\n",
        "\n",
        "  def details(self):\n",
        "    print(\"Movie:\",self.title)\n",
        "    print(\"Director:\",self.director)\n",
        "    print(\"Rating:\",self.rating)\n",
        "\n",
        "#Parametrized Constructor\n",
        "m1 = Movie(\"Kung Fu Panda\",\"Mark Osborne, John Stevenson\", 7.6)\n",
        "m1.details()\n",
        "\n",
        "print(\"\")\n",
        "\n",
        "#Default Constructor\n",
        "m2 = Movie()\n",
        "m2.details()"
      ],
      "metadata": {
        "colab": {
          "base_uri": "https://localhost:8080/"
        },
        "id": "Pl6XMGECn0DT",
        "outputId": "36731a8c-3e39-45c3-9cef-2427a836c0b7"
      },
      "execution_count": 25,
      "outputs": [
        {
          "output_type": "stream",
          "name": "stdout",
          "text": [
            "Movie: Kung Fu Panda\n",
            "Director: Mark Osborne, John Stevenson\n",
            "Rating: 7.6\n",
            "\n",
            "Movie: Unknown\n",
            "Director: Unknown\n",
            "Rating: 0.0\n"
          ]
        }
      ]
    },
    {
      "cell_type": "code",
      "source": [
        "# Bank Account Details\n",
        "\n",
        "class BankAccount():\n",
        "  bank_name = \"Default Bank\"\n",
        "\n",
        "  def __init__(self,account_holder,balance=0):\n",
        "    self.account_holder = account_holder\n",
        "    self.balance = balance\n",
        "\n",
        "  def deposit(self, amount):\n",
        "    if 0 < amount:\n",
        "      self.balance  += amount\n",
        "      print(\"Deposited Amount: {}\\nCurrent Balance {}\".format(amount,self.balance))\n",
        "    else:\n",
        "      print(\"Deposited Amount: 0\\nCurrent Balance {}\".format(self.balance))\n",
        "\n",
        "  def withdraw(self, amount):\n",
        "    if 0 < amount <= self.balance:\n",
        "      self.balance  -= amount\n",
        "      print(\"Widrawn Amount: {}\\nCurrent Balance {}\".format(amount,self.balance))\n",
        "    else:\n",
        "      print(\"Insufficient balance\\nCurrent Balance {}\".format(self.balance))\n",
        "\n",
        "  @classmethod\n",
        "  def change_bank_name(cls, new_name):\n",
        "    cls.bank_name = new_name\n",
        "\n",
        "\n",
        "  def details(self):\n",
        "    print(\"Bank Name:\",BankAccount.bank_name)\n",
        "    print(\"Account Holder:\",self.account_holder)\n",
        "    print(\"Balance:\",self.balance)\n",
        "\n",
        "  @staticmethod\n",
        "  def validate_account(account_number):\n",
        "    if isinstance(BankAccount.bank_account, int) and len(BankAccount.bank_account) == 10:\n",
        "      print(\"Account is validated.\")\n",
        "      return True\n",
        "    else:\n",
        "      print(\"Account is invalid.\")\n",
        "    return False\n",
        "\n",
        "a1 = BankAccount(\"Priyanshu\",179000)\n",
        "a1.details()"
      ],
      "metadata": {
        "colab": {
          "base_uri": "https://localhost:8080/"
        },
        "id": "cRsxKBRcq8SW",
        "outputId": "74b9c747-27ae-49eb-a2fc-22c00a0d2cbf"
      },
      "execution_count": 27,
      "outputs": [
        {
          "output_type": "stream",
          "name": "stdout",
          "text": [
            "Bank Name: Default Bank\n",
            "Account Holder: Priyanshu\n",
            "Balance: 179000\n"
          ]
        }
      ]
    },
    {
      "cell_type": "code",
      "source": [],
      "metadata": {
        "id": "g4T5_FY2y0XW"
      },
      "execution_count": null,
      "outputs": []
    }
  ]
}