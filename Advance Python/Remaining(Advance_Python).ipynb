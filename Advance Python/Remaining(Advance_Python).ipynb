{
 "cells": [
  {
   "cell_type": "code",
   "execution_count": null,
   "id": "e9db4a26-a7d2-4d6d-b65c-3f8860f142a1",
   "metadata": {},
   "outputs": [],
   "source": [
    "from tkinter import *\n",
    "\n",
    "window = Tk()\n",
    "window.title(\"Hello, NIET!\")\n",
    "\n",
    "label = Label(window, text =\"Hello Students!\", font=(\"Arial Bold\", 20))\n",
    "label.config(bg = \"red\", fg = \"white\")\n",
    "label.pack()\n",
    "window.mainloop()"
   ]
  },
  {
   "cell_type": "code",
   "execution_count": null,
   "id": "5cedac2b-9bfe-48aa-8c4b-b6a1aca08496",
   "metadata": {},
   "outputs": [],
   "source": [
    "from tkinter import *\n",
    "\n",
    "window = Tk()\n",
    "window.title(\"Hello, NIET!\")\n",
    "\n",
    "label = Label(window, text =\"Hello Students!\", font=(\"Arial Bold\", 20))\n",
    "label.config(bg = \"red\", fg = \"white\")\n",
    "label.pack()\n",
    "window.mainloop()"
   ]
  },
  {
   "cell_type": "code",
   "execution_count": null,
   "id": "169187c1-9b6d-472a-b78d-21be37366c26",
   "metadata": {},
   "outputs": [],
   "source": [
    "from tkinter import *\n",
    "\n",
    "window = Tk()\n",
    "window.title(\"Hello, NIET!\")\n",
    "\n",
    "label = Label(window, text =\"Hello Students!\", font=(\"Arial Bold\", 20))\n",
    "label.config(bg = \"red\", fg = \"white\")\n",
    "label.pack(side=\"top\", padx=40, pady=20)\n",
    "window.mainloop()"
   ]
  },
  {
   "cell_type": "code",
   "execution_count": null,
   "id": "29854402-388e-43dc-a41a-10daf6198b47",
   "metadata": {},
   "outputs": [],
   "source": [
    "from tkinter import *\n",
    "\n",
    "# Create the main window which is an object of Tk class\n",
    "window = Tk()\n",
    "window.title(\"Hello, NIET!\")\n",
    "\n",
    "def button_clicked():\n",
    "    buton.config(text=\"Good Job\",bg = \"red\", fg = \"white\")\n",
    "    \n",
    "button = Button(window, text =\"Hello Students! Click Me\", command=button_clicked, font=(\"Arial Bold\", 20))\n",
    "button.config(bg = \"red\", fg = \"white\")\n",
    "button.pack(side=\"top\", padx=40, pady=20)\n",
    "\n",
    "window.mainloop()"
   ]
  },
  {
   "cell_type": "code",
   "execution_count": null,
   "id": "2e50fdde-17b2-49f9-a35c-f0fd32a23258",
   "metadata": {},
   "outputs": [],
   "source": [
    "from tkinter import *\n",
    "\n",
    "# Create the main window which is an object of Tk class\n",
    "window = Tk()\n",
    "window.title(\"Hello, NIET!\")\n",
    "\n",
    "def button_clicked():\n",
    "    buton.config(text=\"Good Job\",bg = \"red\", fg = \"white\")\n",
    "    \n",
    "button = Button(window, text =\"Hello Students! Click Me\", command=button_clicked, font=(\"Arial Bold\", 20))\n",
    "button.config(bg = \"red\", fg = \"white\")\n",
    "button.pack(side=\"top\", padx=40, pady=20)\n",
    "\n",
    "window.mainloop()"
   ]
  },
  {
   "cell_type": "code",
   "execution_count": null,
   "id": "539e0c10-cce3-4b61-9100-e4f95de51bc1",
   "metadata": {},
   "outputs": [],
   "source": [
    "import tkinter as tk\n",
    "\n",
    "# Create the main window which is an object of Tk class\n",
    "window = tk.Tk()\n",
    "window.title(\"Scale Example\")\n",
    "window.geometry(\"800x200\")\n",
    "    \n",
    "scale = tk.Scale(window, from_=0, to=100, orient=tk.HORIZONTAL)\n",
    "scale.pack()\n",
    "\n",
    "window.mainloop()"
   ]
  },
  {
   "cell_type": "code",
   "execution_count": null,
   "id": "4ea1727a-48b5-46b8-834f-9664e06ccb26",
   "metadata": {},
   "outputs": [],
   "source": [
    "import tkinter as tk\n",
    "\n",
    "# Create the main window which is an object of Tk class\n",
    "window = tk.Tk()\n",
    "window.title(\"Spinbox Example\")\n",
    "window.geometry(\"800x200\")\n",
    "    \n",
    "scale = tk.Spinbox(window, from_=0, to=100)\n",
    "scale.pack()\n",
    "\n",
    "window.mainloop()"
   ]
  },
  {
   "cell_type": "code",
   "execution_count": null,
   "id": "ffa8a3e3-895c-490e-829a-f2672a80dfef",
   "metadata": {},
   "outputs": [],
   "source": [
    "import tkinter as tk\n",
    "\n",
    "window = Tk()\n",
    "window.title(\"Checkbutton Example\")\n",
    "window.geometry(\"800x200\")\n",
    "\n",
    "check_var = tk.BooleanVar()\n",
    "checkbutton = tk.Checkbutton(window, text=\"Check me\", variable=check_var)\n",
    "checkbutton.pack()\n",
    "\n",
    "window.mainloop()"
   ]
  },
  {
   "cell_type": "code",
   "execution_count": null,
   "id": "6d705db8-dfb5-4ed0-9bad-c19bbca4bfd6",
   "metadata": {},
   "outputs": [],
   "source": [
    "import tkinter as tk\n",
    "\n",
    "window = Tk()\n",
    "window.title(\"Radiobutton Example\")\n",
    "window.geometry(\"800x200\")\n",
    "\n",
    "radio_var = tk.StringVar()\n",
    "radiobutton1 = tk.Radiobutton(window, text=\"Male\", variable=radio_var, value=\"Male\")\n",
    "radiobutton2 = tk.Radiobutton(window, text=\"Female\", variable=radio_var, value=\"Female\")\n",
    "\n",
    "radiobutton1.pack()\n",
    "radiobutton2.pack()\n",
    "\n",
    "window.mainloop()"
   ]
  },
  {
   "cell_type": "code",
   "execution_count": null,
   "id": "d9ab8d4d-6b95-4c20-8f39-583e24fc535c",
   "metadata": {},
   "outputs": [],
   "source": [
    "import tkinter as tk\n",
    "\n",
    "window = Tk()\n",
    "window.title(\"Listbox Example\")\n",
    "window.geometry(\"800x200\")\n",
    "\n",
    "listbox = tk.Listbox(window)\n",
    "listbox.insert(1, \"Option 1\")\n",
    "listbox.insert(2, \"Option 2\")\n",
    "listbox.insert(3, \"Option 3\")\n",
    "listbox.pack()\n",
    "\n",
    "window.mainloop()"
   ]
  },
  {
   "cell_type": "code",
   "execution_count": null,
   "id": "2ae7808d-bbef-4622-8dce-b93e2c08de49",
   "metadata": {},
   "outputs": [],
   "source": [
    "import tkinter as tk\n",
    "from tkinter.ttk import Combobox\n",
    "from tkinter.ttk import Label\n",
    "\n",
    "window = tk.Tk()\n",
    "window.title(\"Combobox Example\")\n",
    "window.geometry(\"800x200\")\n",
    "\n",
    "def combobox_selected(event):\n",
    "    selected_value = combobox_get()\n",
    "    label.config(text=f\"Selected: {selected_value}\")\n",
    "    \n",
    "label = Label(window, text=\"Select an Option: \")\n",
    "label.pack(padx=40, pady=20)\n",
    "\n",
    "options = [\"Option 1\", \"Option 2\", \"Option 3\"]\n",
    "combobox = Combobox(window, values=options)\n",
    "combobox.pack(padx=40, pady=20)\n",
    "\n",
    "combobox.bind(\"<<ComboboxSelected>>\", combobox_selected)\n",
    "\n",
    "window.mainloop()"
   ]
  },
  {
   "cell_type": "code",
   "execution_count": null,
   "id": "60a95daa",
   "metadata": {},
   "outputs": [],
   "source": [
    "from tkinter import *\n",
    "\n",
    "window = tk.Tk()\n",
    "window.title(\"String Example\")\n",
    "window.geometry(\"800x200\")\n",
    "\n",
    "label = Label(window, text=\"Enter here\").pack(pady=10)\n",
    "entry = Entry(window)\n",
    "entry.pack()\n",
    "\n",
    "window.mainloop()"
   ]
  },
  {
   "cell_type": "code",
   "execution_count": 28,
   "id": "b369f195",
   "metadata": {},
   "outputs": [
    {
     "name": "stdout",
     "output_type": "stream",
     "text": [
      ".!label2\n"
     ]
    }
   ],
   "source": [
    "from tkinter import *\n",
    "\n",
    "window = Tk()\n",
    "window.title(\"Login Form\")\n",
    "\n",
    "username_label = Label(window, text=\"Username: \")\n",
    "username_label.pack(padx=40, pady=20)\n",
    "\n",
    "password_label = Label(window, text=\"Password: \")  # ✅ Define it\n",
    "password_label.pack(padx=40, pady=20)  \n",
    "print(password_label)"
   ]
  },
  {
   "cell_type": "code",
   "execution_count": 30,
   "id": "43187732",
   "metadata": {},
   "outputs": [],
   "source": [
    "from tkinter import *\n",
    "from tkcalendar import DateEntry\n",
    "\n",
    "root = tk.Tk()\n",
    "root.title(\"Date Picker Example\")\n",
    "root.geometry(\"800x200\")\n",
    "\n",
    "# Create a DateEntry widget\n",
    "date_entry = DateEntry(root)\n",
    "date_entry.pack()\n",
    "\n",
    "root.mainloop()"
   ]
  },
  {
   "cell_type": "code",
   "execution_count": null,
   "id": "c483d135",
   "metadata": {},
   "outputs": [],
   "source": [
    "import pandas as pd\n",
    "import pandas as pd\n",
    "\n",
    "ser_2 = pd.Series([1, 1, 2, -3, -5], index = ['a','b', 'c', 'd', 'e'])\n",
    "print(ser_2)"
   ]
  },
  {
   "cell_type": "code",
   "execution_count": null,
   "id": "33e61e16",
   "metadata": {},
   "outputs": [],
   "source": [
    "ser_2[ser_2 > 0]"
   ]
  },
  {
   "cell_type": "code",
   "execution_count": null,
   "id": "5f151ef1",
   "metadata": {},
   "outputs": [],
   "source": [
    "print(ser_2)\n",
    "print(ser_2*2)"
   ]
  },
  {
   "cell_type": "code",
   "execution_count": 17,
   "id": "0993000a",
   "metadata": {},
   "outputs": [
    {
     "data": {
      "text/plain": [
       "a    2.718282\n",
       "b    2.718282\n",
       "c    7.389056\n",
       "d    0.049787\n",
       "e    0.006738\n",
       "dtype: float64"
      ]
     },
     "execution_count": 17,
     "metadata": {},
     "output_type": "execute_result"
    }
   ],
   "source": [
    "import numpy as np\n",
    "np.exp(ser_2)"
   ]
  },
  {
   "cell_type": "code",
   "execution_count": 16,
   "id": "ae200ea4",
   "metadata": {},
   "outputs": [
    {
     "name": "stdout",
     "output_type": "stream",
     "text": [
      "{'foo': 100, 'bar': 200, 'baz': 300}\n",
      "foo    100\n",
      "bar    200\n",
      "baz    300\n",
      "dtype: int64\n"
     ]
    }
   ],
   "source": [
    "import pandas as pd\n",
    "\n",
    "dict_1 = {'foo' : 100, 'bar' : 200, 'baz' : 300}\n",
    "ser_3 = pd.Series(dict_1)\n",
    "print(dict_1)\n",
    "print(ser_3)"
   ]
  },
  {
   "cell_type": "code",
   "execution_count": 15,
   "id": "3d52483e",
   "metadata": {},
   "outputs": [
    {
     "data": {
      "text/plain": [
       "baz    300.0\n",
       "bar    200.0\n",
       "foo    100.0\n",
       "qux      NaN\n",
       "dtype: float64"
      ]
     },
     "execution_count": 15,
     "metadata": {},
     "output_type": "execute_result"
    }
   ],
   "source": [
    "import pandas as pd\n",
    "\n",
    "index = {'foo', 'bar', 'baz', 'qux'}\n",
    "ser_4 = pd.Series(dict_1, index=index)\n",
    "ser_4"
   ]
  },
  {
   "cell_type": "code",
   "execution_count": 18,
   "id": "d4809b5a",
   "metadata": {},
   "outputs": [
    {
     "data": {
      "text/plain": [
       "baz    False\n",
       "bar    False\n",
       "foo    False\n",
       "qux     True\n",
       "dtype: bool"
      ]
     },
     "execution_count": 18,
     "metadata": {},
     "output_type": "execute_result"
    }
   ],
   "source": [
    "pd.isnull(ser_4)"
   ]
  },
  {
   "cell_type": "code",
   "execution_count": 20,
   "id": "4c6c451d",
   "metadata": {},
   "outputs": [
    {
     "name": "stdout",
     "output_type": "stream",
     "text": [
      "foo    100\n",
      "bar    200\n",
      "baz    300\n",
      "dtype: int64\n",
      "----------------------------------------------------\n",
      "baz    300.0\n",
      "bar    200.0\n",
      "foo    100.0\n",
      "qux      NaN\n",
      "dtype: float64\n",
      "----------------------------------------------------\n",
      "bar    400.0\n",
      "baz    600.0\n",
      "foo    200.0\n",
      "qux      NaN\n",
      "dtype: float64\n",
      "----------------------------------------------------\n"
     ]
    }
   ],
   "source": [
    "print(ser_3)\n",
    "print(\"----------------------------------------------------\")\n",
    "print(ser_4)\n",
    "print(\"----------------------------------------------------\")\n",
    "print(ser_3+ser_4)\n",
    "print(\"----------------------------------------------------\")"
   ]
  },
  {
   "cell_type": "code",
   "execution_count": 22,
   "id": "f770c09b",
   "metadata": {},
   "outputs": [
    {
     "data": {
      "text/plain": [
       "label\n",
       "baz    300.0\n",
       "bar    200.0\n",
       "foo    100.0\n",
       "qux      NaN\n",
       "Name: foobarbazqux, dtype: float64"
      ]
     },
     "execution_count": 22,
     "metadata": {},
     "output_type": "execute_result"
    }
   ],
   "source": [
    "ser_4.name = 'foobarbazqux'\n",
    "ser_4.index.name = 'label'\n",
    "ser_4"
   ]
  },
  {
   "cell_type": "code",
   "execution_count": 34,
   "id": "2e4186b4",
   "metadata": {},
   "outputs": [
    {
     "name": "stdout",
     "output_type": "stream",
     "text": [
      "{'state': ['VA', 'VA', 'VA', 'MD', 'MD'], 'year': [2010, 2011, 2012, 2010, 2011], 'pop': [5, 8, 5, 1, 5]}\n",
      "data_1\n",
      "  state  year  pop\n",
      "0    VA  2010    5\n",
      "1    VA  2011    8\n",
      "2    VA  2012    5\n",
      "3    MD  2010    1\n",
      "4    MD  2011    5\n"
     ]
    }
   ],
   "source": [
    "import pandas as pd\n",
    "\n",
    "data_1 = {\n",
    "    'state': ['VA', 'VA', 'VA', 'MD', 'MD'],\n",
    "    'year':  [2010, 2011, 2012, 2010, 2011],\n",
    "    'pop':   [5, 8, 5, 1, 5]  # ✅ Only 5 values\n",
    "}\n",
    "df_1 = pd.DataFrame(data_1)\n",
    "print(data_1)\n",
    "print('data_1')\n",
    "print(df_1)"
   ]
  },
  {
   "cell_type": "code",
   "execution_count": 35,
   "id": "549414aa",
   "metadata": {},
   "outputs": [
    {
     "data": {
      "text/html": [
       "<div>\n",
       "<style scoped>\n",
       "    .dataframe tbody tr th:only-of-type {\n",
       "        vertical-align: middle;\n",
       "    }\n",
       "\n",
       "    .dataframe tbody tr th {\n",
       "        vertical-align: top;\n",
       "    }\n",
       "\n",
       "    .dataframe thead th {\n",
       "        text-align: right;\n",
       "    }\n",
       "</style>\n",
       "<table border=\"1\" class=\"dataframe\">\n",
       "  <thead>\n",
       "    <tr style=\"text-align: right;\">\n",
       "      <th></th>\n",
       "      <th>year</th>\n",
       "      <th>state</th>\n",
       "      <th>pop</th>\n",
       "    </tr>\n",
       "  </thead>\n",
       "  <tbody>\n",
       "    <tr>\n",
       "      <th>0</th>\n",
       "      <td>2010</td>\n",
       "      <td>VA</td>\n",
       "      <td>5</td>\n",
       "    </tr>\n",
       "    <tr>\n",
       "      <th>1</th>\n",
       "      <td>2011</td>\n",
       "      <td>VA</td>\n",
       "      <td>8</td>\n",
       "    </tr>\n",
       "    <tr>\n",
       "      <th>2</th>\n",
       "      <td>2012</td>\n",
       "      <td>VA</td>\n",
       "      <td>5</td>\n",
       "    </tr>\n",
       "    <tr>\n",
       "      <th>3</th>\n",
       "      <td>2010</td>\n",
       "      <td>MD</td>\n",
       "      <td>1</td>\n",
       "    </tr>\n",
       "    <tr>\n",
       "      <th>4</th>\n",
       "      <td>2011</td>\n",
       "      <td>MD</td>\n",
       "      <td>5</td>\n",
       "    </tr>\n",
       "  </tbody>\n",
       "</table>\n",
       "</div>"
      ],
      "text/plain": [
       "   year state  pop\n",
       "0  2010    VA    5\n",
       "1  2011    VA    8\n",
       "2  2012    VA    5\n",
       "3  2010    MD    1\n",
       "4  2011    MD    5"
      ]
     },
     "execution_count": 35,
     "metadata": {},
     "output_type": "execute_result"
    }
   ],
   "source": [
    "import pandas as pd\n",
    "\n",
    "\n",
    "df_2 = pd.DataFrame(data_1, columns = ['year', 'state', 'pop'])\n",
    "df_2"
   ]
  },
  {
   "cell_type": "code",
   "execution_count": 36,
   "id": "9f9be90b",
   "metadata": {},
   "outputs": [
    {
     "data": {
      "text/html": [
       "<div>\n",
       "<style scoped>\n",
       "    .dataframe tbody tr th:only-of-type {\n",
       "        vertical-align: middle;\n",
       "    }\n",
       "\n",
       "    .dataframe tbody tr th {\n",
       "        vertical-align: top;\n",
       "    }\n",
       "\n",
       "    .dataframe thead th {\n",
       "        text-align: right;\n",
       "    }\n",
       "</style>\n",
       "<table border=\"1\" class=\"dataframe\">\n",
       "  <thead>\n",
       "    <tr style=\"text-align: right;\">\n",
       "      <th></th>\n",
       "      <th>year</th>\n",
       "      <th>state</th>\n",
       "      <th>pop</th>\n",
       "      <th>unemp</th>\n",
       "    </tr>\n",
       "  </thead>\n",
       "  <tbody>\n",
       "    <tr>\n",
       "      <th>0</th>\n",
       "      <td>2010</td>\n",
       "      <td>VA</td>\n",
       "      <td>5</td>\n",
       "      <td>NaN</td>\n",
       "    </tr>\n",
       "    <tr>\n",
       "      <th>1</th>\n",
       "      <td>2011</td>\n",
       "      <td>VA</td>\n",
       "      <td>8</td>\n",
       "      <td>NaN</td>\n",
       "    </tr>\n",
       "    <tr>\n",
       "      <th>2</th>\n",
       "      <td>2012</td>\n",
       "      <td>VA</td>\n",
       "      <td>5</td>\n",
       "      <td>NaN</td>\n",
       "    </tr>\n",
       "    <tr>\n",
       "      <th>3</th>\n",
       "      <td>2010</td>\n",
       "      <td>MD</td>\n",
       "      <td>1</td>\n",
       "      <td>NaN</td>\n",
       "    </tr>\n",
       "    <tr>\n",
       "      <th>4</th>\n",
       "      <td>2011</td>\n",
       "      <td>MD</td>\n",
       "      <td>5</td>\n",
       "      <td>NaN</td>\n",
       "    </tr>\n",
       "  </tbody>\n",
       "</table>\n",
       "</div>"
      ],
      "text/plain": [
       "   year state  pop unemp\n",
       "0  2010    VA    5   NaN\n",
       "1  2011    VA    8   NaN\n",
       "2  2012    VA    5   NaN\n",
       "3  2010    MD    1   NaN\n",
       "4  2011    MD    5   NaN"
      ]
     },
     "execution_count": 36,
     "metadata": {},
     "output_type": "execute_result"
    }
   ],
   "source": [
    "import pandas as pd\n",
    "\n",
    "\n",
    "df_3 = pd.DataFrame(data_1, columns = ['year', 'state', 'pop', 'unemp'])\n",
    "df_3"
   ]
  },
  {
   "cell_type": "code",
   "execution_count": 37,
   "id": "486a64a1",
   "metadata": {},
   "outputs": [
    {
     "data": {
      "text/plain": [
       "0    VA\n",
       "1    VA\n",
       "2    VA\n",
       "3    MD\n",
       "4    MD\n",
       "Name: state, dtype: object"
      ]
     },
     "execution_count": 37,
     "metadata": {},
     "output_type": "execute_result"
    }
   ],
   "source": [
    "df_3['state']"
   ]
  },
  {
   "cell_type": "code",
   "execution_count": 38,
   "id": "6a094bf0",
   "metadata": {},
   "outputs": [
    {
     "data": {
      "text/plain": [
       "0    VA\n",
       "1    VA\n",
       "2    VA\n",
       "3    MD\n",
       "4    MD\n",
       "Name: state, dtype: object"
      ]
     },
     "execution_count": 38,
     "metadata": {},
     "output_type": "execute_result"
    }
   ],
   "source": [
    "df_3.state"
   ]
  },
  {
   "cell_type": "code",
   "execution_count": null,
   "id": "0afbe40d",
   "metadata": {},
   "outputs": [
    {
     "name": "stdout",
     "output_type": "stream",
     "text": [
      "   year state  pop unemp\n",
      "0  2010    VA    5   NaN\n",
      "1  2011    VA    8   NaN\n",
      "2  2012    VA    5   NaN\n",
      "3  2010    MD    1   NaN\n",
      "4  2011    MD    5   NaN\n",
      "-------------------------------------------------\n",
      "year     2011\n",
      "state      VA\n",
      "pop         8\n",
      "unemp     NaN\n",
      "Name: 1, dtype: object\n"
     ]
    }
   ],
   "source": [
    "# Retrieve a row by position\n",
    "print(df_3)\n",
    "print(\"-------------------------------------------------\")\n",
    "print(df_3.iloc[1])"
   ]
  },
  {
   "cell_type": "code",
   "execution_count": null,
   "id": "1d987558",
   "metadata": {},
   "outputs": [
    {
     "data": {
      "text/html": [
       "<div>\n",
       "<style scoped>\n",
       "    .dataframe tbody tr th:only-of-type {\n",
       "        vertical-align: middle;\n",
       "    }\n",
       "\n",
       "    .dataframe tbody tr th {\n",
       "        vertical-align: top;\n",
       "    }\n",
       "\n",
       "    .dataframe thead th {\n",
       "        text-align: right;\n",
       "    }\n",
       "</style>\n",
       "<table border=\"1\" class=\"dataframe\">\n",
       "  <thead>\n",
       "    <tr style=\"text-align: right;\">\n",
       "      <th></th>\n",
       "      <th>year</th>\n",
       "      <th>state</th>\n",
       "      <th>pop</th>\n",
       "      <th>unemp</th>\n",
       "    </tr>\n",
       "  </thead>\n",
       "  <tbody>\n",
       "    <tr>\n",
       "      <th>0</th>\n",
       "      <td>2010</td>\n",
       "      <td>VA</td>\n",
       "      <td>5</td>\n",
       "      <td>0</td>\n",
       "    </tr>\n",
       "    <tr>\n",
       "      <th>1</th>\n",
       "      <td>2011</td>\n",
       "      <td>VA</td>\n",
       "      <td>8</td>\n",
       "      <td>1</td>\n",
       "    </tr>\n",
       "    <tr>\n",
       "      <th>2</th>\n",
       "      <td>2012</td>\n",
       "      <td>VA</td>\n",
       "      <td>5</td>\n",
       "      <td>2</td>\n",
       "    </tr>\n",
       "    <tr>\n",
       "      <th>3</th>\n",
       "      <td>2010</td>\n",
       "      <td>MD</td>\n",
       "      <td>1</td>\n",
       "      <td>3</td>\n",
       "    </tr>\n",
       "    <tr>\n",
       "      <th>4</th>\n",
       "      <td>2011</td>\n",
       "      <td>MD</td>\n",
       "      <td>5</td>\n",
       "      <td>4</td>\n",
       "    </tr>\n",
       "  </tbody>\n",
       "</table>\n",
       "</div>"
      ],
      "text/plain": [
       "   year state  pop  unemp\n",
       "0  2010    VA    5      0\n",
       "1  2011    VA    8      1\n",
       "2  2012    VA    5      2\n",
       "3  2010    MD    1      3\n",
       "4  2011    MD    5      4"
      ]
     },
     "execution_count": 42,
     "metadata": {},
     "output_type": "execute_result"
    }
   ],
   "source": [
    "# Assigning values to unemp column\n",
    "df_3['unemp'] = np.arange(5)\n",
    "df_3"
   ]
  },
  {
   "cell_type": "code",
   "execution_count": 44,
   "id": "21ca4c90",
   "metadata": {},
   "outputs": [
    {
     "data": {
      "text/html": [
       "<div>\n",
       "<style scoped>\n",
       "    .dataframe tbody tr th:only-of-type {\n",
       "        vertical-align: middle;\n",
       "    }\n",
       "\n",
       "    .dataframe tbody tr th {\n",
       "        vertical-align: top;\n",
       "    }\n",
       "\n",
       "    .dataframe thead th {\n",
       "        text-align: right;\n",
       "    }\n",
       "</style>\n",
       "<table border=\"1\" class=\"dataframe\">\n",
       "  <thead>\n",
       "    <tr style=\"text-align: right;\">\n",
       "      <th></th>\n",
       "      <th>year</th>\n",
       "      <th>state</th>\n",
       "      <th>pop</th>\n",
       "      <th>unemp</th>\n",
       "    </tr>\n",
       "  </thead>\n",
       "  <tbody>\n",
       "    <tr>\n",
       "      <th>0</th>\n",
       "      <td>2010</td>\n",
       "      <td>VA</td>\n",
       "      <td>5</td>\n",
       "      <td>NaN</td>\n",
       "    </tr>\n",
       "    <tr>\n",
       "      <th>1</th>\n",
       "      <td>2011</td>\n",
       "      <td>VA</td>\n",
       "      <td>8</td>\n",
       "      <td>NaN</td>\n",
       "    </tr>\n",
       "    <tr>\n",
       "      <th>2</th>\n",
       "      <td>2012</td>\n",
       "      <td>VA</td>\n",
       "      <td>5</td>\n",
       "      <td>6.0</td>\n",
       "    </tr>\n",
       "    <tr>\n",
       "      <th>3</th>\n",
       "      <td>2010</td>\n",
       "      <td>MD</td>\n",
       "      <td>1</td>\n",
       "      <td>6.0</td>\n",
       "    </tr>\n",
       "    <tr>\n",
       "      <th>4</th>\n",
       "      <td>2011</td>\n",
       "      <td>MD</td>\n",
       "      <td>5</td>\n",
       "      <td>6.1</td>\n",
       "    </tr>\n",
       "  </tbody>\n",
       "</table>\n",
       "</div>"
      ],
      "text/plain": [
       "   year state  pop  unemp\n",
       "0  2010    VA    5    NaN\n",
       "1  2011    VA    8    NaN\n",
       "2  2012    VA    5    6.0\n",
       "3  2010    MD    1    6.0\n",
       "4  2011    MD    5    6.1"
      ]
     },
     "execution_count": 44,
     "metadata": {},
     "output_type": "execute_result"
    }
   ],
   "source": [
    "# Assigning a Series to unemp column\n",
    "import pandas as pd\n",
    "\n",
    "unemp1 = pd.Series([6.0, 6.0, 6.1], [2, 3, 4])\n",
    "df_3['unemp'] = unemp1\n",
    "df_3"
   ]
  },
  {
   "cell_type": "code",
   "execution_count": null,
   "id": "c778839a",
   "metadata": {},
   "outputs": [
    {
     "data": {
      "text/html": [
       "<div>\n",
       "<style scoped>\n",
       "    .dataframe tbody tr th:only-of-type {\n",
       "        vertical-align: middle;\n",
       "    }\n",
       "\n",
       "    .dataframe tbody tr th {\n",
       "        vertical-align: top;\n",
       "    }\n",
       "\n",
       "    .dataframe thead th {\n",
       "        text-align: right;\n",
       "    }\n",
       "</style>\n",
       "<table border=\"1\" class=\"dataframe\">\n",
       "  <thead>\n",
       "    <tr style=\"text-align: right;\">\n",
       "      <th></th>\n",
       "      <th>year</th>\n",
       "      <th>state</th>\n",
       "      <th>pop</th>\n",
       "      <th>unemp</th>\n",
       "      <th>state_dup</th>\n",
       "    </tr>\n",
       "  </thead>\n",
       "  <tbody>\n",
       "    <tr>\n",
       "      <th>0</th>\n",
       "      <td>2010</td>\n",
       "      <td>VA</td>\n",
       "      <td>5</td>\n",
       "      <td>NaN</td>\n",
       "      <td>VA</td>\n",
       "    </tr>\n",
       "    <tr>\n",
       "      <th>1</th>\n",
       "      <td>2011</td>\n",
       "      <td>VA</td>\n",
       "      <td>8</td>\n",
       "      <td>NaN</td>\n",
       "      <td>VA</td>\n",
       "    </tr>\n",
       "    <tr>\n",
       "      <th>2</th>\n",
       "      <td>2012</td>\n",
       "      <td>VA</td>\n",
       "      <td>5</td>\n",
       "      <td>6.0</td>\n",
       "      <td>VA</td>\n",
       "    </tr>\n",
       "    <tr>\n",
       "      <th>3</th>\n",
       "      <td>2010</td>\n",
       "      <td>MD</td>\n",
       "      <td>1</td>\n",
       "      <td>6.0</td>\n",
       "      <td>MD</td>\n",
       "    </tr>\n",
       "    <tr>\n",
       "      <th>4</th>\n",
       "      <td>2011</td>\n",
       "      <td>MD</td>\n",
       "      <td>5</td>\n",
       "      <td>6.1</td>\n",
       "      <td>MD</td>\n",
       "    </tr>\n",
       "  </tbody>\n",
       "</table>\n",
       "</div>"
      ],
      "text/plain": [
       "   year state  pop  unemp state_dup\n",
       "0  2010    VA    5    NaN        VA\n",
       "1  2011    VA    8    NaN        VA\n",
       "2  2012    VA    5    6.0        VA\n",
       "3  2010    MD    1    6.0        MD\n",
       "4  2011    MD    5    6.1        MD"
      ]
     },
     "execution_count": 46,
     "metadata": {},
     "output_type": "execute_result"
    }
   ],
   "source": [
    "# Assigning same value to new column\n",
    "df_3['state_dup'] = df_3['state']\n",
    "df_3"
   ]
  },
  {
   "cell_type": "code",
   "execution_count": 48,
   "id": "4c2d9d67",
   "metadata": {},
   "outputs": [
    {
     "data": {
      "text/html": [
       "<div>\n",
       "<style scoped>\n",
       "    .dataframe tbody tr th:only-of-type {\n",
       "        vertical-align: middle;\n",
       "    }\n",
       "\n",
       "    .dataframe tbody tr th {\n",
       "        vertical-align: top;\n",
       "    }\n",
       "\n",
       "    .dataframe thead th {\n",
       "        text-align: right;\n",
       "    }\n",
       "</style>\n",
       "<table border=\"1\" class=\"dataframe\">\n",
       "  <thead>\n",
       "    <tr style=\"text-align: right;\">\n",
       "      <th></th>\n",
       "      <th>year</th>\n",
       "      <th>state</th>\n",
       "      <th>pop</th>\n",
       "      <th>unemp</th>\n",
       "    </tr>\n",
       "  </thead>\n",
       "  <tbody>\n",
       "    <tr>\n",
       "      <th>0</th>\n",
       "      <td>2010</td>\n",
       "      <td>VA</td>\n",
       "      <td>5</td>\n",
       "      <td>NaN</td>\n",
       "    </tr>\n",
       "    <tr>\n",
       "      <th>1</th>\n",
       "      <td>2011</td>\n",
       "      <td>VA</td>\n",
       "      <td>8</td>\n",
       "      <td>NaN</td>\n",
       "    </tr>\n",
       "    <tr>\n",
       "      <th>2</th>\n",
       "      <td>2012</td>\n",
       "      <td>VA</td>\n",
       "      <td>5</td>\n",
       "      <td>6.0</td>\n",
       "    </tr>\n",
       "    <tr>\n",
       "      <th>3</th>\n",
       "      <td>2010</td>\n",
       "      <td>MD</td>\n",
       "      <td>1</td>\n",
       "      <td>6.0</td>\n",
       "    </tr>\n",
       "    <tr>\n",
       "      <th>4</th>\n",
       "      <td>2011</td>\n",
       "      <td>MD</td>\n",
       "      <td>5</td>\n",
       "      <td>6.1</td>\n",
       "    </tr>\n",
       "  </tbody>\n",
       "</table>\n",
       "</div>"
      ],
      "text/plain": [
       "   year state  pop  unemp\n",
       "0  2010    VA    5    NaN\n",
       "1  2011    VA    8    NaN\n",
       "2  2012    VA    5    6.0\n",
       "3  2010    MD    1    6.0\n",
       "4  2011    MD    5    6.1"
      ]
     },
     "execution_count": 48,
     "metadata": {},
     "output_type": "execute_result"
    }
   ],
   "source": [
    "# Deleting the column\n",
    "del df_3['state_dup']\n",
    "df_3"
   ]
  },
  {
   "cell_type": "code",
   "execution_count": null,
   "id": "d092fc65",
   "metadata": {},
   "outputs": [
    {
     "data": {
      "text/html": [
       "<div>\n",
       "<style scoped>\n",
       "    .dataframe tbody tr th:only-of-type {\n",
       "        vertical-align: middle;\n",
       "    }\n",
       "\n",
       "    .dataframe tbody tr th {\n",
       "        vertical-align: top;\n",
       "    }\n",
       "\n",
       "    .dataframe thead th {\n",
       "        text-align: right;\n",
       "    }\n",
       "</style>\n",
       "<table border=\"1\" class=\"dataframe\">\n",
       "  <thead>\n",
       "    <tr style=\"text-align: right;\">\n",
       "      <th></th>\n",
       "      <th>VA</th>\n",
       "      <th>MD</th>\n",
       "    </tr>\n",
       "  </thead>\n",
       "  <tbody>\n",
       "    <tr>\n",
       "      <th>2013</th>\n",
       "      <td>5.1</td>\n",
       "      <td>NaN</td>\n",
       "    </tr>\n",
       "    <tr>\n",
       "      <th>2014</th>\n",
       "      <td>5.2</td>\n",
       "      <td>4.0</td>\n",
       "    </tr>\n",
       "    <tr>\n",
       "      <th>2015</th>\n",
       "      <td>NaN</td>\n",
       "      <td>4.1</td>\n",
       "    </tr>\n",
       "  </tbody>\n",
       "</table>\n",
       "</div>"
      ],
      "text/plain": [
       "       VA   MD\n",
       "2013  5.1  NaN\n",
       "2014  5.2  4.0\n",
       "2015  NaN  4.1"
      ]
     },
     "execution_count": 50,
     "metadata": {},
     "output_type": "execute_result"
    }
   ],
   "source": [
    "# Creating a DataFrame from a dictionary\n",
    "pop = {'VA' : {2013 : 5.1, 2014 : 5.2},\n",
    "       'MD' : {2014 : 4.0, 2015: 4.1}\n",
    "}\n",
    "df_4 = pd.DataFrame(pop)\n",
    "df_4"
   ]
  },
  {
   "cell_type": "code",
   "execution_count": 51,
   "id": "67102fe9",
   "metadata": {},
   "outputs": [
    {
     "data": {
      "text/html": [
       "<div>\n",
       "<style scoped>\n",
       "    .dataframe tbody tr th:only-of-type {\n",
       "        vertical-align: middle;\n",
       "    }\n",
       "\n",
       "    .dataframe tbody tr th {\n",
       "        vertical-align: top;\n",
       "    }\n",
       "\n",
       "    .dataframe thead th {\n",
       "        text-align: right;\n",
       "    }\n",
       "</style>\n",
       "<table border=\"1\" class=\"dataframe\">\n",
       "  <thead>\n",
       "    <tr style=\"text-align: right;\">\n",
       "      <th></th>\n",
       "      <th>2013</th>\n",
       "      <th>2014</th>\n",
       "      <th>2015</th>\n",
       "    </tr>\n",
       "  </thead>\n",
       "  <tbody>\n",
       "    <tr>\n",
       "      <th>VA</th>\n",
       "      <td>5.1</td>\n",
       "      <td>5.2</td>\n",
       "      <td>NaN</td>\n",
       "    </tr>\n",
       "    <tr>\n",
       "      <th>MD</th>\n",
       "      <td>NaN</td>\n",
       "      <td>4.0</td>\n",
       "      <td>4.1</td>\n",
       "    </tr>\n",
       "  </tbody>\n",
       "</table>\n",
       "</div>"
      ],
      "text/plain": [
       "    2013  2014  2015\n",
       "VA   5.1   5.2   NaN\n",
       "MD   NaN   4.0   4.1"
      ]
     },
     "execution_count": 51,
     "metadata": {},
     "output_type": "execute_result"
    }
   ],
   "source": [
    "# Tranpose of DataFrame\n",
    "df_4.T"
   ]
  },
  {
   "cell_type": "code",
   "execution_count": 56,
   "id": "4c0965e1",
   "metadata": {},
   "outputs": [
    {
     "name": "stdout",
     "output_type": "stream",
     "text": [
      "       VA   MD\n",
      "2013  5.1  NaN\n",
      "2014  5.2  4.0\n",
      "2015  NaN  4.1\n"
     ]
    },
    {
     "data": {
      "text/html": [
       "<div>\n",
       "<style scoped>\n",
       "    .dataframe tbody tr th:only-of-type {\n",
       "        vertical-align: middle;\n",
       "    }\n",
       "\n",
       "    .dataframe tbody tr th {\n",
       "        vertical-align: top;\n",
       "    }\n",
       "\n",
       "    .dataframe thead th {\n",
       "        text-align: right;\n",
       "    }\n",
       "</style>\n",
       "<table border=\"1\" class=\"dataframe\">\n",
       "  <thead>\n",
       "    <tr style=\"text-align: right;\">\n",
       "      <th></th>\n",
       "      <th>VA</th>\n",
       "      <th>MD</th>\n",
       "    </tr>\n",
       "  </thead>\n",
       "  <tbody>\n",
       "    <tr>\n",
       "      <th>2014</th>\n",
       "      <td>5.2</td>\n",
       "      <td>NaN</td>\n",
       "    </tr>\n",
       "    <tr>\n",
       "      <th>2015</th>\n",
       "      <td>NaN</td>\n",
       "      <td>4.1</td>\n",
       "    </tr>\n",
       "  </tbody>\n",
       "</table>\n",
       "</div>"
      ],
      "text/plain": [
       "       VA   MD\n",
       "2014  5.2  NaN\n",
       "2015  NaN  4.1"
      ]
     },
     "execution_count": 56,
     "metadata": {},
     "output_type": "execute_result"
    }
   ],
   "source": [
    "# Creating a DataFrame from a dictionary of series\n",
    "print(df_4)\n",
    "data_2 = {'VA' : df_4['VA'][1:],\n",
    "       'MD' : df_4['MD'][2:]\n",
    "}\n",
    "df_5 = pd.DataFrame(data_2)\n",
    "df_5"
   ]
  },
  {
   "cell_type": "code",
   "execution_count": 57,
   "id": "cb3ed3b7",
   "metadata": {},
   "outputs": [
    {
     "data": {
      "text/html": [
       "<div>\n",
       "<style scoped>\n",
       "    .dataframe tbody tr th:only-of-type {\n",
       "        vertical-align: middle;\n",
       "    }\n",
       "\n",
       "    .dataframe tbody tr th {\n",
       "        vertical-align: top;\n",
       "    }\n",
       "\n",
       "    .dataframe thead th {\n",
       "        text-align: right;\n",
       "    }\n",
       "</style>\n",
       "<table border=\"1\" class=\"dataframe\">\n",
       "  <thead>\n",
       "    <tr style=\"text-align: right;\">\n",
       "      <th></th>\n",
       "      <th>VA</th>\n",
       "      <th>MD</th>\n",
       "    </tr>\n",
       "    <tr>\n",
       "      <th>year</th>\n",
       "      <th></th>\n",
       "      <th></th>\n",
       "    </tr>\n",
       "  </thead>\n",
       "  <tbody>\n",
       "    <tr>\n",
       "      <th>2014</th>\n",
       "      <td>5.2</td>\n",
       "      <td>NaN</td>\n",
       "    </tr>\n",
       "    <tr>\n",
       "      <th>2015</th>\n",
       "      <td>NaN</td>\n",
       "      <td>4.1</td>\n",
       "    </tr>\n",
       "  </tbody>\n",
       "</table>\n",
       "</div>"
      ],
      "text/plain": [
       "       VA   MD\n",
       "year          \n",
       "2014  5.2  NaN\n",
       "2015  NaN  4.1"
      ]
     },
     "execution_count": 57,
     "metadata": {},
     "output_type": "execute_result"
    }
   ],
   "source": [
    "df_5.index.name = 'year'\n",
    "df_5"
   ]
  }
 ],
 "metadata": {
  "kernelspec": {
   "display_name": "Python 3",
   "language": "python",
   "name": "python3"
  },
  "language_info": {
   "codemirror_mode": {
    "name": "ipython",
    "version": 3
   },
   "file_extension": ".py",
   "mimetype": "text/x-python",
   "name": "python",
   "nbconvert_exporter": "python",
   "pygments_lexer": "ipython3",
   "version": "3.13.3"
  }
 },
 "nbformat": 4,
 "nbformat_minor": 5
}
