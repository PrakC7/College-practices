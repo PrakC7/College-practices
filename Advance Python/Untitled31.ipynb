{
 "cells": [
  {
   "cell_type": "code",
   "execution_count": 5,
   "id": "e9db4a26-a7d2-4d6d-b65c-3f8860f142a1",
   "metadata": {},
   "outputs": [],
   "source": [
    "from tkinter import *\n",
    "\n",
    "window = Tk()\n",
    "window.title(\"Hello, NIET!\")\n",
    "\n",
    "label = Label(window, text =\"Hello Students!\", font=(\"Arial Bold\", 20))\n",
    "label.config(bg = \"red\", fg = \"white\")\n",
    "label.pack()\n",
    "window.mainloop()"
   ]
  },
  {
   "cell_type": "code",
   "execution_count": null,
   "id": "5cedac2b-9bfe-48aa-8c4b-b6a1aca08496",
   "metadata": {},
   "outputs": [],
   "source": [
    "from tkinter import *\n",
    "\n",
    "window = Tk()\n",
    "window.title(\"Hello, NIET!\")\n",
    "\n",
    "label = Label(window, text =\"Hello Students!\", font=(\"Arial Bold\", 20))\n",
    "label.config(bg = \"red\", fg = \"white\")\n",
    "label.pack()\n",
    "window.mainloop()"
   ]
  },
  {
   "cell_type": "code",
   "execution_count": 7,
   "id": "169187c1-9b6d-472a-b78d-21be37366c26",
   "metadata": {},
   "outputs": [],
   "source": [
    "from tkinter import *\n",
    "\n",
    "window = Tk()\n",
    "window.title(\"Hello, NIET!\")\n",
    "\n",
    "label = Label(window, text =\"Hello Students!\", font=(\"Arial Bold\", 20))\n",
    "label.config(bg = \"red\", fg = \"white\")\n",
    "label.pack(side=\"top\", padx=40, pady=20)\n",
    "window.mainloop()"
   ]
  },
  {
   "cell_type": "code",
   "execution_count": 14,
   "id": "29854402-388e-43dc-a41a-10daf6198b47",
   "metadata": {},
   "outputs": [],
   "source": [
    "from tkinter import *\n",
    "\n",
    "# Create the main window which is an object of Tk class\n",
    "window = Tk()\n",
    "window.title(\"Hello, NIET!\")\n",
    "\n",
    "def button_clicked():\n",
    "    buton.config(text=\"Good Job\",bg = \"red\", fg = \"white\")\n",
    "    \n",
    "button = Button(window, text =\"Hello Students! Click Me\", command=button_clicked, font=(\"Arial Bold\", 20))\n",
    "button.config(bg = \"red\", fg = \"white\")\n",
    "button.pack(side=\"top\", padx=40, pady=20)\n",
    "\n",
    "window.mainloop()"
   ]
  },
  {
   "cell_type": "code",
   "execution_count": null,
   "id": "2e50fdde-17b2-49f9-a35c-f0fd32a23258",
   "metadata": {},
   "outputs": [],
   "source": [
    "from tkinter import *\n",
    "\n",
    "# Create the main window which is an object of Tk class\n",
    "window = Tk()\n",
    "window.title(\"Hello, NIET!\")\n",
    "\n",
    "def button_clicked():\n",
    "    buton.config(text=\"Good Job\",bg = \"red\", fg = \"white\")\n",
    "    \n",
    "button = Button(window, text =\"Hello Students! Click Me\", command=button_clicked, font=(\"Arial Bold\", 20))\n",
    "button.config(bg = \"red\", fg = \"white\")\n",
    "button.pack(side=\"top\", padx=40, pady=20)\n",
    "\n",
    "window.mainloop()"
   ]
  },
  {
   "cell_type": "code",
   "execution_count": 30,
   "id": "539e0c10-cce3-4b61-9100-e4f95de51bc1",
   "metadata": {},
   "outputs": [],
   "source": [
    "import tkinter as tk\n",
    "\n",
    "# Create the main window which is an object of Tk class\n",
    "window = tk.Tk()\n",
    "window.title(\"Scale Example\")\n",
    "window.geometry(\"800x200\")\n",
    "    \n",
    "scale = tk.Scale(window, from_=0, to=100, orient=tk.HORIZONTAL)\n",
    "scale.pack()\n",
    "\n",
    "window.mainloop()"
   ]
  },
  {
   "cell_type": "code",
   "execution_count": 32,
   "id": "4ea1727a-48b5-46b8-834f-9664e06ccb26",
   "metadata": {},
   "outputs": [],
   "source": [
    "import tkinter as tk\n",
    "\n",
    "# Create the main window which is an object of Tk class\n",
    "window = tk.Tk()\n",
    "window.title(\"Spinbox Example\")\n",
    "window.geometry(\"800x200\")\n",
    "    \n",
    "scale = tk.Spinbox(window, from_=0, to=100)\n",
    "scale.pack()\n",
    "\n",
    "window.mainloop()"
   ]
  },
  {
   "cell_type": "code",
   "execution_count": 52,
   "id": "ffa8a3e3-895c-490e-829a-f2672a80dfef",
   "metadata": {},
   "outputs": [],
   "source": [
    "import tkinter as tk\n",
    "\n",
    "window = Tk()\n",
    "window.title(\"Checkbutton Example\")\n",
    "window.geometry(\"800x200\")\n",
    "\n",
    "check_var = tk.BooleanVar()\n",
    "checkbutton = tk.Checkbutton(window, text=\"Check me\", variable=check_var)\n",
    "checkbutton.pack()\n",
    "\n",
    "window.mainloop()"
   ]
  },
  {
   "cell_type": "code",
   "execution_count": 58,
   "id": "6d705db8-dfb5-4ed0-9bad-c19bbca4bfd6",
   "metadata": {},
   "outputs": [],
   "source": [
    "import tkinter as tk\n",
    "\n",
    "window = Tk()\n",
    "window.title(\"Radiobutton Example\")\n",
    "window.geometry(\"800x200\")\n",
    "\n",
    "radio_var = tk.StringVar()\n",
    "radiobutton1 = tk.Radiobutton(window, text=\"Male\", variable=radio_var, value=\"Male\")\n",
    "radiobutton2 = tk.Radiobutton(window, text=\"Female\", variable=radio_var, value=\"Female\")\n",
    "\n",
    "radiobutton1.pack()\n",
    "radiobutton2.pack()\n",
    "\n",
    "window.mainloop()"
   ]
  },
  {
   "cell_type": "code",
   "execution_count": 62,
   "id": "d9ab8d4d-6b95-4c20-8f39-583e24fc535c",
   "metadata": {},
   "outputs": [],
   "source": [
    "import tkinter as tk\n",
    "\n",
    "window = Tk()\n",
    "window.title(\"Radiobutton Example\")\n",
    "window.geometry(\"800x200\")\n",
    "\n",
    "listbox = tk.Listbox(window)\n",
    "listbox.insert(1, \"Option 1\")\n",
    "listbox.insert(2, \"Option 2\")\n",
    "listbox.insert(3, \"Option 3\")\n",
    "listbox.pack()\n",
    "\n",
    "window.mainloop()"
   ]
  },
  {
   "cell_type": "code",
   "execution_count": null,
   "id": "2ae7808d-bbef-4622-8dce-b93e2c08de49",
   "metadata": {},
   "outputs": [],
   "source": []
  }
 ],
 "metadata": {
  "kernelspec": {
   "display_name": "Python [conda env:base] *",
   "language": "python",
   "name": "conda-base-py"
  },
  "language_info": {
   "codemirror_mode": {
    "name": "ipython",
    "version": 3
   },
   "file_extension": ".py",
   "mimetype": "text/x-python",
   "name": "python",
   "nbconvert_exporter": "python",
   "pygments_lexer": "ipython3",
   "version": "3.12.7"
  }
 },
 "nbformat": 4,
 "nbformat_minor": 5
}
