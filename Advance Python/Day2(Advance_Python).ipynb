{
  "nbformat": 4,
  "nbformat_minor": 0,
  "metadata": {
    "colab": {
      "provenance": []
    },
    "kernelspec": {
      "name": "python3",
      "display_name": "Python 3"
    },
    "language_info": {
      "name": "python"
    }
  },
  "cells": [
    {
      "cell_type": "code",
      "execution_count": null,
      "metadata": {
        "id": "19lv6N54Ju8K",
        "colab": {
          "base_uri": "https://localhost:8080/"
        },
        "outputId": "a18be585-d55d-41e2-970d-411149f12c89"
      },
      "outputs": [
        {
          "output_type": "stream",
          "name": "stdout",
          "text": [
            "['HELLO', 'THIS', 'IS', 'PRAKHAR']\n"
          ]
        }
      ],
      "source": [
        "# List\n",
        "words = ['hello','this', 'is', 'prakhar']\n",
        "uppercase = [word.upper() for word in words]\n",
        "print(uppercase)"
      ]
    },
    {
      "cell_type": "code",
      "source": [
        "# Tuple\n",
        "tup = (\"apple\", \"banana\", \"cherry\")\n",
        "print(tup)"
      ],
      "metadata": {
        "colab": {
          "base_uri": "https://localhost:8080/"
        },
        "id": "CsgRXgGUNUA5",
        "outputId": "eb9703ab-3ce7-4c33-ce9b-f55e82f12515"
      },
      "execution_count": null,
      "outputs": [
        {
          "output_type": "stream",
          "name": "stdout",
          "text": [
            "('apple', 'banana', 'cherry')\n"
          ]
        }
      ]
    },
    {
      "cell_type": "code",
      "source": [
        "# Change in tuple using list\n",
        "x = (\"apple\", \"banana\", \"cherry\")\n",
        "y = list(x)\n",
        "y[1] = \"kiwi\"\n",
        "x = tuple(y)\n",
        "print(x)"
      ],
      "metadata": {
        "colab": {
          "base_uri": "https://localhost:8080/"
        },
        "id": "a_Y4ReRNONv5",
        "outputId": "afb5a231-dac1-4233-e926-29c205b0d732"
      },
      "execution_count": null,
      "outputs": [
        {
          "output_type": "stream",
          "name": "stdout",
          "text": [
            "('apple', 'kiwi', 'cherry')\n"
          ]
        }
      ]
    },
    {
      "cell_type": "code",
      "source": [
        "# Assigning one tuple values to the other\n",
        "(a,b,c) = (1,2,3)\n",
        "print(a,b,c)"
      ],
      "metadata": {
        "colab": {
          "base_uri": "https://localhost:8080/"
        },
        "id": "B_knhRb_Ow5q",
        "outputId": "618b8648-4f2a-4ffa-a1af-c812b25e9b9d"
      },
      "execution_count": null,
      "outputs": [
        {
          "output_type": "stream",
          "name": "stdout",
          "text": [
            "1 2 3\n"
          ]
        }
      ]
    },
    {
      "cell_type": "code",
      "source": [
        "# Tuple Assignment\n",
        "Tup1 = (100,200,300)\n",
        "(a,b,c) = Tup1\n",
        "print(a,b,c)"
      ],
      "metadata": {
        "colab": {
          "base_uri": "https://localhost:8080/"
        },
        "id": "pqSKCKp1Pm26",
        "outputId": "8341c33b-62d1-4ab1-bf78-c3f95b63dec3"
      },
      "execution_count": null,
      "outputs": [
        {
          "output_type": "stream",
          "name": "stdout",
          "text": [
            "100 200 300\n"
          ]
        }
      ]
    },
    {
      "cell_type": "code",
      "source": [
        "# Tuple\n",
        "# Membership Operator\n",
        "x = (\"apple\", \"banana\", \"cherry\")\n",
        "if \"apple\" in x:\n",
        "  print(\"Yes, apple is available.\")"
      ],
      "metadata": {
        "colab": {
          "base_uri": "https://localhost:8080/"
        },
        "id": "1XZIVFtdQw79",
        "outputId": "95b9904d-66d0-4391-f054-808414d4c88a"
      },
      "execution_count": null,
      "outputs": [
        {
          "output_type": "stream",
          "name": "stdout",
          "text": [
            "Yes, apple is available.\n"
          ]
        }
      ]
    },
    {
      "cell_type": "code",
      "source": [
        "# Length of tuple\n",
        "x = (\"apple\", \"banana\", \"cherry\")\n",
        "print(len(x))"
      ],
      "metadata": {
        "colab": {
          "base_uri": "https://localhost:8080/"
        },
        "id": "eCA7U7UnRZOc",
        "outputId": "a2359086-2089-4ae8-9e0f-487ed0623c0e"
      },
      "execution_count": null,
      "outputs": [
        {
          "output_type": "stream",
          "name": "stdout",
          "text": [
            "3\n"
          ]
        }
      ]
    },
    {
      "cell_type": "code",
      "source": [
        "# Joining tuples\n",
        "x = (\"apple\", \"banana\", \"cherry\")\n",
        "y = (1,2,3)\n",
        "z = x+y\n",
        "print(z)"
      ],
      "metadata": {
        "colab": {
          "base_uri": "https://localhost:8080/"
        },
        "id": "UqCjrG_gRnn6",
        "outputId": "457b1f4f-87a4-4869-b05d-f7f7216aa8bd"
      },
      "execution_count": null,
      "outputs": [
        {
          "output_type": "stream",
          "name": "stdout",
          "text": [
            "('apple', 'banana', 'cherry', 1, 2, 3)\n"
          ]
        }
      ]
    },
    {
      "cell_type": "code",
      "source": [
        "# Deleting tuple\n",
        "x = (\"apple\", \"banana\", \"cherry\")\n",
        "del x\n",
        "print(x) # This wil raise an error because the tupe no longer exists"
      ],
      "metadata": {
        "colab": {
          "base_uri": "https://localhost:8080/",
          "height": 176
        },
        "id": "C9bQUc4-RyxH",
        "outputId": "fe9634e2-4db1-42be-c320-985b44b4f43c"
      },
      "execution_count": null,
      "outputs": [
        {
          "output_type": "error",
          "ename": "NameError",
          "evalue": "name 'x' is not defined",
          "traceback": [
            "\u001b[0;31m---------------------------------------------------------------------------\u001b[0m",
            "\u001b[0;31mNameError\u001b[0m                                 Traceback (most recent call last)",
            "\u001b[0;32m<ipython-input-78-1725297358>\u001b[0m in \u001b[0;36m<cell line: 0>\u001b[0;34m()\u001b[0m\n\u001b[1;32m      2\u001b[0m \u001b[0mx\u001b[0m \u001b[0;34m=\u001b[0m \u001b[0;34m(\u001b[0m\u001b[0;34m\"apple\"\u001b[0m\u001b[0;34m,\u001b[0m \u001b[0;34m\"banana\"\u001b[0m\u001b[0;34m,\u001b[0m \u001b[0;34m\"cherry\"\u001b[0m\u001b[0;34m)\u001b[0m\u001b[0;34m\u001b[0m\u001b[0;34m\u001b[0m\u001b[0m\n\u001b[1;32m      3\u001b[0m \u001b[0;32mdel\u001b[0m \u001b[0mx\u001b[0m\u001b[0;34m\u001b[0m\u001b[0;34m\u001b[0m\u001b[0m\n\u001b[0;32m----> 4\u001b[0;31m \u001b[0mprint\u001b[0m\u001b[0;34m(\u001b[0m\u001b[0mx\u001b[0m\u001b[0;34m)\u001b[0m \u001b[0;31m# This wil raise an error because the tupe no longer exists\u001b[0m\u001b[0;34m\u001b[0m\u001b[0;34m\u001b[0m\u001b[0m\n\u001b[0m",
            "\u001b[0;31mNameError\u001b[0m: name 'x' is not defined"
          ]
        }
      ]
    },
    {
      "cell_type": "code",
      "source": [
        "# Defining Function\n",
        "def max_min(vals):\n",
        "  x = max(vals)\n",
        "  y = min(vals)\n",
        "  return(\"Max: \",x,\"Min:\",y)\n",
        "li = [10,56,43,32,76,26]\n",
        "print(max_min(li))"
      ],
      "metadata": {
        "id": "1Mb-rfKVTcJ5"
      },
      "execution_count": null,
      "outputs": []
    },
    {
      "cell_type": "code",
      "source": [
        "# Nested Tuple\n",
        "x = (1,2,3)\n",
        "y = ('Python','Java','C++')\n",
        "z=(x,y)\n",
        "print(z)"
      ],
      "metadata": {
        "id": "_l0OznXWTko6"
      },
      "execution_count": null,
      "outputs": []
    },
    {
      "cell_type": "code",
      "source": [
        "# Sets\n",
        "x = {\"apple\", \"banana\", \"cherry\"}\n",
        "print(x)"
      ],
      "metadata": {
        "id": "WXeRkzi3UBIp"
      },
      "execution_count": null,
      "outputs": []
    },
    {
      "cell_type": "code",
      "source": [
        "# Sets\n",
        "x = {\"apple\", \"banana\", \"cherry\"}\n",
        "for x in x:\n",
        "  print(x)"
      ],
      "metadata": {
        "id": "Z_j7ZfOEUZ9J"
      },
      "execution_count": null,
      "outputs": []
    },
    {
      "cell_type": "code",
      "source": [
        "# Removing Elements.\n",
        "y = {'Python','Java','C++'}\n",
        "y.remove(\"Java\")\n",
        "print(y)"
      ],
      "metadata": {
        "id": "tsn0EV8hVv-J"
      },
      "execution_count": null,
      "outputs": []
    },
    {
      "cell_type": "code",
      "source": [
        "# Dictionaries\n",
        "dict1 = {\n",
        "  \"brand\": \"Ford\",\n",
        "  \"model\": \"Mustang\",\n",
        "  \"year\": 1964\n",
        "}\n",
        "print(dict1)"
      ],
      "metadata": {
        "id": "sTY7oFZlVxZr"
      },
      "execution_count": null,
      "outputs": []
    },
    {
      "cell_type": "code",
      "source": [
        "# Function Definition\n",
        "def findsum(a,b): # def Keyword parenthesis name function block\n",
        "  result = a+b\n",
        "  return result\n",
        "x = float(input(\"Enter first number: \"))\n",
        "y = float(input(\"Enter second number: \"))\n",
        "z = findsum(x,y) # Function call x,y are called actual arguments and a,b are called formal arguments\n",
        "print(\"Sum:\",z)"
      ],
      "metadata": {
        "id": "kG7ljnkEWyMo"
      },
      "execution_count": null,
      "outputs": []
    },
    {
      "cell_type": "code",
      "source": [
        "# Function Definition\n",
        "def arithmetic(a,b): # def Keyword parenthesis name function block\n",
        "  add = a+b\n",
        "  sub = a-b\n",
        "  multiply = a*b\n",
        "  div = a/b\n",
        "  return add,sub,multiply,div\n",
        "\n",
        "x = float(input(\"Enter first number: \"))\n",
        "y = float(input(\"Enter second number: \"))\n",
        "z = arithmetic(x,y) # Function call x,y are called actual arguments and a,b are called formal arguments\n",
        "print(z)"
      ],
      "metadata": {
        "id": "gwcmaaGbY5Pq"
      },
      "execution_count": null,
      "outputs": []
    },
    {
      "cell_type": "code",
      "source": [
        "# Positional Arguments\n",
        "def candidate_name(a,b):\n",
        "  print(f\"Candidate Name: {a.title()} {b.title()}\")\n",
        "x = str(input(\"Enter first name: \"))\n",
        "y = str(input(\"Enter last name: \"))\n",
        "z = candidate_name(x,y)\n",
        "print(z)"
      ],
      "metadata": {
        "id": "_zsX7WhNZwfH"
      },
      "execution_count": null,
      "outputs": []
    },
    {
      "cell_type": "code",
      "source": [
        "# Default Arguments\n",
        "def candidate_name1(a,b=\"Kumar\"):\n",
        "  print(f\"Candidate Name: {a.title()} {b.title()}\")\n",
        "x = str(input(\"Enter first name: \"))\n",
        "y = str(input(\"Enter last name: \"))\n",
        "z = candidate_name1(\"Akash\")\n",
        "print(z)"
      ],
      "metadata": {
        "id": "yWEUZCOCbAdL"
      },
      "execution_count": null,
      "outputs": []
    },
    {
      "cell_type": "code",
      "source": [
        "# Default Arguments\n",
        "def candidate_name2(a,b=\"Kumar\"):\n",
        "  print(f\"Candidate Name: {a.title()} {b.title()}\")\n",
        "x = str(input(\"Enter first name: \"))\n",
        "y = str(input(\"Enter last name: \"))\n",
        "z = candidate_name2(\"Akash\",y)\n",
        "print(z)"
      ],
      "metadata": {
        "id": "c1j3bkh-cZA7"
      },
      "execution_count": null,
      "outputs": []
    },
    {
      "cell_type": "code",
      "source": [
        "\n",
        "def sum_num(a,*b):\n",
        "  result = a\n",
        "  for i in b:\n",
        "    result +=i\n",
        "  return result\n",
        "\n",
        "x = float(input(\"Enter first number: \"))\n",
        "y = float(input(\"Enter second number: \"))\n",
        "z = sum_num(x,y)\n",
        "print(z)"
      ],
      "metadata": {
        "id": "4kVDir6XcZzZ"
      },
      "execution_count": null,
      "outputs": []
    },
    {
      "cell_type": "code",
      "source": [
        "# Recursion Conditions:\n",
        "# 1.Base Case 2.Recursive Condition\n",
        "def fact(n):\n",
        "  if n == 1:\n",
        "    return 1\n",
        "  else:\n",
        "    return n*fact(n-1)\n",
        "num = int(input(\"Enter number: \"))\n",
        "print(fact(num))\n"
      ],
      "metadata": {
        "id": "cks1XPIjccga"
      },
      "execution_count": null,
      "outputs": []
    },
    {
      "cell_type": "code",
      "source": [
        "# Program = soul and process = body\n",
        "# process have a structure like (heap, stack, global, .exe) up to down\n",
        "# Activation record created for function call containing variables and"
      ],
      "metadata": {
        "id": "5unX3gbJiA55"
      },
      "execution_count": null,
      "outputs": []
    },
    {
      "cell_type": "code",
      "source": [
        "# Anonymous/Lambda Function\n",
        "result = lambda num1, num2, num3: num1+num2+num3\n",
        "num1 = float(input(\"Enter number:\"))\n",
        "num2 = float(input(\"Enter number:\"))\n",
        "num3 = float(input(\"Enter number:\"))\n",
        "print(result(num1,num2,num31))"
      ],
      "metadata": {
        "id": "IzrMmoAdke2H"
      },
      "execution_count": null,
      "outputs": []
    },
    {
      "cell_type": "code",
      "source": [
        "# Define a List of numbers\n",
        "numbers = [1,2,3,4,5,6,7,8,9,10]\n",
        "\n",
        "# Define a function to check if a number is even\n",
        "def is_even(n):\n",
        "  if n%2==0:\n",
        "    return True\n",
        "  return False\n",
        "\n",
        "# Use filter to get even numbers\n",
        "even_numbers=filter(is_even, numbers)\n",
        "\n",
        "# Convert the filter object to a list\n",
        "even_numbers_list = list(even_numbers)\n",
        "\n",
        "print(even_numbers_list)"
      ],
      "metadata": {
        "id": "2FpJzQ0Ll-a3"
      },
      "execution_count": null,
      "outputs": []
    },
    {
      "cell_type": "code",
      "source": [
        "# Define a List of numbers\n",
        "numbers = [1,2,3,4,5,6,7,8,9,10]\n",
        "\n",
        "#  Use filter with alambda function to get even numbers\n",
        "even_numbers=filter(lambda n: n%2 == 0, numbers)\n",
        "\n",
        "# Convert the filter object to a list\n",
        "even_numbers_list = list(even_numbers)\n",
        "\n",
        "print(even_numbers_list)\n"
      ],
      "metadata": {
        "id": "VzzUbUH1m0xJ"
      },
      "execution_count": null,
      "outputs": []
    },
    {
      "cell_type": "code",
      "source": [
        "# Mapping\n",
        "num_list = [10,5,12,78,6,1,7,9]\n",
        "cube_list = list(map(lambda x: x**3,num_list))\n",
        "print(cube_list)"
      ],
      "metadata": {
        "id": "PkK3q1fzoHrR"
      },
      "execution_count": null,
      "outputs": []
    },
    {
      "cell_type": "code",
      "source": [
        "# Largest Number\n",
        "from functools import reduce\n",
        "num_list = [20,12,52,22,72,19,7]\n",
        "large = reduce(lambda x,y:x if x>y else y,num_list)\n",
        "print(large)"
      ],
      "metadata": {
        "id": "Q_2kAvBIo8D5"
      },
      "execution_count": null,
      "outputs": []
    },
    {
      "cell_type": "code",
      "source": [
        "# Largest Number\n",
        "from functools import reduce\n",
        "\n",
        "#Define a List of numbers\n",
        "num = [20,12,52,22,72,19,7]\n",
        "large = reduce(lambda x,y:x if x>y else y,num)\n",
        "print(large)"
      ],
      "metadata": {
        "id": "4K8gTKHPpivb"
      },
      "execution_count": null,
      "outputs": []
    },
    {
      "cell_type": "code",
      "source": [
        "# Shopping Cart System\n",
        "cart = {}\n",
        "def add_item(name, price=100, qty=1):\n",
        "  cart[name] = cart.get(name, 0)+qty\n",
        "  print(f\"Added {qty} x {name}\")\n",
        "\n",
        "for i in range(3):\n",
        "  add_item(input(\"Item:\"), qty=int(input(\"qty:\")))\n",
        "print(cart)"
      ],
      "metadata": {
        "id": "q1yH99Gms6mX"
      },
      "execution_count": null,
      "outputs": []
    },
    {
      "cell_type": "code",
      "source": [
        "# Class\n",
        "class Greeting:\n",
        "  message = \"Hello, World!\" # Class variable\n",
        "\n",
        "  def say_hello(self): # Class method\n",
        "    print(self.message)\n",
        "\n",
        "# Create an object\n",
        "greet = Greeting() # Object Creation\n",
        "greet.say_hello()"
      ],
      "metadata": {
        "colab": {
          "base_uri": "https://localhost:8080/"
        },
        "id": "G7ELXcQe9Lef",
        "outputId": "ece12c8b-91ac-46ca-d864-956b5aceabce"
      },
      "execution_count": null,
      "outputs": [
        {
          "output_type": "stream",
          "name": "stdout",
          "text": [
            "Hello, World!\n"
          ]
        }
      ]
    },
    {
      "cell_type": "code",
      "source": [
        "# __init__() Method (Class initialise for specified object.)\n",
        "# Class Variable\n",
        "class Person:\n",
        "  def __init__(self, name, age, gender): # __init__ is constructors.\n",
        "    self.name = name # Instance variable\n",
        "    self.age = age\n",
        "    self.gender = gender\n",
        "  def show_details(self):\n",
        "    print('The name is {}, age is {} and gender is {}'.format(self.name,self.age,self.gender))\n",
        "\n",
        "# Create an object of person class\n",
        "p1 = Person('Nimit',35,'Male')\n",
        "p1.show_details()"
      ],
      "metadata": {
        "colab": {
          "base_uri": "https://localhost:8080/"
        },
        "id": "HrlYj5HmFo0l",
        "outputId": "6305fa64-3934-42b1-d0f8-986609cf9dde"
      },
      "execution_count": null,
      "outputs": [
        {
          "output_type": "stream",
          "name": "stdout",
          "text": [
            "The name is Nimit, age is 35 and gender is Male\n"
          ]
        }
      ]
    },
    {
      "cell_type": "code",
      "source": [
        "# Object Variable\n",
        "class Car:\n",
        "  wheel = 4 # Class Variable\n",
        "  def __init__(self, name): # __init__ is constructors.\n",
        "    self.name = name # Instance variable\n",
        "\n",
        "mercedes = Car(\"mercedes\")\n",
        "print(mercedes.wheel) # Access of class variable through object.\n",
        "print(Car.wheel) # Access of class variable through class.\n",
        "print(mercedes.name) # Access of instance variable through object."
      ],
      "metadata": {
        "colab": {
          "base_uri": "https://localhost:8080/"
        },
        "id": "N0MqHWH6JF92",
        "outputId": "4354c79d-274f-4128-a7f1-2dac20d0c7f0"
      },
      "execution_count": null,
      "outputs": [
        {
          "output_type": "stream",
          "name": "stdout",
          "text": [
            "4\n",
            "4\n",
            "mercedes\n"
          ]
        }
      ]
    },
    {
      "cell_type": "code",
      "source": [
        "# Object Variable\n",
        "class Employee:\n",
        "  office_name = \"ABC Corporation\" # Class Variable\n",
        "  def __init__(self, name, designation): # __init__ is constructors.\n",
        "    self.name = name # Instance variable\n",
        "    self.designation = designation\n",
        "  def show_details(self):\n",
        "    print(F\" Company Name: {Employee.office_name}\\n Name: {self.name} \\n Designation: {self.designation}\")\n",
        "\n",
        "emp1 = Employee(\"Mohit\",\"Tester\")\n",
        "emp1.show_details()"
      ],
      "metadata": {
        "colab": {
          "base_uri": "https://localhost:8080/"
        },
        "id": "kJT6S8BHKoFv",
        "outputId": "17979b2d-03b7-40f6-f710-b4e88150cae9"
      },
      "execution_count": null,
      "outputs": [
        {
          "output_type": "stream",
          "name": "stdout",
          "text": [
            " Company Name: ABC Corporation\n",
            " Name: Mohit \n",
            " Designation: Tester\n"
          ]
        }
      ]
    },
    {
      "cell_type": "code",
      "source": [
        "# Change in class variable will reflect to all the objects.\n",
        "# Change in object variable will not reflect to all the objects, but only to the object."
      ],
      "metadata": {
        "id": "Zuh9jAwBIrI3"
      },
      "execution_count": null,
      "outputs": []
    },
    {
      "cell_type": "code",
      "source": [
        "# Class Variable\n",
        "class Person:\n",
        "  def __init__(self, name, age): # __init__ is constructors.\n",
        "    self.name = name # Instance variable\n",
        "    self.age = age\n",
        "  def myfunc(abc):\n",
        "    print(\"Hello my name is \" + abc.name + \".\")\n",
        "\n",
        "p1 = Person(\"John\",36)\n",
        "p1.myfunc()"
      ],
      "metadata": {
        "id": "rE7C4ttsN9dY"
      },
      "execution_count": null,
      "outputs": []
    },
    {
      "cell_type": "code",
      "source": [
        "# Separating Odds and Evens\n",
        "class Number:\n",
        "  evens = []\n",
        "  odds = []\n",
        "  def __init__(self, num): # __init__ is constructors.\n",
        "    self.num = num\n",
        "    if num % 2 == 0:\n",
        "      Number.evens.append(num)\n",
        "    else:\n",
        "      Number.odds.append(num)\n",
        "\n",
        "N1 = Number(21)\n",
        "N2 = Number(32)\n",
        "N3 = Number(43)\n",
        "N4 = Number(54)\n",
        "N5 = Number(65)\n",
        "\n",
        "print(\"Even numbers are:\",Number.evens)\n",
        "print(\"Odd numbers are:\",Number.odds)"
      ],
      "metadata": {
        "colab": {
          "base_uri": "https://localhost:8080/"
        },
        "id": "QMRDTIk1N5SU",
        "outputId": "118e96cb-bc13-4de3-ce76-a82e14036ba5"
      },
      "execution_count": null,
      "outputs": [
        {
          "output_type": "stream",
          "name": "stdout",
          "text": [
            "Even numbers are; [32, 54]\n",
            "Odd numbers are; [21, 43, 65]\n"
          ]
        }
      ]
    },
    {
      "cell_type": "code",
      "source": [
        "# __str__() Method (What have to be printed for specified object.)\n",
        "class Person:\n",
        "  def __init__(self, name, age): # __init__ is constructors.\n",
        "    self.name = name # Instance variable\n",
        "    self.age = age\n",
        "\n",
        "  def __str__(self): # __str__ is constructors.\n",
        "    return 'The name is {}, age is {}.'.format(self.name,self.age)\n",
        "\n",
        "  def show_details(self):\n",
        "    print('The name is {}, age is {}.'.format(self.name,self.age))\n",
        "\n",
        "# Create an object of person class\n",
        "p = Person('Amit',35)\n",
        "print(p)"
      ],
      "metadata": {
        "colab": {
          "base_uri": "https://localhost:8080/"
        },
        "id": "bRaRIHD5Rt22",
        "outputId": "4fad9098-dcb7-4a40-c616-6a0d0be8425d"
      },
      "execution_count": null,
      "outputs": [
        {
          "output_type": "stream",
          "name": "stdout",
          "text": [
            "The name is Amit, age is 35.\n"
          ]
        }
      ]
    },
    {
      "cell_type": "code",
      "source": [
        "# Object Variable\n",
        "class Employee:\n",
        "  office_name = \"ABC Corporation\" # Class Variable\n",
        "  def __init__(self, name, position, salary): # __init__ is constructors.\n",
        "    self.name = name # Instance variable\n",
        "    self.position = position\n",
        "    self.salary = salary\n",
        "\n",
        "#Instance method to dispay employee details\n",
        "  def display_details(self):\n",
        "    print(F\" Employee Details:\\n Name: {self.name}\\nPosition: {self.position}\\nSalary: {self.salary}\")\n",
        "\n",
        "#Instance method to give raise of 5000\n",
        "  def display_details(self):\n",
        "    print(F\" Employee Details:\\n Name: {self.name}\\nPosition: {self.position}\\nSalary: {self.salary}\")\n",
        "\n",
        "#Instance method to update the employee's position\n",
        "  def update_position(self, new_position):\n",
        "    print(F\" Employee Details:\\n Name: {self.name}\\nPosition: {self.position}\\nSalary: {self.salary}\")\n",
        "\n",
        "# Creating an instance of Employee\n",
        "employee\n",
        "\n",
        "emp1 = Employee(\"Mohit\",\"Tester\")\n",
        "emp1.show_details()"
      ],
      "metadata": {
        "id": "_5dmHB1VRx6n"
      },
      "execution_count": null,
      "outputs": []
    },
    {
      "cell_type": "code",
      "source": [
        "class Student:\n",
        "  counter = 0\n",
        "  def __init__(self, name, marks):\n",
        "    self.name = name\n",
        "    self.marks = marks\n",
        "    Student.counter = Student.counter + 1\n",
        "\n",
        "  def msg(self):\n",
        "    print(\"Hello \"+self.name + \" you got \", self.marks, \"% marks\")\n",
        "  @classmethod # Decorator\n",
        "  def object_count(cls):\n",
        "    return cls.counter\n",
        "\n",
        "s1 = Student(\"Abishek\", 65)\n",
        "s2 = Student(\"Amit\", 89)\n",
        "\n",
        "print(Student.object_count())\n",
        "print(s1.object_count())"
      ],
      "metadata": {
        "colab": {
          "base_uri": "https://localhost:8080/"
        },
        "id": "NKIXzrcRUR8F",
        "outputId": "6590ba13-c181-44f4-cc77-12b9b18851bd"
      },
      "execution_count": null,
      "outputs": [
        {
          "output_type": "stream",
          "name": "stdout",
          "text": [
            "2\n",
            "2\n"
          ]
        }
      ]
    },
    {
      "cell_type": "code",
      "source": [
        "# Static Method (Class state cannot be changed by this method like its variables.)\n",
        "class MathOperations:\n",
        "  @staticmethod\n",
        "  def add_numbers(a,b):\n",
        "      return a + b\n",
        "\n",
        "  @staticmethod\n",
        "  def subtract_numbers(a,b):\n",
        "      return a - b\n",
        "\n",
        "obj = MathOperations()\n",
        "result_add = MathOperations.add_numbers(10,5) # called by className\n",
        "result_subtract = MathOperations.subtract_numbers(10,5) # called by objectName\n",
        "\n",
        "print(f\"Addition: {result_add}\")\n",
        "print(f\"Subtraction: {result_subtract}\")"
      ],
      "metadata": {
        "colab": {
          "base_uri": "https://localhost:8080/"
        },
        "id": "etxzHBFbXzdR",
        "outputId": "646e4574-3322-43f3-c46f-5e71940cca89"
      },
      "execution_count": null,
      "outputs": [
        {
          "output_type": "stream",
          "name": "stdout",
          "text": [
            "Addition: 15\n",
            "Subtraction: 5\n"
          ]
        }
      ]
    },
    {
      "cell_type": "code",
      "source": [
        "# Default Constructor (without any constructer initialisation starts autoatically)\n",
        "# Parametric Constructor (with any constructer)"
      ],
      "metadata": {
        "id": "91dkJSAbZwic"
      },
      "execution_count": null,
      "outputs": []
    },
    {
      "cell_type": "code",
      "source": [
        "class Student:\n",
        "  def __init__(self):\n",
        "    print(\"The First Constructor\")\n",
        "  def __init__(self):\n",
        "    print(\"The Second Constructor\")\n",
        "st = Student()"
      ],
      "metadata": {
        "colab": {
          "base_uri": "https://localhost:8080/"
        },
        "id": "jtYLwWwLb9QG",
        "outputId": "822ece30-79f4-4dae-ffaf-43f25ef61ca4"
      },
      "execution_count": null,
      "outputs": [
        {
          "output_type": "stream",
          "name": "stdout",
          "text": [
            "The Second Constructor\n"
          ]
        }
      ]
    },
    {
      "cell_type": "code",
      "source": [
        "class Person:\n",
        "  def __init__(self, name, age): # __init__ is constructors.\n",
        "    self.name = name # Instance variable\n",
        "    self.age = age\n",
        "\n",
        "# Create on instane of person\n",
        "person = Person(\"Alice\",30)\n",
        "\n",
        "# Use getattr to get the value of an attribute\n",
        "name = getattr(person, \"name\")\n",
        "print(f\"Name: {name}\") # Output: Name: Alice\n",
        "\n",
        "# Use setattr to set the value of an attribute\n",
        "setattr(person, \"age\", 31)\n",
        "print(f\"Updated Age: {person.age}\") # Output: Updated Age: 31\n",
        "\n",
        "# Use hasattr to get the value of an attribute\n",
        "has_name = hasattr(person, \"name\")\n",
        "print(f\"Has attribute 'name: {has_name}\") # Output: Has attribute 'name':True\n",
        "\n",
        "# Use delattr to delete an attribute\n",
        "delattr(person, \"age\")\n",
        "\n",
        "# Check if theattribute 'age' still exists after deletion\n",
        "has_age = hasattr(person,\"age\")\n",
        "print(f\"Has attribute 'age' after del\") # Output: Has attribute 'age' after deletion; False"
      ],
      "metadata": {
        "colab": {
          "base_uri": "https://localhost:8080/"
        },
        "id": "qEYrWwBVcjiC",
        "outputId": "8c921649-f455-46d8-949b-f7fb4d038415"
      },
      "execution_count": null,
      "outputs": [
        {
          "output_type": "stream",
          "name": "stdout",
          "text": [
            "Name: Alice\n",
            "Updated Age: 31\n",
            "Has attribute 'name: True\n",
            "Has attribute 'age' after del\n"
          ]
        }
      ]
    }
  ]
}