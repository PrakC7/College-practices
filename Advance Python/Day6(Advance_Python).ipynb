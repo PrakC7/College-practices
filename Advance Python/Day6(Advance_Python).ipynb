{
  "nbformat": 4,
  "nbformat_minor": 0,
  "metadata": {
    "colab": {
      "provenance": []
    },
    "kernelspec": {
      "name": "python3",
      "display_name": "Python 3"
    },
    "language_info": {
      "name": "python"
    }
  },
  "cells": [
    {
      "cell_type": "code",
      "source": [
        "# Iterate using index\n",
        "l1 = [12, 20, 30, 40, 50]\n",
        "\n",
        "for i in range(0, len(l1)):\n",
        "  print(i)"
      ],
      "metadata": {
        "colab": {
          "base_uri": "https://localhost:8080/"
        },
        "id": "5fL0ApnM-SiH",
        "outputId": "5eef2a60-bb1b-4a06-f68c-cc9a61a194ab"
      },
      "execution_count": null,
      "outputs": [
        {
          "output_type": "stream",
          "name": "stdout",
          "text": [
            "0\n",
            "1\n",
            "2\n",
            "3\n",
            "4\n"
          ]
        }
      ]
    },
    {
      "cell_type": "code",
      "source": [
        "# Iterate\n",
        "l1 = [12, 20, 30, 40, 50]\n",
        "\n",
        "for i in l1:\n",
        "  print(i)"
      ],
      "metadata": {
        "colab": {
          "base_uri": "https://localhost:8080/"
        },
        "id": "4BQEnZ-Z-2Ww",
        "outputId": "2bbec23b-237c-4cd2-96ac-5a6d62aa5d9c"
      },
      "execution_count": null,
      "outputs": [
        {
          "output_type": "stream",
          "name": "stdout",
          "text": [
            "12\n",
            "20\n",
            "30\n",
            "40\n",
            "50\n"
          ]
        }
      ]
    },
    {
      "cell_type": "code",
      "source": [
        "# Generator (always have at least one yield )\n",
        "def generate_numbers():\n",
        "  for num in range(1, 11):\n",
        "    yield generate_numbers\n",
        "\n",
        "# Create the generator\n",
        "number_generator = list(generate_numbers())\n",
        "print(type(number_generator))\n",
        "\n",
        "for i in number_generator:\n",
        "  print(generate_numbers)"
      ],
      "metadata": {
        "colab": {
          "base_uri": "https://localhost:8080/"
        },
        "id": "SfNmWwD1_BY5",
        "outputId": "d94998d0-c0bf-427f-d2d1-3d99b40bf378"
      },
      "execution_count": null,
      "outputs": [
        {
          "output_type": "stream",
          "name": "stdout",
          "text": [
            "<class 'list'>\n",
            "<function generate_numbers at 0x79f83b47fa60>\n",
            "<function generate_numbers at 0x79f83b47fa60>\n",
            "<function generate_numbers at 0x79f83b47fa60>\n",
            "<function generate_numbers at 0x79f83b47fa60>\n",
            "<function generate_numbers at 0x79f83b47fa60>\n",
            "<function generate_numbers at 0x79f83b47fa60>\n",
            "<function generate_numbers at 0x79f83b47fa60>\n",
            "<function generate_numbers at 0x79f83b47fa60>\n",
            "<function generate_numbers at 0x79f83b47fa60>\n",
            "<function generate_numbers at 0x79f83b47fa60>\n"
          ]
        }
      ]
    },
    {
      "cell_type": "code",
      "source": [
        "#Subroutines (Non-premptive processes) (Efficiency decreases)\n",
        "\n",
        "#Coroutines (Premptive processes) (Efficiency increases)\n",
        "# Mutlti tasking\n",
        "def print_name(prefix):\n",
        "  print(\"Searching prefix: {}\".format(prefix))\n",
        "  while True:\n",
        "        name = (yield) # Passes all the values using send() function\n",
        "        if prefix in name:\n",
        "          print(name)\n",
        "\n",
        "corou = print_name(\"Dear\") # Step 1\n",
        "\n",
        "corou.__next__()\n",
        "\n",
        "corou.send(\"Atul\")\n",
        "corou.send(\"Dear Atul\")\n",
        "corou.close() # It's import to clase the coroutine as if not it runs indefinitely"
      ],
      "metadata": {
        "colab": {
          "base_uri": "https://localhost:8080/"
        },
        "id": "5ID_KKpZBM4n",
        "outputId": "cab14b6b-e4e4-4bb1-a6d8-9a06fc86ad03"
      },
      "execution_count": null,
      "outputs": [
        {
          "output_type": "stream",
          "name": "stdout",
          "text": [
            "Searching prefix: Dear\n",
            "Dear Atul\n"
          ]
        }
      ]
    },
    {
      "cell_type": "code",
      "source": [
        "#Coroutines (Premptive processes) (Efficiency increases)\n",
        "# Mutlti tasking\n",
        "def print_name(prefix):\n",
        "  print(\"Searching prefix: {}\".format(prefix))\n",
        "  try:\n",
        "    while True:\n",
        "        name = (yield) # Passes all the values using send() function\n",
        "        if prefix in name:\n",
        "          print(name)\n",
        "\n",
        "  except GeneratorExit:\n",
        "    print(\"Closing coroutine!!\")\n",
        "\n",
        "corou = print_name(\"Dear\") # Step 1\n",
        "\n",
        "corou.__next__()\n",
        "\n",
        "corou.send(\"Atul\")\n",
        "corou.send(\"Dear Atul\")\n",
        "corou.close() # It's import to clase the coroutine as if not it runs indefinitely"
      ],
      "metadata": {
        "colab": {
          "base_uri": "https://localhost:8080/"
        },
        "id": "4_AS6sc7Lv8i",
        "outputId": "af4f7987-2777-4787-a15e-54533530d1c9"
      },
      "execution_count": null,
      "outputs": [
        {
          "output_type": "stream",
          "name": "stdout",
          "text": [
            "Searching prefix: Dear\n",
            "Dear Atul\n",
            "Closing coroutine!!\n"
          ]
        }
      ]
    },
    {
      "cell_type": "code",
      "source": [
        "# Iterable (loops can be used directly)\n",
        "# Iterator (loops cannot be directly applied)\n",
        "s = \"GFG\"\n",
        "it = iter(s)\n",
        "\n",
        "print(next(it))\n",
        "print(next(it))\n",
        "print(next(it))"
      ],
      "metadata": {
        "colab": {
          "base_uri": "https://localhost:8080/"
        },
        "id": "cs_8nSSBMbxK",
        "outputId": "544cd852-4191-46b9-b03a-43ffed24e8d1"
      },
      "execution_count": null,
      "outputs": [
        {
          "output_type": "stream",
          "name": "stdout",
          "text": [
            "G\n",
            "F\n",
            "G\n"
          ]
        }
      ]
    },
    {
      "cell_type": "code",
      "source": [
        "# Iterator contains both __iter__ and __next__, while iterable use only __iter__ method\n",
        "class MyNumbers:\n",
        "  def __iter__(self):\n",
        "    self.a = 1\n",
        "    return self\n",
        "\n",
        "  def __next__(self):\n",
        "    x = self.a\n",
        "    self.a += 1\n",
        "    return x\n",
        "\n",
        "ob = MyNumbers()\n",
        "myiter = iter(ob) # Now ob is an iterator\n",
        "print(next(myiter))\n",
        "print(next(myiter))\n",
        "print(next(myiter))\n",
        "print(next(myiter))\n",
        "print(next(myiter))"
      ],
      "metadata": {
        "colab": {
          "base_uri": "https://localhost:8080/"
        },
        "id": "hBF-3loXNn6L",
        "outputId": "dbc9cb35-e5c1-4585-c450-d68afe242df3"
      },
      "execution_count": null,
      "outputs": [
        {
          "output_type": "stream",
          "name": "stdout",
          "text": [
            "1\n",
            "2\n",
            "3\n",
            "4\n",
            "5\n"
          ]
        }
      ]
    },
    {
      "cell_type": "code",
      "source": [
        "list1 = [\"------------------------------\", 10, 20, 30, 40,\"------------------------------\", 10, 20, 30, 40, \"------------------------------\"]\n",
        "mylist = iter(list1)\n",
        "\n",
        "for i in range(len(list1)):\n",
        " print(next(mylist))"
      ],
      "metadata": {
        "colab": {
          "base_uri": "https://localhost:8080/"
        },
        "id": "cI6CJiMXQFcn",
        "outputId": "81f39129-4b24-480d-b9ea-640f0040a467"
      },
      "execution_count": null,
      "outputs": [
        {
          "output_type": "stream",
          "name": "stdout",
          "text": [
            "------------------------------\n",
            "10\n",
            "20\n",
            "30\n",
            "40\n",
            "------------------------------\n",
            "10\n",
            "20\n",
            "30\n",
            "40\n",
            "------------------------------\n"
          ]
        }
      ]
    },
    {
      "cell_type": "code",
      "source": [
        "# Declarative (only what to define) C, Python (uses list compreghension, map, filter, reduce, etc)\n",
        "print(\"Declarative\")\n",
        "numbers = [1,2, 3,4, 5]\n",
        "squares = [n ** 2 for n in numbers]\n",
        "print(squares) # [1, 4, 9, 16, 25]\n",
        "print(\"\")\n",
        "\n",
        "# Imperative (Both what and why to define) Python\n",
        "print(\"Imperative\")\n",
        "numbers = [1, 2, 3,4, 5]\n",
        "squares = []\n",
        "for n in numbers:\n",
        "  squares.append(n ** 2)\n",
        "print(squares) # [1, 4, 9, 16, 25]"
      ],
      "metadata": {
        "colab": {
          "base_uri": "https://localhost:8080/"
        },
        "id": "N1kAPpa7SL4L",
        "outputId": "3c49fb47-40da-4c5a-f414-671283f8242b"
      },
      "execution_count": null,
      "outputs": [
        {
          "output_type": "stream",
          "name": "stdout",
          "text": [
            "Declarative\n",
            "[1, 4, 9, 16, 25]\n",
            "\n",
            "Imperative\n",
            "[1, 4, 9, 16, 25]\n"
          ]
        }
      ]
    },
    {
      "cell_type": "code",
      "source": [
        "# Declarative style using filter\n",
        "numbers = [1, 2, 3, 4, 5]\n",
        "even_numbers = list(filter(lambda x: x%2 == 0, numbers))\n",
        "print(even_numbers) # [2, 4]"
      ],
      "metadata": {
        "colab": {
          "base_uri": "https://localhost:8080/"
        },
        "id": "7QhHfcbrTur0",
        "outputId": "a1950c5e-04a4-45af-f05f-df9b3d1b68f1"
      },
      "execution_count": null,
      "outputs": [
        {
          "output_type": "stream",
          "name": "stdout",
          "text": [
            "[2, 4]\n"
          ]
        }
      ]
    },
    {
      "cell_type": "code",
      "source": [
        "from functools import reduce\n",
        "\n",
        "# Declarative style using reduce\n",
        "numbers = [1, 2, 3, 4, 5]\n",
        "total = reduce(lambda x, y: x+y, numbers)\n",
        "print(total) # 15"
      ],
      "metadata": {
        "colab": {
          "base_uri": "https://localhost:8080/"
        },
        "id": "Kh7f-NM3VYN8",
        "outputId": "4d0413c0-4769-4834-ee90-e4b76ba68324"
      },
      "execution_count": null,
      "outputs": [
        {
          "output_type": "stream",
          "name": "stdout",
          "text": [
            "15\n"
          ]
        }
      ]
    }
  ]
}