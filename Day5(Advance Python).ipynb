{
  "nbformat": 4,
  "nbformat_minor": 0,
  "metadata": {
    "colab": {
      "provenance": [],
      "authorship_tag": "ABX9TyND+g2Q/8BMnKNDKLNENGpt"
    },
    "kernelspec": {
      "name": "python3",
      "display_name": "Python 3"
    },
    "language_info": {
      "name": "python"
    }
  },
  "cells": [
    {
      "cell_type": "code",
      "source": [
        "# Access Private access Variable\n",
        "class Demo:\n",
        "  __hiddenVar = 10\n",
        "\n",
        "  def add(self, incr):\n",
        "    self.hiddenVar = self.__hiddenVar + incr\n",
        "\n",
        "  def details(self):\n",
        "    print(self.__hiddenVar)\n",
        "\n",
        "d1 = Demo()\n",
        "d1.add(5)\n",
        "# d1__hiddenVar # Private access variable can only be accessed inside the class only\n",
        "d1.details()"
      ],
      "metadata": {
        "colab": {
          "base_uri": "https://localhost:8080/"
        },
        "id": "9aURXVsws5gj",
        "outputId": "ed44585b-f95f-459a-ee83-15476f4bd0ef"
      },
      "execution_count": 6,
      "outputs": [
        {
          "output_type": "stream",
          "name": "stdout",
          "text": [
            "10\n"
          ]
        }
      ]
    },
    {
      "cell_type": "code",
      "source": [
        "# Multiple Resolution Order(MRO)\n",
        "# mro() tellls how the functaions are resolving\n",
        "class A:\n",
        "  def method(self):\n",
        "    print(\"Method in A\")\n",
        "\n",
        "class B(A):\n",
        "  def method(self):\n",
        "    print(\"Method in B\")\n",
        "\n",
        "class C(A):\n",
        "  def method(self):\n",
        "    print(\"Method in C\")\n",
        "\n",
        "class D(B, C):\n",
        "  pass\n",
        "\n",
        "d = D()\n",
        "d.method()\n",
        "\n",
        "print(D.mro())"
      ],
      "metadata": {
        "colab": {
          "base_uri": "https://localhost:8080/"
        },
        "id": "XmyOrPa4s6mR",
        "outputId": "b04be191-1b86-454f-f58c-17ad664e8b22"
      },
      "execution_count": 8,
      "outputs": [
        {
          "output_type": "stream",
          "name": "stdout",
          "text": [
            "Method in B\n",
            "[<class '__main__.D'>, <class '__main__.B'>, <class '__main__.C'>, <class '__main__.A'>, <class 'object'>]\n"
          ]
        }
      ]
    },
    {
      "cell_type": "code",
      "source": [
        "# Polymorphism (function performs differently according to the conditions)\n",
        "class Duck:\n",
        "  def quack(self):\n",
        "    print(\"Duck class\")\n",
        "    print(\"Quack!\")\n",
        "\n",
        "class Person:\n",
        "  def quack(self):\n",
        "    print(\"Person class\")\n",
        "    print(\"I'm quacking like a duck!\")\n",
        "\n",
        "duck = Duck()\n",
        "person = Person()\n",
        "\n",
        "duck.quack() # Output: Quack!\n",
        "print(\"\")\n",
        "person.quack() # Output: I'm quacking like a duck!"
      ],
      "metadata": {
        "colab": {
          "base_uri": "https://localhost:8080/"
        },
        "id": "qzsoXIKxuUx0",
        "outputId": "227af176-600e-4899-ea35-ee7051061d0f"
      },
      "execution_count": 11,
      "outputs": [
        {
          "output_type": "stream",
          "name": "stdout",
          "text": [
            "Duck class\n",
            "Quack!\n",
            "\n",
            "Person class\n",
            "I'm quacking like a duck!\n"
          ]
        }
      ]
    },
    {
      "cell_type": "code",
      "source": [
        "# Polymorphism (function performs differently according to the conditions)\n",
        "class Bird:\n",
        "  def fly(self):\n",
        "    print(\"Bird class\")\n",
        "    print(\"Fly with wings.\")\n",
        "\n",
        "class Airplane:\n",
        "  def fly(self):\n",
        "    print(\"Airplace class\")\n",
        "    print(\"Fly with fuel.\")\n",
        "\n",
        "class Fish:\n",
        "  def swim(self):\n",
        "    print(\"Fish class\")\n",
        "    print(\"Fish swim in sea.\")\n",
        "\n",
        "for obj in Bird(), Airplane(), Fish():\n",
        "  obj.fly() # Shows an error(Not having function with name 'fly')\n",
        "  print(\"\")"
      ],
      "metadata": {
        "colab": {
          "base_uri": "https://localhost:8080/",
          "height": 297
        },
        "id": "4OcD4tJ2wJUz",
        "outputId": "7974eec3-c8f5-4244-b696-15f42e7aa221"
      },
      "execution_count": 14,
      "outputs": [
        {
          "output_type": "stream",
          "name": "stdout",
          "text": [
            "Bird class\n",
            "Fly with wings.\n",
            "\n",
            "Airplace class\n",
            "Fly with fuel.\n",
            "\n"
          ]
        },
        {
          "output_type": "error",
          "ename": "AttributeError",
          "evalue": "'Fish' object has no attribute 'fly'",
          "traceback": [
            "\u001b[0;31m---------------------------------------------------------------------------\u001b[0m",
            "\u001b[0;31mAttributeError\u001b[0m                            Traceback (most recent call last)",
            "\u001b[0;32m<ipython-input-14-3073312287>\u001b[0m in \u001b[0;36m<cell line: 0>\u001b[0;34m()\u001b[0m\n\u001b[1;32m     16\u001b[0m \u001b[0;34m\u001b[0m\u001b[0m\n\u001b[1;32m     17\u001b[0m \u001b[0;32mfor\u001b[0m \u001b[0mobj\u001b[0m \u001b[0;32min\u001b[0m \u001b[0mBird\u001b[0m\u001b[0;34m(\u001b[0m\u001b[0;34m)\u001b[0m\u001b[0;34m,\u001b[0m \u001b[0mAirplane\u001b[0m\u001b[0;34m(\u001b[0m\u001b[0;34m)\u001b[0m\u001b[0;34m,\u001b[0m \u001b[0mFish\u001b[0m\u001b[0;34m(\u001b[0m\u001b[0;34m)\u001b[0m\u001b[0;34m:\u001b[0m\u001b[0;34m\u001b[0m\u001b[0;34m\u001b[0m\u001b[0m\n\u001b[0;32m---> 18\u001b[0;31m   \u001b[0mobj\u001b[0m\u001b[0;34m.\u001b[0m\u001b[0mfly\u001b[0m\u001b[0;34m(\u001b[0m\u001b[0;34m)\u001b[0m \u001b[0;31m# Shows an error(Not having function with name 'fly')\u001b[0m\u001b[0;34m\u001b[0m\u001b[0;34m\u001b[0m\u001b[0m\n\u001b[0m\u001b[1;32m     19\u001b[0m   \u001b[0mprint\u001b[0m\u001b[0;34m(\u001b[0m\u001b[0;34m\"\"\u001b[0m\u001b[0;34m)\u001b[0m\u001b[0;34m\u001b[0m\u001b[0;34m\u001b[0m\u001b[0m\n",
            "\u001b[0;31mAttributeError\u001b[0m: 'Fish' object has no attribute 'fly'"
          ]
        }
      ]
    },
    {
      "cell_type": "code",
      "source": [
        "# Method Overloading(Python do not suppor method overloading by default)\n",
        "class MyClass:\n",
        "  def sum(self, a = None, b = None, c = None):\n",
        "    s = 0\n",
        "    if a != None and b != None and c != None:\n",
        "      s = a + b + c\n",
        "    elif a != None and b != None and c != None:\n",
        "      s = a + b\n",
        "    else:\n",
        "      s = a\n",
        "    return s\n",
        "\n",
        "s = MyClass()\n",
        "\n",
        "print(\"Sum of one integer:\")\n",
        "print(s.sum(1))\n",
        "print(\"\")\n",
        "\n",
        "print(\"Sum of two integers:\")\n",
        "print(s.sum(3,5))\n",
        "print(\"\")\n",
        "\n",
        "print(\"Sum of three integers:\")\n",
        "print(s.sum(1,2,3))"
      ],
      "metadata": {
        "colab": {
          "base_uri": "https://localhost:8080/"
        },
        "id": "xqBRugfNxSiS",
        "outputId": "abe4f557-4fef-4e2f-c4f1-03153bee1ceb"
      },
      "execution_count": 19,
      "outputs": [
        {
          "output_type": "stream",
          "name": "stdout",
          "text": [
            "Sum of one integer:\n",
            "1\n",
            "\n",
            "Sum of two integers:\n",
            "3\n",
            "\n",
            "Sum of three integers:\n",
            "6\n"
          ]
        }
      ]
    },
    {
      "cell_type": "code",
      "source": [
        "# Operator Overloading\n",
        "# Single operator functions differently based on the datatype\n",
        "# __add__\n",
        "class Student:\n",
        "  def __init__(self, m1, m2):\n",
        "    self.m1 = m1\n",
        "    self.m2 = m2\n",
        "\n",
        "  def __add__(self, other):\n",
        "    m1 = self.m1 + other.m1\n",
        "    m2 = self.m2 + other.m2\n",
        "    s3 = Student(m1, m2)\n",
        "    return s3\n",
        "\n",
        "\n",
        "s1 = Student(58, 59)\n",
        "s2 = Student(60, 65)\n",
        "s3 = s1 + s2 # __add__  magic method starts in the backend\n",
        "\n",
        "print(\"Additions of m1s':\",s3.m1)\n",
        "print(\"\")\n",
        "\n",
        "print(\"Additions of m2s':\",s3.m2)\n",
        "print(\"\")"
      ],
      "metadata": {
        "colab": {
          "base_uri": "https://localhost:8080/"
        },
        "id": "rUqJj8idx7W9",
        "outputId": "89af0f79-7309-4559-8e70-dba97160ee36"
      },
      "execution_count": 29,
      "outputs": [
        {
          "output_type": "stream",
          "name": "stdout",
          "text": [
            "Additions of m1s': 118\n",
            "\n",
            "Additions of m2s': 124\n",
            "\n"
          ]
        }
      ]
    },
    {
      "cell_type": "code",
      "source": [
        "class Vector:\n",
        "  def __init__(self, x, y):\n",
        "    self.x = x\n",
        "    self.y = y\n",
        "\n",
        "  def __add__(self, other):\n",
        "    return Vector(self.x + other.x, self.y + other.y)\n",
        "\n",
        "  def __sub__(self, other):\n",
        "    return Vector(self.x - other.x, self.y - other.y)\n",
        "\n",
        "  def __mul__(self, other):\n",
        "    return self.x * other.x, self.y * other.y\n",
        "\n",
        "  def __str__(self, other):\n",
        "    return f\"({self.x} + {self.y})\"\n",
        "\n",
        "v1 = Vector(2, 3)\n",
        "v2 = Vector(4, 5)\n",
        "\n",
        "v3 = v1 + v2\n",
        "print()"
      ],
      "metadata": {
        "colab": {
          "base_uri": "https://localhost:8080/",
          "height": 176
        },
        "id": "kXjxVLwx2vw_",
        "outputId": "25d59405-fd48-4497-804b-55ebe972ff76"
      },
      "execution_count": 38,
      "outputs": [
        {
          "output_type": "error",
          "ename": "TypeError",
          "evalue": "Vector.__str__() missing 1 required positional argument: 'other'",
          "traceback": [
            "\u001b[0;31m---------------------------------------------------------------------------\u001b[0m",
            "\u001b[0;31mTypeError\u001b[0m                                 Traceback (most recent call last)",
            "\u001b[0;32m<ipython-input-38-1129283498>\u001b[0m in \u001b[0;36m<cell line: 0>\u001b[0;34m()\u001b[0m\n\u001b[1;32m     20\u001b[0m \u001b[0;34m\u001b[0m\u001b[0m\n\u001b[1;32m     21\u001b[0m \u001b[0mv3\u001b[0m \u001b[0;34m=\u001b[0m \u001b[0mv1\u001b[0m \u001b[0;34m+\u001b[0m \u001b[0mv2\u001b[0m\u001b[0;34m\u001b[0m\u001b[0;34m\u001b[0m\u001b[0m\n\u001b[0;32m---> 22\u001b[0;31m \u001b[0mprint\u001b[0m\u001b[0;34m(\u001b[0m\u001b[0mv1\u001b[0m\u001b[0;34m)\u001b[0m\u001b[0;34m\u001b[0m\u001b[0;34m\u001b[0m\u001b[0m\n\u001b[0m",
            "\u001b[0;31mTypeError\u001b[0m: Vector.__str__() missing 1 required positional argument: 'other'"
          ]
        }
      ]
    },
    {
      "cell_type": "code",
      "source": [
        "# Method Overriding\n",
        "class Animal:\n",
        "  def speak(self):\n",
        "    print(\"The animal makes a sound.\")\n",
        "\n",
        "class Dog(Animal):\n",
        "  def speak(self):\n",
        "    print(\"The dog barks.\") # overrides\n",
        "\n",
        "class Cat(Animal):\n",
        "  def speak(self):\n",
        "    print(\"The cat meows.\") # overrides\n",
        "\n",
        "animal = Animal()\n",
        "dog = Dog()\n",
        "cat = Cat()\n",
        "\n",
        "animal.speak() # The animal makes a sound.\n",
        "dog.speak() # The dog barks.\n",
        "cat.speak() # The cat meows."
      ],
      "metadata": {
        "colab": {
          "base_uri": "https://localhost:8080/"
        },
        "id": "jI8-J7tu5pS_",
        "outputId": "9eb5f132-761e-4995-ca39-5795d06e22d9"
      },
      "execution_count": 36,
      "outputs": [
        {
          "output_type": "stream",
          "name": "stdout",
          "text": [
            "The animal makes a sound.\n",
            "The dog barks.\n",
            "The cat meows.\n"
          ]
        }
      ]
    },
    {
      "cell_type": "code",
      "source": [
        "class BankAccount:\n",
        "  def __init__(self, account_no, balance =0):\n",
        "    self.account_no = account_no\n",
        "    self.balance = balance\n",
        "\n",
        "  def display(self):\n",
        "    print(f\"Account {self.account_no} - Balance: ${self.balance:.2f}\")\n",
        "\n",
        "  def calculate_interest(self):\n",
        "    return self.balance * 0.01 # Default interest rate of 1% interest\n",
        "\n",
        "class SavingsAccount(BankAccount):\n",
        "  def calculate_interest(self):\n",
        "    # Specific interest calculation for SavingsAccount\n",
        "    return self.balance * 0.04 # Saving interest rate of 4% interest\n",
        "\n",
        "class CurrentAccount(BankAccount):\n",
        "  def calculate_interest(self):\n",
        "    # Specific interest calculation for CurrentAccount\n",
        "    return self.balance * 0.02 # Current accounts interest rate of 2% interest\n",
        "\n",
        "c1 = BankAccount(5678)\n",
        "c1.display()"
      ],
      "metadata": {
        "colab": {
          "base_uri": "https://localhost:8080/"
        },
        "id": "eqR2D7sh7bnp",
        "outputId": "47ba9fc2-8f1f-4e59-d059-aced9f7c94fa"
      },
      "execution_count": 42,
      "outputs": [
        {
          "output_type": "stream",
          "name": "stdout",
          "text": [
            "Account 5678 - Balance: $0.00\n"
          ]
        }
      ]
    },
    {
      "cell_type": "code",
      "source": [],
      "metadata": {
        "id": "7kHA31LQ8mt4"
      },
      "execution_count": null,
      "outputs": []
    }
  ]
}