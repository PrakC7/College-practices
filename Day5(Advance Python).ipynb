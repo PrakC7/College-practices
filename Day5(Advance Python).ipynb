{
  "nbformat": 4,
  "nbformat_minor": 0,
  "metadata": {
    "colab": {
      "provenance": [],
      "authorship_tag": "ABX9TyMlX1QtPhr0n1RPMo94XMDl"
    },
    "kernelspec": {
      "name": "python3",
      "display_name": "Python 3"
    },
    "language_info": {
      "name": "python"
    }
  },
  "cells": [
    {
      "cell_type": "code",
      "source": [
        "# Access Private access Variable\n",
        "class Demo:\n",
        "  __hiddenVar = 10\n",
        "\n",
        "  def add(self, incr):\n",
        "    self.hiddenVar = self.__hiddenVar + incr\n",
        "\n",
        "  def details(self):\n",
        "    print(self.__hiddenVar)\n",
        "\n",
        "d1 = Demo()\n",
        "d1.add(5)\n",
        "# d1__hiddenVar # Private access variable can only be accessed inside the class only\n",
        "d1.details()"
      ],
      "metadata": {
        "colab": {
          "base_uri": "https://localhost:8080/"
        },
        "id": "9aURXVsws5gj",
        "outputId": "ed44585b-f95f-459a-ee83-15476f4bd0ef"
      },
      "execution_count": null,
      "outputs": [
        {
          "output_type": "stream",
          "name": "stdout",
          "text": [
            "10\n"
          ]
        }
      ]
    },
    {
      "cell_type": "code",
      "source": [
        "# Multiple Resolution Order(MRO)\n",
        "# mro() tellls how the functaions are resolving\n",
        "class A:\n",
        "  def method(self):\n",
        "    print(\"Method in A\")\n",
        "\n",
        "class B(A):\n",
        "  def method(self):\n",
        "    print(\"Method in B\")\n",
        "\n",
        "class C(A):\n",
        "  def method(self):\n",
        "    print(\"Method in C\")\n",
        "\n",
        "class D(B, C):\n",
        "  pass\n",
        "\n",
        "d = D()\n",
        "d.method()\n",
        "\n",
        "print(D.mro())"
      ],
      "metadata": {
        "colab": {
          "base_uri": "https://localhost:8080/"
        },
        "id": "XmyOrPa4s6mR",
        "outputId": "b04be191-1b86-454f-f58c-17ad664e8b22"
      },
      "execution_count": null,
      "outputs": [
        {
          "output_type": "stream",
          "name": "stdout",
          "text": [
            "Method in B\n",
            "[<class '__main__.D'>, <class '__main__.B'>, <class '__main__.C'>, <class '__main__.A'>, <class 'object'>]\n"
          ]
        }
      ]
    },
    {
      "cell_type": "code",
      "source": [
        "# Polymorphism (function performs differently according to the conditions)\n",
        "class Duck:\n",
        "  def quack(self):\n",
        "    print(\"Duck class\")\n",
        "    print(\"Quack!\")\n",
        "\n",
        "class Person:\n",
        "  def quack(self):\n",
        "    print(\"Person class\")\n",
        "    print(\"I'm quacking like a duck!\")\n",
        "\n",
        "duck = Duck()\n",
        "person = Person()\n",
        "\n",
        "duck.quack() # Output: Quack!\n",
        "print(\"\")\n",
        "person.quack() # Output: I'm quacking like a duck!"
      ],
      "metadata": {
        "colab": {
          "base_uri": "https://localhost:8080/"
        },
        "id": "qzsoXIKxuUx0",
        "outputId": "227af176-600e-4899-ea35-ee7051061d0f"
      },
      "execution_count": null,
      "outputs": [
        {
          "output_type": "stream",
          "name": "stdout",
          "text": [
            "Duck class\n",
            "Quack!\n",
            "\n",
            "Person class\n",
            "I'm quacking like a duck!\n"
          ]
        }
      ]
    },
    {
      "cell_type": "code",
      "source": [
        "# Polymorphism (function performs differently according to the conditions)\n",
        "class Bird:\n",
        "  def fly(self):\n",
        "    print(\"Bird class\")\n",
        "    print(\"Fly with wings.\")\n",
        "\n",
        "class Airplane:\n",
        "  def fly(self):\n",
        "    print(\"Airplace class\")\n",
        "    print(\"Fly with fuel.\")\n",
        "\n",
        "class Fish:\n",
        "  def swim(self):\n",
        "    print(\"Fish class\")\n",
        "    print(\"Fish swim in sea.\")\n",
        "\n",
        "for obj in Bird(), Airplane(), Fish():\n",
        "  obj.fly() # Shows an error(Not having function with name 'fly')\n",
        "  print(\"\")"
      ],
      "metadata": {
        "colab": {
          "base_uri": "https://localhost:8080/",
          "height": 297
        },
        "id": "4OcD4tJ2wJUz",
        "outputId": "7974eec3-c8f5-4244-b696-15f42e7aa221"
      },
      "execution_count": null,
      "outputs": [
        {
          "output_type": "stream",
          "name": "stdout",
          "text": [
            "Bird class\n",
            "Fly with wings.\n",
            "\n",
            "Airplace class\n",
            "Fly with fuel.\n",
            "\n"
          ]
        },
        {
          "output_type": "error",
          "ename": "AttributeError",
          "evalue": "'Fish' object has no attribute 'fly'",
          "traceback": [
            "\u001b[0;31m---------------------------------------------------------------------------\u001b[0m",
            "\u001b[0;31mAttributeError\u001b[0m                            Traceback (most recent call last)",
            "\u001b[0;32m<ipython-input-14-3073312287>\u001b[0m in \u001b[0;36m<cell line: 0>\u001b[0;34m()\u001b[0m\n\u001b[1;32m     16\u001b[0m \u001b[0;34m\u001b[0m\u001b[0m\n\u001b[1;32m     17\u001b[0m \u001b[0;32mfor\u001b[0m \u001b[0mobj\u001b[0m \u001b[0;32min\u001b[0m \u001b[0mBird\u001b[0m\u001b[0;34m(\u001b[0m\u001b[0;34m)\u001b[0m\u001b[0;34m,\u001b[0m \u001b[0mAirplane\u001b[0m\u001b[0;34m(\u001b[0m\u001b[0;34m)\u001b[0m\u001b[0;34m,\u001b[0m \u001b[0mFish\u001b[0m\u001b[0;34m(\u001b[0m\u001b[0;34m)\u001b[0m\u001b[0;34m:\u001b[0m\u001b[0;34m\u001b[0m\u001b[0;34m\u001b[0m\u001b[0m\n\u001b[0;32m---> 18\u001b[0;31m   \u001b[0mobj\u001b[0m\u001b[0;34m.\u001b[0m\u001b[0mfly\u001b[0m\u001b[0;34m(\u001b[0m\u001b[0;34m)\u001b[0m \u001b[0;31m# Shows an error(Not having function with name 'fly')\u001b[0m\u001b[0;34m\u001b[0m\u001b[0;34m\u001b[0m\u001b[0m\n\u001b[0m\u001b[1;32m     19\u001b[0m   \u001b[0mprint\u001b[0m\u001b[0;34m(\u001b[0m\u001b[0;34m\"\"\u001b[0m\u001b[0;34m)\u001b[0m\u001b[0;34m\u001b[0m\u001b[0;34m\u001b[0m\u001b[0m\n",
            "\u001b[0;31mAttributeError\u001b[0m: 'Fish' object has no attribute 'fly'"
          ]
        }
      ]
    },
    {
      "cell_type": "code",
      "source": [
        "# Method Overloading(Python do not suppor method overloading by default)\n",
        "class MyClass:\n",
        "  def sum(self, a = None, b = None, c = None):\n",
        "    s = 0\n",
        "    if a != None and b != None and c != None:\n",
        "      s = a + b + c\n",
        "    elif a != None and b != None and c != None:\n",
        "      s = a + b\n",
        "    else:\n",
        "      s = a\n",
        "    return s\n",
        "\n",
        "s = MyClass()\n",
        "\n",
        "print(\"Sum of one integer:\")\n",
        "print(s.sum(1))\n",
        "print(\"\")\n",
        "\n",
        "print(\"Sum of two integers:\")\n",
        "print(s.sum(3,5))\n",
        "print(\"\")\n",
        "\n",
        "print(\"Sum of three integers:\")\n",
        "print(s.sum(1,2,3))"
      ],
      "metadata": {
        "colab": {
          "base_uri": "https://localhost:8080/"
        },
        "id": "xqBRugfNxSiS",
        "outputId": "abe4f557-4fef-4e2f-c4f1-03153bee1ceb"
      },
      "execution_count": null,
      "outputs": [
        {
          "output_type": "stream",
          "name": "stdout",
          "text": [
            "Sum of one integer:\n",
            "1\n",
            "\n",
            "Sum of two integers:\n",
            "3\n",
            "\n",
            "Sum of three integers:\n",
            "6\n"
          ]
        }
      ]
    },
    {
      "cell_type": "code",
      "source": [
        "# Operator Overloading\n",
        "# Single operator functions differently based on the datatype\n",
        "# __add__\n",
        "class Student:\n",
        "  def __init__(self, m1, m2):\n",
        "    self.m1 = m1\n",
        "    self.m2 = m2\n",
        "\n",
        "  def __add__(self, other):\n",
        "    m1 = self.m1 + other.m1\n",
        "    m2 = self.m2 + other.m2\n",
        "    s3 = Student(m1, m2)\n",
        "    return s3\n",
        "\n",
        "\n",
        "s1 = Student(58, 59)\n",
        "s2 = Student(60, 65)\n",
        "s3 = s1 + s2 # __add__  magic method starts in the backend\n",
        "\n",
        "print(\"Additions of m1s':\",s3.m1)\n",
        "print(\"\")\n",
        "\n",
        "print(\"Additions of m2s':\",s3.m2)\n",
        "print(\"\")"
      ],
      "metadata": {
        "colab": {
          "base_uri": "https://localhost:8080/"
        },
        "id": "rUqJj8idx7W9",
        "outputId": "89af0f79-7309-4559-8e70-dba97160ee36"
      },
      "execution_count": null,
      "outputs": [
        {
          "output_type": "stream",
          "name": "stdout",
          "text": [
            "Additions of m1s': 118\n",
            "\n",
            "Additions of m2s': 124\n",
            "\n"
          ]
        }
      ]
    },
    {
      "cell_type": "code",
      "source": [
        "class Vector:\n",
        "  def __init__(self, x, y):\n",
        "    self.x = x\n",
        "    self.y = y\n",
        "\n",
        "  def __add__(self, other):\n",
        "    return Vector(self.x + other.x, self.y + other.y)\n",
        "\n",
        "  def __sub__(self, other):\n",
        "    return Vector(self.x - other.x, self.y - other.y)\n",
        "\n",
        "  def __mul__(self, other):\n",
        "    return self.x * other.x, self.y * other.y\n",
        "\n",
        "  def __str__(self):\n",
        "    return f\"({self.x}, {self.y})\"\n",
        "\n",
        "v1 = Vector(2, 3)\n",
        "v2 = Vector(4, 5)\n",
        "\n",
        "v3 = v1 + v2\n",
        "print(v3) # (6, 8)"
      ],
      "metadata": {
        "colab": {
          "base_uri": "https://localhost:8080/"
        },
        "id": "kXjxVLwx2vw_",
        "outputId": "7f204344-9ac1-4f3e-a2fc-d4f6ad6c1557"
      },
      "execution_count": null,
      "outputs": [
        {
          "output_type": "stream",
          "name": "stdout",
          "text": [
            "(6, 8)\n"
          ]
        }
      ]
    },
    {
      "cell_type": "code",
      "source": [
        "# Method Overriding\n",
        "class Animal:\n",
        "  def speak(self):\n",
        "    print(\"The animal makes a sound.\")\n",
        "\n",
        "class Dog(Animal):\n",
        "  def speak(self):\n",
        "    print(\"The dog barks.\") # overrides\n",
        "\n",
        "class Cat(Animal):\n",
        "  def speak(self):\n",
        "    print(\"The cat meows.\") # overrides\n",
        "\n",
        "animal = Animal()\n",
        "dog = Dog()\n",
        "cat = Cat()\n",
        "\n",
        "animal.speak() # The animal makes a sound.\n",
        "dog.speak() # The dog barks.\n",
        "cat.speak() # The cat meows."
      ],
      "metadata": {
        "colab": {
          "base_uri": "https://localhost:8080/"
        },
        "id": "jI8-J7tu5pS_",
        "outputId": "9eb5f132-761e-4995-ca39-5795d06e22d9"
      },
      "execution_count": null,
      "outputs": [
        {
          "output_type": "stream",
          "name": "stdout",
          "text": [
            "The animal makes a sound.\n",
            "The dog barks.\n",
            "The cat meows.\n"
          ]
        }
      ]
    },
    {
      "cell_type": "code",
      "source": [
        "class BankAccount:\n",
        "  def __init__(self, account_no, balance =0):\n",
        "    self.account_no = account_no\n",
        "    self.balance = balance\n",
        "\n",
        "  def display(self):\n",
        "    print(f\"Account {self.account_no} - Balance: ${self.balance:.2f}\")\n",
        "\n",
        "  def calculate_interest(self):\n",
        "    return self.balance * 0.01 # Default interest rate of 1% interest\n",
        "\n",
        "class SavingsAccount(BankAccount):\n",
        "  def calculate_interest(self):\n",
        "    # Specific interest calculation for SavingsAccount\n",
        "    return self.balance * 0.04 # Saving interest rate of 4% interest\n",
        "\n",
        "class CurrentAccount(BankAccount):\n",
        "  def calculate_interest(self):\n",
        "    # Specific interest calculation for CurrentAccount\n",
        "    return self.balance * 0.02 # Current accounts interest rate of 2% interest\n",
        "\n",
        "c1 = BankAccount(73772, 1000)\n",
        "SavingsAccount = SavingsAccount(23423, 1000)\n",
        "CurrentAccount = CurrentAccount(25343, 1000)\n",
        "\n",
        "c1.display() # Account 73772 - Balance: $1000.00\n",
        "SavingsAccount.display() # Account 23423 - Balance: $1000.00\n",
        "CurrentAccount.display() # Account 25343 - Balance: $1000.00\n",
        "print(\"\")\n",
        "SavingsAccount.calculate_interest() #\n",
        "print(\"\")\n",
        "CurrentAccount.calculate_interest() # 20.0"
      ],
      "metadata": {
        "colab": {
          "base_uri": "https://localhost:8080/"
        },
        "id": "eqR2D7sh7bnp",
        "outputId": "b8b35576-0f21-43f4-baba-94d82af268a5"
      },
      "execution_count": null,
      "outputs": [
        {
          "output_type": "stream",
          "name": "stdout",
          "text": [
            "Account 73772 - Balance: $1000.00\n",
            "Account 23423 - Balance: $1000.00\n",
            "Account 25343 - Balance: $1000.00\n",
            "\n",
            "\n"
          ]
        },
        {
          "output_type": "execute_result",
          "data": {
            "text/plain": [
              "20.0"
            ]
          },
          "metadata": {},
          "execution_count": 64
        }
      ]
    },
    {
      "cell_type": "code",
      "source": [
        "# Abstract Method\n",
        "from abc import ABC, abstractmethod\n",
        "\n",
        "class MyAbstractClass(ABC):\n",
        "  @abstractmethod\n",
        "  def my_abstract_method(self):\n",
        "    pass"
      ],
      "metadata": {
        "id": "pbz_rr5yByNp"
      },
      "execution_count": null,
      "outputs": []
    },
    {
      "cell_type": "code",
      "source": [
        "# Abstract Method\n",
        "from abc import ABC, abstractmethod\n",
        "\n",
        "class Computer(ABC):\n",
        "  @abstractmethod\n",
        "  def process(self):\n",
        "    pass\n",
        "\n",
        "  def message(self):\n",
        "    print(\"Computer is an electronic device\")\n",
        "\n",
        "class Laptop(Computer):\n",
        "  def process(self):\n",
        "    print(\"Executing Laptop Process\")\n",
        "\n",
        "class Desktop(Computer):\n",
        "  def process(self):\n",
        "    print(\"Executing Desktop Process\")\n",
        "\n",
        "c1 = Laptop()\n",
        "c2 = Desktop()\n",
        "\n",
        "c1.process() # Executing Laptop Process\n",
        "c2.message() # Computer is an electronic device\n",
        "c2.process() # Executing Desktop Process"
      ],
      "metadata": {
        "colab": {
          "base_uri": "https://localhost:8080/"
        },
        "id": "7kHA31LQ8mt4",
        "outputId": "366661fd-1cb0-4ba2-e19a-564829e467ac"
      },
      "execution_count": null,
      "outputs": [
        {
          "output_type": "stream",
          "name": "stdout",
          "text": [
            "Executing Laptop Process\n",
            "Computer is an electronic device\n",
            "Executing Desktop Process\n"
          ]
        }
      ]
    },
    {
      "cell_type": "code",
      "source": [
        "coordinates = (10, 20)\n",
        "new_coordinates = coordinates + (30,)\n",
        "print(new_coordinates) 3 (10, 20, 30)"
      ],
      "metadata": {
        "colab": {
          "base_uri": "https://localhost:8080/"
        },
        "id": "gX4qqG2OikNJ",
        "outputId": "551b295f-3b85-4174-8b43-11a4684e8fc3"
      },
      "execution_count": null,
      "outputs": [
        {
          "output_type": "stream",
          "name": "stdout",
          "text": [
            "(10, 20, 30)\n"
          ]
        }
      ]
    },
    {
      "cell_type": "code",
      "source": [
        "# Closures\n",
        "def outerFunction(text):\n",
        "  text = text\n",
        "\n",
        "  def innerFunction():\n",
        "    print(text)\n",
        "  return innerFunction\n",
        "\n",
        "myFunction = outerFunction(\"Hey!\")\n",
        "myFunction() #Hey!"
      ],
      "metadata": {
        "colab": {
          "base_uri": "https://localhost:8080/"
        },
        "id": "r3mNLIEZiVJe",
        "outputId": "cdc82608-3fcd-4abf-d9ec-9b78ec0ce7f1"
      },
      "execution_count": null,
      "outputs": [
        {
          "output_type": "stream",
          "name": "stdout",
          "text": [
            "Hey!\n"
          ]
        }
      ]
    },
    {
      "cell_type": "code",
      "source": [
        "\n",
        "def make_counter():\n",
        "    count = 0 #this is the enclosed variable\n",
        "\n",
        "    def counter():\n",
        "        nonlocal count #this allows the nested function to modify the enclosing variable\n",
        "        count +=1\n",
        "        return count\n",
        "    return counter\n",
        "\n",
        "#create two independent counters\n",
        "counter1 = make_counter()\n",
        "counter2 = make_counter()\n",
        "\n",
        "#using the first counter\n",
        "print(counter1()) # 1\n",
        "print(counter2()) # 1\n",
        "print(counter2()) # 2\n",
        "\n",
        "\n",
        "#using the second counter\n",
        "print(counter2()) # 3\n",
        "print(counter2()) # 4\n",
        "\n",
        "#the first counter is independent of the second counter\n",
        "print(counter1()) # 2"
      ],
      "metadata": {
        "id": "P0Mi9bs6pGEH",
        "outputId": "401c02e4-1b38-4c39-bf75-67052a0d6727",
        "colab": {
          "base_uri": "https://localhost:8080/"
        }
      },
      "execution_count": null,
      "outputs": [
        {
          "output_type": "stream",
          "name": "stdout",
          "text": [
            "1\n",
            "1\n",
            "2\n",
            "3\n",
            "4\n",
            "2\n"
          ]
        }
      ]
    },
    {
      "cell_type": "code",
      "source": [
        "# Decorator (adding a new functionality just by adding a new function without changing the functionality of the function) denoted by @\n",
        "# decor\n",
        "def decor(func):\n",
        "  def inner():\n",
        "    print(\"-----------------------------------\")\n",
        "    func()\n",
        "    print(\"-----------------------------------\")\n",
        "  return inner\n",
        "\n",
        "@decor\n",
        "def msg():\n",
        "  print(\"Python Programming\")\n",
        "\n",
        "msg() # -----------------------------------\n",
        "      # Python Programming\n",
        "      # -----------------------------------"
      ],
      "metadata": {
        "colab": {
          "base_uri": "https://localhost:8080/"
        },
        "id": "3N_qWOLXqgMC",
        "outputId": "31100c6d-5954-404d-a26b-7f041c4d3155"
      },
      "execution_count": null,
      "outputs": [
        {
          "output_type": "stream",
          "name": "stdout",
          "text": [
            "-----------------------------------\n",
            "Python Programming\n",
            "-----------------------------------\n"
          ]
        }
      ]
    },
    {
      "cell_type": "code",
      "source": [
        "# decor cannot work without inner function\n",
        "def decor1(func):\n",
        "  def inner():\n",
        "    x = func()\n",
        "    return x * x\n",
        "  return inner\n",
        "\n",
        "def decor(func):\n",
        "  def inner():\n",
        "    x = func()\n",
        "    return 2 * x\n",
        "  return inner\n",
        "\n",
        "@decor1\n",
        "@decor\n",
        "def num():\n",
        "  return 10\n",
        "\n",
        "print(num())"
      ],
      "metadata": {
        "colab": {
          "base_uri": "https://localhost:8080/"
        },
        "id": "FtvYXUZWvTXv",
        "outputId": "4e776330-09ac-45e4-bfae-c7427aacae11"
      },
      "execution_count": null,
      "outputs": [
        {
          "output_type": "stream",
          "name": "stdout",
          "text": [
            "400\n"
          ]
        }
      ]
    },
    {
      "cell_type": "code",
      "source": [
        "# decor cannot work without inner function\n",
        "from datetime import datetime\n",
        "\n",
        "def not_during_night(func):\n",
        "  def inner():\n",
        "    if 7 <= datetime.now().hour < 22:\n",
        "      func()\n",
        "    else:\n",
        "      print(\"Sorry! Unable to play music in night\")\n",
        "  return inner\n",
        "\n",
        "@not_during_night\n",
        "def music():\n",
        "  print(\"Playing music\")\n",
        "\n",
        "music() # Playing music"
      ],
      "metadata": {
        "colab": {
          "base_uri": "https://localhost:8080/"
        },
        "id": "RQs7XwU7turp",
        "outputId": "124a4b62-984c-4ac6-a5a4-74463d26fa73"
      },
      "execution_count": null,
      "outputs": [
        {
          "output_type": "stream",
          "name": "stdout",
          "text": [
            "Playing music\n"
          ]
        }
      ]
    },
    {
      "cell_type": "code",
      "source": [
        "# Iterable\n",
        "def generate_numbers():\n",
        "  for num in range(1, 11):\n",
        "    yield num\n",
        "\n",
        "numbers_generator = generate_numbers()\n",
        "print(type(numbers_generator)) # <class 'generator'>\n",
        "\n",
        "for number in numbers_generator:\n",
        "  print(number) # 1 2 3 4 5 6 7 8 9 10"
      ],
      "metadata": {
        "id": "eUK7kOUnyJ9W"
      },
      "execution_count": null,
      "outputs": []
    },
    {
      "cell_type": "code",
      "source": [
        "# Iterable\n",
        "def is_prime(num):\n",
        "  if num < 2:\n",
        "    return False\n",
        "  for i in range(2, int(num ** 0.5) + 1):\n",
        "    if num % 1 == 0:\n",
        "      return False\n",
        "  return True\n",
        "\n",
        "def generate_primes(start, end):\n",
        "  for num in range(start, end + 1):\n",
        "    if is_prime(num):\n",
        "      yield num\n",
        "\n",
        "# Create the generator\n",
        "prime_generator = generate_primes(5, 50)\n",
        "\n",
        "print(\"Prime numbers from 5 to 50:\")\n",
        "for prime in prime_generator:\n",
        "  print(prime, end=\" \")"
      ],
      "metadata": {
        "colab": {
          "base_uri": "https://localhost:8080/"
        },
        "id": "-vMUVTF9yN55",
        "outputId": "17660091-7eeb-461d-ea33-0816ec878646"
      },
      "execution_count": 31,
      "outputs": [
        {
          "output_type": "stream",
          "name": "stdout",
          "text": [
            "Prime numbers from 5 to 50:\n"
          ]
        }
      ]
    },
    {
      "cell_type": "code",
      "source": [
        "# Iterable\n",
        "# Print all prime numbers from 5 to 50 using a generator\n",
        "def prime_generator(start, end):\n",
        "  for num in range(start, end + 1):\n",
        "    if num > 1:\n",
        "      for i in range(2, int(num ** 0.5) + 1):\n",
        "        if num % 1 == 0:\n",
        "          break\n",
        "        else:\n",
        "          yield num\n",
        "\n",
        "print(\"Prime numbers from 5 to 50:\")\n",
        "for prime in prime_generator(5, 50):\n",
        "  print(prime, end=\" \")"
      ],
      "metadata": {
        "id": "3_wpre73zoWn",
        "colab": {
          "base_uri": "https://localhost:8080/"
        },
        "outputId": "8e7f40f7-0dee-46b7-8095-ee06c6441cb5"
      },
      "execution_count": 36,
      "outputs": [
        {
          "output_type": "stream",
          "name": "stdout",
          "text": [
            "Prime numbers from 5 to 50:\n"
          ]
        }
      ]
    }
  ]
}