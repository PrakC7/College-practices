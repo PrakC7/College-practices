{
  "nbformat": 4,
  "nbformat_minor": 0,
  "metadata": {
    "colab": {
      "provenance": [],
      "authorship_tag": "ABX9TyN8g5qGTbve+JyJZB+CfucL",
      "include_colab_link": true
    },
    "kernelspec": {
      "name": "python3",
      "display_name": "Python 3"
    },
    "language_info": {
      "name": "python"
    }
  },
  "cells": [
    {
      "cell_type": "markdown",
      "metadata": {
        "id": "view-in-github",
        "colab_type": "text"
      },
      "source": [
        "<a href=\"https://colab.research.google.com/github/PrakC7/College-practices/blob/main/Day1.ipynb\" target=\"_parent\"><img src=\"https://colab.research.google.com/assets/colab-badge.svg\" alt=\"Open In Colab\"/></a>"
      ]
    },
    {
      "cell_type": "code",
      "source": [
        "name = \"Alice\"\n",
        "age = 25\n",
        "print(\"{} is {} years old.\".format(name, age))"
      ],
      "metadata": {
        "colab": {
          "base_uri": "https://localhost:8080/"
        },
        "id": "hfa9xm6wZaIn",
        "outputId": "0e17dc91-8c4b-45a3-a6a7-5c7bb9beb98f"
      },
      "execution_count": null,
      "outputs": [
        {
          "output_type": "stream",
          "name": "stdout",
          "text": [
            "Alice is 25 years old.\n"
          ]
        }
      ]
    },
    {
      "cell_type": "code",
      "source": [
        "product = \"Python Course\"\n",
        "price = 99.99\n",
        "print(\"{name} costs ${price:.2f}.\".format(name=product, price=price))"
      ],
      "metadata": {
        "colab": {
          "base_uri": "https://localhost:8080/"
        },
        "id": "LU61aZlDXJ4T",
        "outputId": "5e4be9f4-05eb-4f8a-cb5e-50eae8c04cfa"
      },
      "execution_count": null,
      "outputs": [
        {
          "output_type": "stream",
          "name": "stdout",
          "text": [
            "Python Course costs $99.99.\n"
          ]
        }
      ]
    },
    {
      "cell_type": "code",
      "source": [
        "print('India', end = ',')"
      ],
      "metadata": {
        "colab": {
          "base_uri": "https://localhost:8080/"
        },
        "id": "rJ9v18t-Z1uk",
        "outputId": "2f11e0d8-979c-4039-ae51-cff6f6ffd6b6"
      },
      "execution_count": null,
      "outputs": [
        {
          "output_type": "stream",
          "name": "stdout",
          "text": [
            "India,"
          ]
        }
      ]
    },
    {
      "cell_type": "code",
      "source": [
        "print('Namaste','India', sep = ', ')"
      ],
      "metadata": {
        "colab": {
          "base_uri": "https://localhost:8080/"
        },
        "id": "BP2OGlWPafse",
        "outputId": "c2b97b8d-2b00-4b3f-ef0b-1fd6817acfed"
      },
      "execution_count": null,
      "outputs": [
        {
          "output_type": "stream",
          "name": "stdout",
          "text": [
            "Namaste, India\n"
          ]
        }
      ]
    },
    {
      "cell_type": "code",
      "execution_count": null,
      "metadata": {
        "colab": {
          "base_uri": "https://localhost:8080/"
        },
        "id": "0Ul6MF7WV_Cv",
        "outputId": "1793aa56-058d-4051-e6da-3fbf6a7afe61"
      },
      "outputs": [
        {
          "output_type": "stream",
          "name": "stdout",
          "text": [
            "10\n"
          ]
        }
      ],
      "source": [
        "# Var holds the location of the value.\n",
        "a= 10\n",
        "print(a)"
      ]
    },
    {
      "cell_type": "code",
      "source": [
        "a=b=c=1\n",
        "print(a,b,c)"
      ],
      "metadata": {
        "colab": {
          "base_uri": "https://localhost:8080/"
        },
        "id": "UB63cjcUdG4G",
        "outputId": "83483666-4ad1-4397-b728-b731099ee146"
      },
      "execution_count": null,
      "outputs": [
        {
          "output_type": "stream",
          "name": "stdout",
          "text": [
            "1 1 1\n"
          ]
        }
      ]
    },
    {
      "cell_type": "code",
      "source": [
        "a,b,c = 1,2,\"Ram\"\n",
        "print(a,b,c)"
      ],
      "metadata": {
        "colab": {
          "base_uri": "https://localhost:8080/"
        },
        "id": "SoikECs8aslD",
        "outputId": "a1efdfe2-1dd4-4b14-922f-588d412e2a79"
      },
      "execution_count": null,
      "outputs": [
        {
          "output_type": "stream",
          "name": "stdout",
          "text": [
            "1 2 Ram\n"
          ]
        }
      ]
    },
    {
      "cell_type": "code",
      "source": [
        "x = 5\n",
        "y = \"John\"\n",
        "print(type(x))\n",
        "print(type(y))"
      ],
      "metadata": {
        "colab": {
          "base_uri": "https://localhost:8080/"
        },
        "id": "okDbEZBAdYGf",
        "outputId": "48677bb9-d646-491b-a71b-90dc13c37a0a"
      },
      "execution_count": null,
      "outputs": [
        {
          "output_type": "stream",
          "name": "stdout",
          "text": [
            "<class 'int'>\n",
            "<class 'str'>\n"
          ]
        }
      ]
    },
    {
      "cell_type": "code",
      "source": [
        "a = 4\n",
        "b = 2.3\n",
        "c = a+b\n",
        "print(c)"
      ],
      "metadata": {
        "colab": {
          "base_uri": "https://localhost:8080/"
        },
        "id": "DdjE_FPMeNVR",
        "outputId": "dc63f32b-3a6b-4ab7-d03a-05394fe1c56b"
      },
      "execution_count": null,
      "outputs": [
        {
          "output_type": "stream",
          "name": "stdout",
          "text": [
            "6.3\n"
          ]
        }
      ]
    },
    {
      "cell_type": "code",
      "source": [
        "a = 2.6\n",
        "c = int(a)\n",
        "print(c)"
      ],
      "metadata": {
        "colab": {
          "base_uri": "https://localhost:8080/"
        },
        "id": "jt9MnVMMe8bG",
        "outputId": "a1eb3f7a-9992-4005-e3f2-b6adc3736955"
      },
      "execution_count": null,
      "outputs": [
        {
          "output_type": "stream",
          "name": "stdout",
          "text": [
            "2\n"
          ]
        }
      ]
    },
    {
      "cell_type": "markdown",
      "source": [
        "Operators:\n",
        "1.Arithmetic\n",
        "2.Relational\n",
        "3.Assignment\n",
        "4.Logical\n",
        "5.Bitwise\n",
        "6.membership\n",
        "7.Identify"
      ],
      "metadata": {
        "id": "BI3y2qEMfZI1"
      }
    },
    {
      "cell_type": "code",
      "source": [
        "print(5//2)#Remove the integer part."
      ],
      "metadata": {
        "colab": {
          "base_uri": "https://localhost:8080/"
        },
        "id": "EFcVeffGf_Hn",
        "outputId": "878f5d7f-b85e-4f5c-9e47-b85b09ba53dc"
      },
      "execution_count": null,
      "outputs": [
        {
          "output_type": "stream",
          "name": "stdout",
          "text": [
            "2\n"
          ]
        }
      ]
    },
    {
      "cell_type": "code",
      "source": [
        "# To compare we use relational operators.(==,!,etc) (True/False)"
      ],
      "metadata": {
        "id": "YNVBlnN6heto"
      },
      "execution_count": null,
      "outputs": []
    },
    {
      "cell_type": "code",
      "source": [
        "# Short hand notations.(+=,-=,*=,/=)\n",
        "# Cannot use a += b+c."
      ],
      "metadata": {
        "id": "CNvbf4o1ieCX"
      },
      "execution_count": null,
      "outputs": []
    },
    {
      "cell_type": "code",
      "source": [
        "# For bits we use bitwise operators.(&(AND), |(OR), ^(XOR), ~(Complement), <<(Bitwise left shift)(value*2^number of left shifts), >>(Bitwise right shift(value/2^n))"
      ],
      "metadata": {
        "id": "svs5oITwjmeN"
      },
      "execution_count": null,
      "outputs": []
    },
    {
      "cell_type": "code",
      "source": [
        "# Membership (in, not in) (True/False)"
      ],
      "metadata": {
        "id": "hYJxWUobjrdA"
      },
      "execution_count": null,
      "outputs": []
    },
    {
      "cell_type": "code",
      "source": [
        "# Identify (is, is not) (True/False) Two Variable can have the same memory location for the same value."
      ],
      "metadata": {
        "id": "gWpIg3IPm4vx"
      },
      "execution_count": null,
      "outputs": []
    },
    {
      "cell_type": "code",
      "source": [
        "age = int(input(\"Enter your age in years: \"))\n",
        "# One-Way Decision Making(Unary Decision Making)\n",
        "if age >= 18:\n",
        "  print(\"You can VOTE\")\n",
        "  print(\"Congrats!\")"
      ],
      "metadata": {
        "colab": {
          "base_uri": "https://localhost:8080/"
        },
        "id": "WZwCHuu_0ELW",
        "outputId": "f09e5501-7cf2-44d6-8cb5-b2f38c1de148"
      },
      "execution_count": 22,
      "outputs": [
        {
          "output_type": "stream",
          "name": "stdout",
          "text": [
            "Enter your age in years: 18\n",
            "You can VOTE\n",
            "Congrats!\n"
          ]
        }
      ]
    },
    {
      "cell_type": "code",
      "source": [
        "age = int(input(\"Enter your age in years: \"))\n",
        "# One-Way Decision Making(Unary Decision Making)\n",
        "if age >= 18:\n",
        "  print(\"Eligible for voting.\")\n",
        "if age <= 17:\n",
        "  print(\"Not eligible for voting.\")"
      ],
      "metadata": {
        "colab": {
          "base_uri": "https://localhost:8080/"
        },
        "id": "kuX7OK8o5mXV",
        "outputId": "22e1293a-6208-4468-812d-3753cdffb778"
      },
      "execution_count": 24,
      "outputs": [
        {
          "output_type": "stream",
          "name": "stdout",
          "text": [
            "Enter your age in years: 17\n",
            "Not eligible for voting.\n"
          ]
        }
      ]
    },
    {
      "cell_type": "code",
      "source": [
        "age = int(input(\"Enter your age in years: \"))\n",
        "# Two-Way Decision Making\n",
        "if age >= 18:\n",
        "  print(\"Eligible for voting.\")\n",
        "else:\n",
        "  print(\"You can vote after\",18-age,\"years.\")"
      ],
      "metadata": {
        "colab": {
          "base_uri": "https://localhost:8080/"
        },
        "id": "eAc_bPZC6-rl",
        "outputId": "d93f9560-047b-4ef6-dff5-0c8ec52f366a"
      },
      "execution_count": 28,
      "outputs": [
        {
          "output_type": "stream",
          "name": "stdout",
          "text": [
            "Enter your age in years: 17\n",
            "You can vote after 1 years.\n"
          ]
        }
      ]
    },
    {
      "cell_type": "code",
      "source": [
        "# Else-if\n",
        "percentage = int(input(\"Enter your percentage: \"))\n",
        "# Two-Way Decision Making\n",
        "if percentage >= 90:\n",
        "  print(\"Grade A\")\n",
        "elif percentage >= 80:\n",
        "  print(\"Grade B\")\n",
        "elif percentage >= 70:\n",
        "  print(\"Grade C\")\n",
        "elif percentage >= 60:\n",
        "  print(\"Grade D\")\n",
        "elif percentage >= 50:\n",
        "  print(\"Grade E\")\n",
        "else:\n",
        "  print(\"Fail\")"
      ],
      "metadata": {
        "colab": {
          "base_uri": "https://localhost:8080/"
        },
        "id": "iItOAZOV89kw",
        "outputId": "1d21da2c-e341-49c2-8ce9-f4abd9dcd461"
      },
      "execution_count": 32,
      "outputs": [
        {
          "output_type": "stream",
          "name": "stdout",
          "text": [
            "Enter your percentage: 100\n",
            "Grade A\n"
          ]
        }
      ]
    },
    {
      "cell_type": "code",
      "source": [
        "# Nested if-else\n",
        "a = int(input(\"Enter first number: \"))\n",
        "b = int(input(\"Enter second number: \"))\n",
        "c = int(input(\"Enter third number: \"))\n",
        "if a>b:\n",
        "  if a>c:\n",
        "    print(a, \"is greatest.\")\n",
        "  else:\n",
        "    print(c, \"is greatest.\")\n",
        "else:\n",
        "  if b>c:\n",
        "    print(b, \"is greatest.\")\n",
        "  else:\n",
        "    print(c, \"is greatest.\")"
      ],
      "metadata": {
        "colab": {
          "base_uri": "https://localhost:8080/"
        },
        "id": "Kd8k2npK9tZO",
        "outputId": "694e17ce-6d4f-4cd2-f7f1-86e0e7bf0daf"
      },
      "execution_count": 40,
      "outputs": [
        {
          "output_type": "stream",
          "name": "stdout",
          "text": [
            "Enter first number:1\n",
            "Enter second number:2\n",
            "Enter third number:3\n",
            "3 is greatest.\n"
          ]
        }
      ]
    },
    {
      "cell_type": "code",
      "source": [
        "a = int(input(\"Enter first number: \"))\n",
        "b = int(input(\"Enter second number: \"))\n",
        "c = int(input(\"Enter third number: \"))\n",
        "if a > b and a > c:\n",
        "  print(\"%d is greatest.3\" %(a))\n",
        "elif b > c:\n",
        "  print(\"%d is greatest.\" %(b))\n",
        "else:\n",
        "  print(\"%d is greatest.\" %(c))\n"
      ],
      "metadata": {
        "colab": {
          "base_uri": "https://localhost:8080/"
        },
        "id": "8aWt1mEy_7vY",
        "outputId": "cb6362c4-7109-4201-cc60-7aac8a654206"
      },
      "execution_count": 44,
      "outputs": [
        {
          "output_type": "stream",
          "name": "stdout",
          "text": [
            "Enter first number:1\n",
            "Enter second number:1\n",
            "Enter third number:1\n",
            "1 is greatest.\n"
          ]
        }
      ]
    },
    {
      "cell_type": "code",
      "source": [
        "# Loops\n",
        "# Sum of first n natural numbers\n",
        "num = int(input(\"Enter a natural number: \"))\n",
        "sum = 0\n",
        "while num > 0:\n",
        "  sum = sum + num\n",
        "  num = num - 1\n",
        "print(\"Sum of numbers:\",sum)"
      ],
      "metadata": {
        "colab": {
          "base_uri": "https://localhost:8080/"
        },
        "id": "hSG828gOA7Pg",
        "outputId": "c0e60244-81ff-43bf-95d4-fa2c245853ed"
      },
      "execution_count": 46,
      "outputs": [
        {
          "output_type": "stream",
          "name": "stdout",
          "text": [
            "Enter a number: 5\n",
            "Sum of numbers: 15\n"
          ]
        }
      ]
    },
    {
      "cell_type": "code",
      "source": [
        "# Loops\n",
        "# Factorial\n",
        "num = int(input(\"Enter a number: \"))\n",
        "sum = 1\n",
        "while num > 1:\n",
        "  sum = sum * num\n",
        "  num = num - 1\n",
        "print(\"Factorial:\",sum)"
      ],
      "metadata": {
        "colab": {
          "base_uri": "https://localhost:8080/"
        },
        "id": "ooFwJWDoCXRR",
        "outputId": "bee01f16-77ec-421c-b683-f45f93f56a62"
      },
      "execution_count": 50,
      "outputs": [
        {
          "output_type": "stream",
          "name": "stdout",
          "text": [
            "Enter a number: 3\n",
            "Factorial: 6\n"
          ]
        }
      ]
    },
    {
      "cell_type": "code",
      "source": [
        "# Loops\n",
        "# No increment required.\n",
        "numbers = [10,20,5,15,25,35,30]\n",
        "sum = 0\n",
        "for val in numbers:\n",
        "  sum = sum + val\n",
        "print(\"Sum of numbers:\",sum)"
      ],
      "metadata": {
        "colab": {
          "base_uri": "https://localhost:8080/"
        },
        "id": "dImykcbSDS2B",
        "outputId": "7bad988f-74e9-4a14-bfd3-3af366f744e4"
      },
      "execution_count": 51,
      "outputs": [
        {
          "output_type": "stream",
          "name": "stdout",
          "text": [
            "Sum of numbers: 140\n"
          ]
        }
      ]
    }
  ]
}