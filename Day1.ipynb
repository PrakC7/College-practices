{
  "nbformat": 4,
  "nbformat_minor": 0,
  "metadata": {
    "colab": {
      "provenance": [],
      "authorship_tag": "ABX9TyNEtJ8JxyIpETB2k09ztuRG",
      "include_colab_link": true
    },
    "kernelspec": {
      "name": "python3",
      "display_name": "Python 3"
    },
    "language_info": {
      "name": "python"
    }
  },
  "cells": [
    {
      "cell_type": "markdown",
      "metadata": {
        "id": "view-in-github",
        "colab_type": "text"
      },
      "source": [
        "<a href=\"https://colab.research.google.com/github/PrakC7/College-practices/blob/main/Day1.ipynb\" target=\"_parent\"><img src=\"https://colab.research.google.com/assets/colab-badge.svg\" alt=\"Open In Colab\"/></a>"
      ]
    },
    {
      "cell_type": "code",
      "execution_count": 1,
      "metadata": {
        "colab": {
          "base_uri": "https://localhost:8080/"
        },
        "id": "0Ul6MF7WV_Cv",
        "outputId": "f708c01d-78e9-4e7a-b6d0-076d6dc8d7de"
      },
      "outputs": [
        {
          "output_type": "stream",
          "name": "stdout",
          "text": [
            "Alice is 25 years old.\n"
          ]
        }
      ],
      "source": [
        "name = \"Alice\"\n",
        "age =25\n",
        "print(\"%s is %d years old.\" % (name, age))"
      ]
    },
    {
      "cell_type": "code",
      "source": [
        "name = \"Alice\"\n",
        "age = 25\n",
        "print(\"{} is {} years old.\".format(name, age))"
      ],
      "metadata": {
        "colab": {
          "base_uri": "https://localhost:8080/"
        },
        "id": "hfa9xm6wZaIn",
        "outputId": "0e17dc91-8c4b-45a3-a6a7-5c7bb9beb98f"
      },
      "execution_count": 2,
      "outputs": [
        {
          "output_type": "stream",
          "name": "stdout",
          "text": [
            "Alice is 25 years old.\n"
          ]
        }
      ]
    },
    {
      "cell_type": "code",
      "source": [
        "product = \"Python Course\"\n",
        "price = 99.99\n",
        "print(\"{name} costs ${price:.2f}.\".format(name=product, price=price))"
      ],
      "metadata": {
        "id": "LU61aZlDXJ4T"
      },
      "execution_count": null,
      "outputs": []
    },
    {
      "cell_type": "code",
      "source": [],
      "metadata": {
        "id": "rJ9v18t-Z1uk"
      },
      "execution_count": null,
      "outputs": []
    }
  ]
}