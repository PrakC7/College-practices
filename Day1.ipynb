{
  "nbformat": 4,
  "nbformat_minor": 0,
  "metadata": {
    "colab": {
      "provenance": [],
      "authorship_tag": "ABX9TyN0WW4u0keE0leeoAnLKGfB"
    },
    "kernelspec": {
      "name": "python3",
      "display_name": "Python 3"
    },
    "language_info": {
      "name": "python"
    }
  },
  "cells": [
    {
      "cell_type": "code",
      "source": [
        "name = \"Alice\"\n",
        "age = 25\n",
        "print(\"{} is {} years old.\".format(name, age))"
      ],
      "metadata": {
        "colab": {
          "base_uri": "https://localhost:8080/"
        },
        "id": "hfa9xm6wZaIn",
        "outputId": "0e17dc91-8c4b-45a3-a6a7-5c7bb9beb98f"
      },
      "execution_count": null,
      "outputs": [
        {
          "output_type": "stream",
          "name": "stdout",
          "text": [
            "Alice is 25 years old.\n"
          ]
        }
      ]
    },
    {
      "cell_type": "code",
      "source": [
        "product = \"Python Course\"\n",
        "price = 99.99\n",
        "print(\"{name} costs ${price:.2f}.\".format(name=product, price=price))"
      ],
      "metadata": {
        "colab": {
          "base_uri": "https://localhost:8080/"
        },
        "id": "LU61aZlDXJ4T",
        "outputId": "5e4be9f4-05eb-4f8a-cb5e-50eae8c04cfa"
      },
      "execution_count": null,
      "outputs": [
        {
          "output_type": "stream",
          "name": "stdout",
          "text": [
            "Python Course costs $99.99.\n"
          ]
        }
      ]
    },
    {
      "cell_type": "code",
      "source": [
        "print('India', end = ',')"
      ],
      "metadata": {
        "colab": {
          "base_uri": "https://localhost:8080/"
        },
        "id": "rJ9v18t-Z1uk",
        "outputId": "2f11e0d8-979c-4039-ae51-cff6f6ffd6b6"
      },
      "execution_count": null,
      "outputs": [
        {
          "output_type": "stream",
          "name": "stdout",
          "text": [
            "India,"
          ]
        }
      ]
    },
    {
      "cell_type": "code",
      "source": [
        "print('Namaste','India', sep = ', ')"
      ],
      "metadata": {
        "colab": {
          "base_uri": "https://localhost:8080/"
        },
        "id": "BP2OGlWPafse",
        "outputId": "c2b97b8d-2b00-4b3f-ef0b-1fd6817acfed"
      },
      "execution_count": null,
      "outputs": [
        {
          "output_type": "stream",
          "name": "stdout",
          "text": [
            "Namaste, India\n"
          ]
        }
      ]
    },
    {
      "cell_type": "code",
      "execution_count": null,
      "metadata": {
        "colab": {
          "base_uri": "https://localhost:8080/"
        },
        "id": "0Ul6MF7WV_Cv",
        "outputId": "1793aa56-058d-4051-e6da-3fbf6a7afe61"
      },
      "outputs": [
        {
          "output_type": "stream",
          "name": "stdout",
          "text": [
            "10\n"
          ]
        }
      ],
      "source": [
        "# Var holds the location of the value.\n",
        "a= 10\n",
        "print(a)"
      ]
    },
    {
      "cell_type": "code",
      "source": [
        "a=b=c=1\n",
        "print(a,b,c)"
      ],
      "metadata": {
        "colab": {
          "base_uri": "https://localhost:8080/"
        },
        "id": "UB63cjcUdG4G",
        "outputId": "83483666-4ad1-4397-b728-b731099ee146"
      },
      "execution_count": null,
      "outputs": [
        {
          "output_type": "stream",
          "name": "stdout",
          "text": [
            "1 1 1\n"
          ]
        }
      ]
    },
    {
      "cell_type": "code",
      "source": [
        "a,b,c = 1,2,\"Ram\"\n",
        "print(a,b,c)"
      ],
      "metadata": {
        "colab": {
          "base_uri": "https://localhost:8080/"
        },
        "id": "SoikECs8aslD",
        "outputId": "a1efdfe2-1dd4-4b14-922f-588d412e2a79"
      },
      "execution_count": null,
      "outputs": [
        {
          "output_type": "stream",
          "name": "stdout",
          "text": [
            "1 2 Ram\n"
          ]
        }
      ]
    },
    {
      "cell_type": "code",
      "source": [
        "x = 5\n",
        "y = \"John\"\n",
        "print(type(x))\n",
        "print(type(y))"
      ],
      "metadata": {
        "colab": {
          "base_uri": "https://localhost:8080/"
        },
        "id": "okDbEZBAdYGf",
        "outputId": "48677bb9-d646-491b-a71b-90dc13c37a0a"
      },
      "execution_count": null,
      "outputs": [
        {
          "output_type": "stream",
          "name": "stdout",
          "text": [
            "<class 'int'>\n",
            "<class 'str'>\n"
          ]
        }
      ]
    },
    {
      "cell_type": "code",
      "source": [
        "a = 4\n",
        "b = 2.3\n",
        "c = a+b\n",
        "print(c)"
      ],
      "metadata": {
        "colab": {
          "base_uri": "https://localhost:8080/"
        },
        "id": "DdjE_FPMeNVR",
        "outputId": "dc63f32b-3a6b-4ab7-d03a-05394fe1c56b"
      },
      "execution_count": null,
      "outputs": [
        {
          "output_type": "stream",
          "name": "stdout",
          "text": [
            "6.3\n"
          ]
        }
      ]
    },
    {
      "cell_type": "code",
      "source": [
        "a = 2.6\n",
        "c = int(a)\n",
        "print(c)"
      ],
      "metadata": {
        "colab": {
          "base_uri": "https://localhost:8080/"
        },
        "id": "jt9MnVMMe8bG",
        "outputId": "a1eb3f7a-9992-4005-e3f2-b6adc3736955"
      },
      "execution_count": null,
      "outputs": [
        {
          "output_type": "stream",
          "name": "stdout",
          "text": [
            "2\n"
          ]
        }
      ]
    },
    {
      "cell_type": "markdown",
      "source": [
        "Operators:\n",
        "1.Arithmetic\n",
        "2.Relational\n",
        "3.Assignment\n",
        "4.Logical\n",
        "5.Bitwise\n",
        "6.membership\n",
        "7.Identify"
      ],
      "metadata": {
        "id": "BI3y2qEMfZI1"
      }
    },
    {
      "cell_type": "code",
      "source": [
        "print(5//2)#Remove the integer part."
      ],
      "metadata": {
        "colab": {
          "base_uri": "https://localhost:8080/"
        },
        "id": "EFcVeffGf_Hn",
        "outputId": "878f5d7f-b85e-4f5c-9e47-b85b09ba53dc"
      },
      "execution_count": null,
      "outputs": [
        {
          "output_type": "stream",
          "name": "stdout",
          "text": [
            "2\n"
          ]
        }
      ]
    },
    {
      "cell_type": "code",
      "source": [
        "# To compare we use relational operators.(==,!,etc) (True/False)"
      ],
      "metadata": {
        "id": "YNVBlnN6heto"
      },
      "execution_count": null,
      "outputs": []
    },
    {
      "cell_type": "code",
      "source": [
        "# Short hand notations.(+=,-=,*=,/=)\n",
        "# Cannot use a += b+c."
      ],
      "metadata": {
        "id": "CNvbf4o1ieCX"
      },
      "execution_count": null,
      "outputs": []
    },
    {
      "cell_type": "code",
      "source": [
        "# For bits we use bitwise operators.(&(AND), |(OR), ^(XOR), ~(Complement), <<(Bitwise left shift)(value*2^number of left shifts), >>(Bitwise right shift(value/2^n))"
      ],
      "metadata": {
        "id": "svs5oITwjmeN"
      },
      "execution_count": null,
      "outputs": []
    },
    {
      "cell_type": "code",
      "source": [
        "# Membership (in, not in) (True/False)"
      ],
      "metadata": {
        "id": "hYJxWUobjrdA"
      },
      "execution_count": null,
      "outputs": []
    },
    {
      "cell_type": "code",
      "source": [
        "# Identify (is, is not) (True/False) Two Variable can have the same memory location for the same value."
      ],
      "metadata": {
        "id": "gWpIg3IPm4vx"
      },
      "execution_count": null,
      "outputs": []
    },
    {
      "cell_type": "code",
      "source": [
        "age = int(input(\"Enter your age in years: \"))\n",
        "# One-Way Decision Making(Unary Decision Making)\n",
        "if age >= 18:\n",
        "  print(\"You can VOTE\")\n",
        "  print(\"Congrats!\")"
      ],
      "metadata": {
        "colab": {
          "base_uri": "https://localhost:8080/"
        },
        "id": "WZwCHuu_0ELW",
        "outputId": "f09e5501-7cf2-44d6-8cb5-b2f38c1de148"
      },
      "execution_count": null,
      "outputs": [
        {
          "output_type": "stream",
          "name": "stdout",
          "text": [
            "Enter your age in years: 18\n",
            "You can VOTE\n",
            "Congrats!\n"
          ]
        }
      ]
    },
    {
      "cell_type": "code",
      "source": [
        "age = int(input(\"Enter your age in years: \"))\n",
        "# One-Way Decision Making(Unary Decision Making)\n",
        "if age >= 18:\n",
        "  print(\"Eligible for voting.\")\n",
        "if age <= 17:\n",
        "  print(\"Not eligible for voting.\")"
      ],
      "metadata": {
        "colab": {
          "base_uri": "https://localhost:8080/"
        },
        "id": "kuX7OK8o5mXV",
        "outputId": "22e1293a-6208-4468-812d-3753cdffb778"
      },
      "execution_count": null,
      "outputs": [
        {
          "output_type": "stream",
          "name": "stdout",
          "text": [
            "Enter your age in years: 17\n",
            "Not eligible for voting.\n"
          ]
        }
      ]
    },
    {
      "cell_type": "code",
      "source": [
        "age = int(input(\"Enter your age in years: \"))\n",
        "# Two-Way Decision Making\n",
        "if age >= 18:\n",
        "  print(\"Eligible for voting.\")\n",
        "else:\n",
        "  print(\"You can vote after\",18-age,\"years.\")"
      ],
      "metadata": {
        "colab": {
          "base_uri": "https://localhost:8080/"
        },
        "id": "eAc_bPZC6-rl",
        "outputId": "d93f9560-047b-4ef6-dff5-0c8ec52f366a"
      },
      "execution_count": null,
      "outputs": [
        {
          "output_type": "stream",
          "name": "stdout",
          "text": [
            "Enter your age in years: 17\n",
            "You can vote after 1 years.\n"
          ]
        }
      ]
    },
    {
      "cell_type": "code",
      "source": [
        "# Else-if\n",
        "percentage = int(input(\"Enter your percentage: \"))\n",
        "# Two-Way Decision Making\n",
        "if percentage >= 90:\n",
        "  print(\"Grade A\")\n",
        "elif percentage >= 80:\n",
        "  print(\"Grade B\")\n",
        "elif percentage >= 70:\n",
        "  print(\"Grade C\")\n",
        "elif percentage >= 60:\n",
        "  print(\"Grade D\")\n",
        "elif percentage >= 50:\n",
        "  print(\"Grade E\")\n",
        "else:\n",
        "  print(\"Fail\")"
      ],
      "metadata": {
        "colab": {
          "base_uri": "https://localhost:8080/"
        },
        "id": "iItOAZOV89kw",
        "outputId": "1d21da2c-e341-49c2-8ce9-f4abd9dcd461"
      },
      "execution_count": null,
      "outputs": [
        {
          "output_type": "stream",
          "name": "stdout",
          "text": [
            "Enter your percentage: 100\n",
            "Grade A\n"
          ]
        }
      ]
    },
    {
      "cell_type": "code",
      "source": [
        "# Nested if-else\n",
        "a = int(input(\"Enter first number: \"))\n",
        "b = int(input(\"Enter second number: \"))\n",
        "c = int(input(\"Enter third number: \"))\n",
        "if a>b:\n",
        "  if a>c:\n",
        "    print(a, \"is greatest.\")\n",
        "  else:\n",
        "    print(c, \"is greatest.\")\n",
        "else:\n",
        "  if b>c:\n",
        "    print(b, \"is greatest.\")\n",
        "  else:\n",
        "    print(c, \"is greatest.\")"
      ],
      "metadata": {
        "colab": {
          "base_uri": "https://localhost:8080/"
        },
        "id": "Kd8k2npK9tZO",
        "outputId": "694e17ce-6d4f-4cd2-f7f1-86e0e7bf0daf"
      },
      "execution_count": null,
      "outputs": [
        {
          "output_type": "stream",
          "name": "stdout",
          "text": [
            "Enter first number:1\n",
            "Enter second number:2\n",
            "Enter third number:3\n",
            "3 is greatest.\n"
          ]
        }
      ]
    },
    {
      "cell_type": "code",
      "source": [
        "a = int(input(\"Enter first number: \"))\n",
        "b = int(input(\"Enter second number: \"))\n",
        "c = int(input(\"Enter third number: \"))\n",
        "if a > b and a > c:\n",
        "  print(\"%d is greatest.3\" %(a))\n",
        "elif b > c:\n",
        "  print(\"%d is greatest.\" %(b))\n",
        "else:\n",
        "  print(\"%d is greatest.\" %(c))\n"
      ],
      "metadata": {
        "colab": {
          "base_uri": "https://localhost:8080/"
        },
        "id": "8aWt1mEy_7vY",
        "outputId": "cb6362c4-7109-4201-cc60-7aac8a654206"
      },
      "execution_count": null,
      "outputs": [
        {
          "output_type": "stream",
          "name": "stdout",
          "text": [
            "Enter first number:1\n",
            "Enter second number:1\n",
            "Enter third number:1\n",
            "1 is greatest.\n"
          ]
        }
      ]
    },
    {
      "cell_type": "code",
      "source": [
        "# While Loop\n",
        "# Sum of first n natural numbers\n",
        "num = int(input(\"Enter a natural number: \"))\n",
        "sum = 0\n",
        "while num > 0:\n",
        "  sum = sum + num\n",
        "  num = num - 1\n",
        "print(\"Sum of numbers:\",sum)"
      ],
      "metadata": {
        "colab": {
          "base_uri": "https://localhost:8080/"
        },
        "id": "hSG828gOA7Pg",
        "outputId": "c0e60244-81ff-43bf-95d4-fa2c245853ed"
      },
      "execution_count": null,
      "outputs": [
        {
          "output_type": "stream",
          "name": "stdout",
          "text": [
            "Enter a number: 5\n",
            "Sum of numbers: 15\n"
          ]
        }
      ]
    },
    {
      "cell_type": "code",
      "source": [
        "# While Loop\n",
        "# Factorial\n",
        "num = int(input(\"Enter a number: \"))\n",
        "sum = 1\n",
        "while num > 1:\n",
        "  sum = sum * num\n",
        "  num = num - 1\n",
        "print(\"Factorial:\",sum)"
      ],
      "metadata": {
        "colab": {
          "base_uri": "https://localhost:8080/"
        },
        "id": "ooFwJWDoCXRR",
        "outputId": "bee01f16-77ec-421c-b683-f45f93f56a62"
      },
      "execution_count": null,
      "outputs": [
        {
          "output_type": "stream",
          "name": "stdout",
          "text": [
            "Enter a number: 3\n",
            "Factorial: 6\n"
          ]
        }
      ]
    },
    {
      "cell_type": "code",
      "source": [
        "# For Loop\n",
        "# No increment required.\n",
        "numbers = [10,20,5,15,25,35,30]\n",
        "sum = 0\n",
        "for val in numbers:\n",
        "  sum = sum + val\n",
        "print(\"Sum of numbers:\",sum)"
      ],
      "metadata": {
        "colab": {
          "base_uri": "https://localhost:8080/"
        },
        "id": "dImykcbSDS2B",
        "outputId": "7bad988f-74e9-4a14-bfd3-3af366f744e4"
      },
      "execution_count": null,
      "outputs": [
        {
          "output_type": "stream",
          "name": "stdout",
          "text": [
            "Sum of numbers: 140\n"
          ]
        }
      ]
    },
    {
      "cell_type": "code",
      "source": [
        "# Range Function.\n",
        "for i in range(10):\n",
        "  print(i, end = ',')"
      ],
      "metadata": {
        "colab": {
          "base_uri": "https://localhost:8080/"
        },
        "id": "fK3hXGzqET_h",
        "outputId": "b295e5e7-f20e-4173-dcee-0ce0d159969c"
      },
      "execution_count": null,
      "outputs": [
        {
          "output_type": "stream",
          "name": "stdout",
          "text": [
            "0,1,2,3,4,5,6,7,8,9,"
          ]
        }
      ]
    },
    {
      "cell_type": "code",
      "source": [
        "# Range Function.\n",
        "for i in range(1,10):\n",
        "  print(i, end = ',')"
      ],
      "metadata": {
        "id": "t4Qko2gSEnkY"
      },
      "execution_count": null,
      "outputs": []
    },
    {
      "cell_type": "code",
      "source": [
        "# Range Function.\n",
        "for i in range(1,10,2):\n",
        "  print(i, end = ',')"
      ],
      "metadata": {
        "colab": {
          "base_uri": "https://localhost:8080/"
        },
        "id": "-A3yJ4YBEtja",
        "outputId": "8a80e033-d8a7-4279-d51f-8c21911c629d"
      },
      "execution_count": null,
      "outputs": [
        {
          "output_type": "stream",
          "name": "stdout",
          "text": [
            "1,3,5,7,9,"
          ]
        }
      ]
    },
    {
      "cell_type": "code",
      "source": [
        "# Range Function.\n",
        "for i in range(1,5):\n",
        "  for j in range(i):\n",
        "    print(i, end=\" \")\n",
        "  print()"
      ],
      "metadata": {
        "colab": {
          "base_uri": "https://localhost:8080/"
        },
        "id": "7vmtj2bpFgJo",
        "outputId": "9a6e594e-0159-4584-d33a-079c37bbaa94"
      },
      "execution_count": null,
      "outputs": [
        {
          "output_type": "stream",
          "name": "stdout",
          "text": [
            "1 \n",
            "2 2 \n",
            "3 3 3 \n",
            "4 4 4 4 \n"
          ]
        }
      ]
    },
    {
      "cell_type": "code",
      "source": [
        "# Break Statement\n",
        "numbers = [1,2,3,4,5,6,7,8,9]\n",
        "num_sum = 0\n",
        "count = 0\n",
        "for x in numbers:\n",
        "  num_sum = num_sum + x\n",
        "  count = count + 1\n",
        "  if count == 5:\n",
        "    break\n",
        "print(\"Sum of first\",count,\"integers is:\",num_sum)"
      ],
      "metadata": {
        "colab": {
          "base_uri": "https://localhost:8080/"
        },
        "id": "IIdI4IhbGskT",
        "outputId": "ae4a8ae1-281c-4907-de93-cc126598d6af"
      },
      "execution_count": null,
      "outputs": [
        {
          "output_type": "stream",
          "name": "stdout",
          "text": [
            "Sum of first 5 integers is: 15\n"
          ]
        }
      ]
    },
    {
      "cell_type": "code",
      "source": [
        "# Continue Statement\n",
        "for x in range(7):\n",
        "  if x==3 or x==6:\n",
        "    continue\n",
        "  print(x)"
      ],
      "metadata": {
        "colab": {
          "base_uri": "https://localhost:8080/"
        },
        "id": "zm2uO1b4KWLz",
        "outputId": "5f4bb6b5-386a-42f3-fc4f-589ebaf0338d"
      },
      "execution_count": null,
      "outputs": [
        {
          "output_type": "stream",
          "name": "stdout",
          "text": [
            "0\n",
            "1\n",
            "2\n",
            "4\n",
            "5\n"
          ]
        }
      ]
    },
    {
      "cell_type": "code",
      "source": [
        "# Pass Statement\n",
        "def myfunction():\n",
        "  pass"
      ],
      "metadata": {
        "id": "kBo03QDBKv_M"
      },
      "execution_count": null,
      "outputs": []
    },
    {
      "cell_type": "code",
      "source": [
        "# Pass Statement\n",
        "class myclass():\n",
        "  pass"
      ],
      "metadata": {
        "id": "KU7dUrrNLTYz"
      },
      "execution_count": null,
      "outputs": []
    },
    {
      "cell_type": "code",
      "source": [
        "# String\n",
        "name = 'Manmohan' # Single quotes\n",
        " # Double quotes"
      ],
      "metadata": {
        "id": "ghgPFcuRMH2D"
      },
      "execution_count": null,
      "outputs": []
    },
    {
      "cell_type": "code",
      "source": [
        "# Access Elements of String\n",
        "city = \"Noida\"\n",
        "print(city[0]) # Base address + index * size of n (address + 0 * 1(Byte))"
      ],
      "metadata": {
        "colab": {
          "base_uri": "https://localhost:8080/"
        },
        "id": "KCiqRajaL2au",
        "outputId": "6ad1d8bc-4da8-40be-ebed-2bd829a565c4"
      },
      "execution_count": null,
      "outputs": [
        {
          "output_type": "stream",
          "name": "stdout",
          "text": [
            "N\n"
          ]
        }
      ]
    },
    {
      "cell_type": "code",
      "source": [
        "# Traverse of String\n",
        "city = \"Noida\"\n",
        "for i in city:\n",
        "  print(i)"
      ],
      "metadata": {
        "colab": {
          "base_uri": "https://localhost:8080/"
        },
        "id": "tqpgDGCANoDe",
        "outputId": "d36bd71e-436b-494f-e869-b5a2ad0ca5c3"
      },
      "execution_count": null,
      "outputs": [
        {
          "output_type": "stream",
          "name": "stdout",
          "text": [
            "N\n",
            "o\n",
            "i\n",
            "d\n",
            "a\n"
          ]
        }
      ]
    },
    {
      "cell_type": "code",
      "source": [
        "# Concatenation\n",
        "c1 = \"Greater\"\n",
        "c2 = \" \"\n",
        "c3 = \"Noida\"\n",
        "print(c1+c2+c3)"
      ],
      "metadata": {
        "colab": {
          "base_uri": "https://localhost:8080/"
        },
        "id": "E2FIv3ogNxjk",
        "outputId": "9297b3f4-e731-4bc0-c91a-c5033862abce"
      },
      "execution_count": null,
      "outputs": [
        {
          "output_type": "stream",
          "name": "stdout",
          "text": [
            "Greater Noida\n"
          ]
        }
      ]
    },
    {
      "cell_type": "code",
      "source": [
        "# String Slicing\n",
        "str = \"PYTHON\"\n",
        "print(\"str [1:5]:\",str[1:5])\n",
        "print(\"str [:6]:\",str[:6])\n",
        "print(\"str [1:]:\",str[1:])\n",
        "print(\"str [:]:\",str[:])\n",
        "print(\"str [1:20]:\",str[:])"
      ],
      "metadata": {
        "id": "IbfO2M1GPYSj"
      },
      "execution_count": null,
      "outputs": []
    },
    {
      "cell_type": "code",
      "source": [
        "# Negative Indexing\n",
        "str = \"Noida\"\n",
        "print(\"str [2]:\",str[2])\n",
        "print(\"str [-3]:\",str[-3])"
      ],
      "metadata": {
        "colab": {
          "base_uri": "https://localhost:8080/"
        },
        "id": "cWxcHrJ-Paac",
        "outputId": "bce59cef-436e-46c0-d55e-1d5e16d727c0"
      },
      "execution_count": null,
      "outputs": [
        {
          "output_type": "stream",
          "name": "stdout",
          "text": [
            "str [2] i\n",
            "str [-3] i\n"
          ]
        }
      ]
    },
    {
      "cell_type": "code",
      "source": [
        "# String Slicing\n",
        "str = \"PYTHON\"\n",
        "print(\"str [-1]:\",str[-1]) # Last character is accessed\n",
        "print(\"str [-6]:\",str[-6]) # First character is accessed\n",
        "print(\"str [-2:]:\",str[-2:]) # Last two characters are accessed\n",
        "print(\"str [:-2]:\",str[:-2]) # Except last two characters are accessed\n",
        "print(\"str [-5:-2]:\",str[-5:-2]) # Three characters are accessed"
      ],
      "metadata": {
        "colab": {
          "base_uri": "https://localhost:8080/"
        },
        "id": "eL1nkTfbP7_E",
        "outputId": "8cb23793-0a03-4601-afe4-a0234fc03da9"
      },
      "execution_count": null,
      "outputs": [
        {
          "output_type": "stream",
          "name": "stdout",
          "text": [
            "str [-1]: N\n",
            "str [-6]: P\n",
            "str [-2:]: ON\n",
            "str [:-2]: PYTH\n",
            "str [-5:-2]: YTH\n"
          ]
        }
      ]
    },
    {
      "cell_type": "code",
      "source": [
        "# First character of all the words in upper case\n",
        "# str.title()\n",
        "str1=\"my NaMe is moHIT\"\n",
        "print(str1.title())"
      ],
      "metadata": {
        "colab": {
          "base_uri": "https://localhost:8080/"
        },
        "id": "Hl1-vgDVRXKe",
        "outputId": "84241484-f437-4748-a632-dc083cc84b27"
      },
      "execution_count": null,
      "outputs": [
        {
          "output_type": "stream",
          "name": "stdout",
          "text": [
            "My Name Is Mohit\n"
          ]
        }
      ]
    },
    {
      "cell_type": "code",
      "source": [
        "# All the characters in upper case\n",
        "# str.capitalize()\n",
        "str1=\"my NaMe is moHIT\"\n",
        "print(str1.capitalize())"
      ],
      "metadata": {
        "colab": {
          "base_uri": "https://localhost:8080/"
        },
        "id": "0C8a2NO3Qzl_",
        "outputId": "e76cb8d5-055e-4638-a22f-e88bcf0aebfd"
      },
      "execution_count": null,
      "outputs": [
        {
          "output_type": "stream",
          "name": "stdout",
          "text": [
            "My name is mohit\n"
          ]
        }
      ]
    },
    {
      "cell_type": "code",
      "source": [
        "# All the characters in lower case\n",
        "# str.casefold()\n",
        "str1=\"my NaMe is moHIT\"\n",
        "print(str1.casefold())"
      ],
      "metadata": {
        "id": "cRqE7Fd8RiqR"
      },
      "execution_count": null,
      "outputs": []
    },
    {
      "cell_type": "code",
      "source": [
        "# str.count()\n",
        "str1=\"my NaMe is moHIT\"\n",
        "print(str1.count(\"i\"))\n",
        "print(str1.count(\"m\"))"
      ],
      "metadata": {
        "colab": {
          "base_uri": "https://localhost:8080/"
        },
        "id": "gW-Pxi12SIme",
        "outputId": "8bf7d914-ec5a-454e-be9b-a073a8b963c7"
      },
      "execution_count": null,
      "outputs": [
        {
          "output_type": "stream",
          "name": "stdout",
          "text": [
            "1\n",
            "2\n"
          ]
        }
      ]
    },
    {
      "cell_type": "code",
      "source": [
        "# Spaces and start and end will be removed\n",
        "# str.strip()\n",
        "str1=\" my NaMe is moHIT \"\n",
        "print(str1.strip())"
      ],
      "metadata": {
        "colab": {
          "base_uri": "https://localhost:8080/"
        },
        "id": "qFNBU9WpSfDE",
        "outputId": "0d77a9f8-ee52-4504-c7e2-a52292b1b59a"
      },
      "execution_count": null,
      "outputs": [
        {
          "output_type": "stream",
          "name": "stdout",
          "text": [
            "my NaMe is moHIT\n"
          ]
        }
      ]
    },
    {
      "cell_type": "code",
      "source": [
        "# str.replace()\n",
        "str1=\" My name is Mohit.\"\n",
        "print(str1.replace(\"Mohit\",\"Prakhar\"))"
      ],
      "metadata": {
        "colab": {
          "base_uri": "https://localhost:8080/"
        },
        "id": "fpC-O207SxTW",
        "outputId": "61210b11-d3ae-426a-a480-7bd496a25887"
      },
      "execution_count": null,
      "outputs": [
        {
          "output_type": "stream",
          "name": "stdout",
          "text": [
            " My name is Prakhar.\n"
          ]
        }
      ]
    },
    {
      "cell_type": "code",
      "source": [
        "# str.split()\n",
        "str1=\"My name is Prakhar\"\n",
        "print(str1.split())"
      ],
      "metadata": {
        "colab": {
          "base_uri": "https://localhost:8080/"
        },
        "id": "6sEcLE1IS9tx",
        "outputId": "07d215bf-2a36-4c1d-889e-e4ba6a7a3ddc"
      },
      "execution_count": null,
      "outputs": [
        {
          "output_type": "stream",
          "name": "stdout",
          "text": [
            "['My', 'name', 'is', 'Prakhar']\n"
          ]
        }
      ]
    },
    {
      "cell_type": "code",
      "source": [
        "# List (Ordered, Mutable, Duplicate values are allowed)\n",
        "a = [1,2,3,4,5,6]\n",
        "print(a)"
      ],
      "metadata": {
        "colab": {
          "base_uri": "https://localhost:8080/"
        },
        "id": "y7Cont19VJ6p",
        "outputId": "1039227c-a585-4f0c-ff65-a876db811ada"
      },
      "execution_count": 105,
      "outputs": [
        {
          "output_type": "stream",
          "name": "stdout",
          "text": [
            "[1, 2, 3, 4, 5, 6]\n"
          ]
        }
      ]
    },
    {
      "cell_type": "code",
      "source": [
        "# Using list() for creating list\n",
        "a = list((\"Abhi\", 10, 75))\n",
        "print(a)"
      ],
      "metadata": {
        "colab": {
          "base_uri": "https://localhost:8080/"
        },
        "id": "j7X0Bd7uVkon",
        "outputId": "50aebbf3-0dd3-449c-8303-366e0d105a15"
      },
      "execution_count": 107,
      "outputs": [
        {
          "output_type": "stream",
          "name": "stdout",
          "text": [
            "['Abhi', 10, 75]\n"
          ]
        }
      ]
    },
    {
      "cell_type": "code",
      "source": [
        "# Using indexing in list\n",
        "list1 = [1,2,3,4,5,6]\n",
        "print(list1[-2])"
      ],
      "metadata": {
        "colab": {
          "base_uri": "https://localhost:8080/"
        },
        "id": "fUwx9zLEWAug",
        "outputId": "7482a0c0-6b12-41fa-c62d-aed6e15d55c8"
      },
      "execution_count": 108,
      "outputs": [
        {
          "output_type": "stream",
          "name": "stdout",
          "text": [
            "5\n"
          ]
        }
      ]
    },
    {
      "cell_type": "code",
      "source": [
        "# List slicing\n",
        "list1 = [1,2,3,4,5,6,8,9,10]\n",
        "print(list1[1:7:2])"
      ],
      "metadata": {
        "colab": {
          "base_uri": "https://localhost:8080/"
        },
        "id": "1OCxZVT3WQuz",
        "outputId": "b5449b9e-666a-4240-e261-b9ae64829870"
      },
      "execution_count": 109,
      "outputs": [
        {
          "output_type": "stream",
          "name": "stdout",
          "text": [
            "[2, 4, 6]\n"
          ]
        }
      ]
    },
    {
      "cell_type": "code",
      "source": [
        "# List is mutable\n",
        "list1 = [1,2,3,4,5,6,8,9,10]\n",
        "print(\"Before changing\",list1)\n",
        "list1 = [\"a\",\"b\",\"c\",\"d\",\"e\"]\n",
        "print(\"After changing\",list1)"
      ],
      "metadata": {
        "colab": {
          "base_uri": "https://localhost:8080/"
        },
        "id": "Ki30L4RIWh43",
        "outputId": "33bad538-14dd-414b-b8ba-cb4d9ecf99f6"
      },
      "execution_count": 111,
      "outputs": [
        {
          "output_type": "stream",
          "name": "stdout",
          "text": [
            "Before changing [1, 2, 3, 4, 5, 6, 8, 9, 10]\n",
            "After changing ['a', 'b', 'c', 'd', 'e']\n"
          ]
        }
      ]
    },
    {
      "cell_type": "code",
      "source": [
        "# List of Cubes\n",
        "list1 = []\n",
        "for i in range(11):\n",
        "  list1.append(i**3)\n",
        "print(list1)"
      ],
      "metadata": {
        "colab": {
          "base_uri": "https://localhost:8080/"
        },
        "id": "9oFlbRyfYknx",
        "outputId": "ca42074b-f5da-46f7-927e-a528950ae426"
      },
      "execution_count": 123,
      "outputs": [
        {
          "output_type": "stream",
          "name": "stdout",
          "text": [
            "[0, 1, 8, 27, 64, 125, 216, 343, 512, 729, 1000]\n"
          ]
        }
      ]
    },
    {
      "cell_type": "code",
      "source": [
        "# List Comprehension (Elegant and short code)\n",
        "cubes = [i**3 for i in range(11)]\n",
        "print(cubes)"
      ],
      "metadata": {
        "colab": {
          "base_uri": "https://localhost:8080/"
        },
        "id": "rVpMrQLrXJWN",
        "outputId": "e68d48db-5c66-4c99-dca4-ee9bd1799298"
      },
      "execution_count": 121,
      "outputs": [
        {
          "output_type": "stream",
          "name": "stdout",
          "text": [
            "[0, 1, 8, 27, 64, 125, 216, 343, 512, 729, 1000]\n"
          ]
        }
      ]
    },
    {
      "cell_type": "code",
      "source": [
        "# Even numbers from a list\n",
        "list1 = [1,2,3,4,5,6,8,9,10]\n",
        "even = []\n",
        "for i in list1:\n",
        "  if i % 2 == 0:\n",
        "    even.append(i)\n",
        "print(even)"
      ],
      "metadata": {
        "colab": {
          "base_uri": "https://localhost:8080/"
        },
        "id": "VDeBGwzCZIbg",
        "outputId": "39826dd2-081f-48e8-e514-5c750f527da1"
      },
      "execution_count": 124,
      "outputs": [
        {
          "output_type": "stream",
          "name": "stdout",
          "text": [
            "[2, 4, 6, 8, 10]\n"
          ]
        }
      ]
    },
    {
      "cell_type": "code",
      "source": [
        "# Even numbers from a list\n",
        "# Using List Comprehension\n",
        "list1 = [1,2,3,4,5,6,8,9,10]\n",
        "list1 = [i for i in list1 if i % 2 == 0]\n",
        "print(list1)"
      ],
      "metadata": {
        "colab": {
          "base_uri": "https://localhost:8080/"
        },
        "id": "aVIwYq0TZunh",
        "outputId": "94aa0467-b5bf-431f-fb6d-77e6e565e4c9"
      },
      "execution_count": 127,
      "outputs": [
        {
          "output_type": "stream",
          "name": "stdout",
          "text": [
            "[2, 4, 6, 8, 10]\n"
          ]
        }
      ]
    }
  ]
}