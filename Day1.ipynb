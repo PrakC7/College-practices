{
  "nbformat": 4,
  "nbformat_minor": 0,
  "metadata": {
    "colab": {
      "provenance": [],
      "authorship_tag": "ABX9TyPkVXrQm7S9krrYRQm6TA4f",
      "include_colab_link": true
    },
    "kernelspec": {
      "name": "python3",
      "display_name": "Python 3"
    },
    "language_info": {
      "name": "python"
    }
  },
  "cells": [
    {
      "cell_type": "markdown",
      "metadata": {
        "id": "view-in-github",
        "colab_type": "text"
      },
      "source": [
        "<a href=\"https://colab.research.google.com/github/PrakC7/College-practices/blob/main/Day1.ipynb\" target=\"_parent\"><img src=\"https://colab.research.google.com/assets/colab-badge.svg\" alt=\"Open In Colab\"/></a>"
      ]
    },
    {
      "cell_type": "code",
      "source": [
        "name = \"Alice\"\n",
        "age = 25\n",
        "print(\"{} is {} years old.\".format(name, age))"
      ],
      "metadata": {
        "colab": {
          "base_uri": "https://localhost:8080/"
        },
        "id": "hfa9xm6wZaIn",
        "outputId": "0e17dc91-8c4b-45a3-a6a7-5c7bb9beb98f"
      },
      "execution_count": 2,
      "outputs": [
        {
          "output_type": "stream",
          "name": "stdout",
          "text": [
            "Alice is 25 years old.\n"
          ]
        }
      ]
    },
    {
      "cell_type": "code",
      "source": [
        "product = \"Python Course\"\n",
        "price = 99.99\n",
        "print(\"{name} costs ${price:.2f}.\".format(name=product, price=price))"
      ],
      "metadata": {
        "colab": {
          "base_uri": "https://localhost:8080/"
        },
        "id": "LU61aZlDXJ4T",
        "outputId": "5e4be9f4-05eb-4f8a-cb5e-50eae8c04cfa"
      },
      "execution_count": 4,
      "outputs": [
        {
          "output_type": "stream",
          "name": "stdout",
          "text": [
            "Python Course costs $99.99.\n"
          ]
        }
      ]
    },
    {
      "cell_type": "code",
      "source": [
        "print('India', end = ',')"
      ],
      "metadata": {
        "colab": {
          "base_uri": "https://localhost:8080/"
        },
        "id": "rJ9v18t-Z1uk",
        "outputId": "2f11e0d8-979c-4039-ae51-cff6f6ffd6b6"
      },
      "execution_count": 5,
      "outputs": [
        {
          "output_type": "stream",
          "name": "stdout",
          "text": [
            "India,"
          ]
        }
      ]
    },
    {
      "cell_type": "code",
      "source": [
        "print('Namaste','India', sep = ', ')"
      ],
      "metadata": {
        "colab": {
          "base_uri": "https://localhost:8080/"
        },
        "id": "BP2OGlWPafse",
        "outputId": "c2b97b8d-2b00-4b3f-ef0b-1fd6817acfed"
      },
      "execution_count": 3,
      "outputs": [
        {
          "output_type": "stream",
          "name": "stdout",
          "text": [
            "Namaste, India\n"
          ]
        }
      ]
    },
    {
      "cell_type": "code",
      "execution_count": 6,
      "metadata": {
        "colab": {
          "base_uri": "https://localhost:8080/"
        },
        "id": "0Ul6MF7WV_Cv",
        "outputId": "1793aa56-058d-4051-e6da-3fbf6a7afe61"
      },
      "outputs": [
        {
          "output_type": "stream",
          "name": "stdout",
          "text": [
            "10\n"
          ]
        }
      ],
      "source": [
        "#Var holds the location of the value.\n",
        "a= 10\n",
        "print(a)"
      ]
    },
    {
      "cell_type": "code",
      "source": [
        "a=b=c=1\n",
        "print(a,b,c)"
      ],
      "metadata": {
        "colab": {
          "base_uri": "https://localhost:8080/"
        },
        "id": "UB63cjcUdG4G",
        "outputId": "83483666-4ad1-4397-b728-b731099ee146"
      },
      "execution_count": 9,
      "outputs": [
        {
          "output_type": "stream",
          "name": "stdout",
          "text": [
            "1 1 1\n"
          ]
        }
      ]
    },
    {
      "cell_type": "code",
      "source": [
        "a,b,c = 1,2,\"Ram\"\n",
        "print(a,b,c)"
      ],
      "metadata": {
        "colab": {
          "base_uri": "https://localhost:8080/"
        },
        "id": "SoikECs8aslD",
        "outputId": "a1efdfe2-1dd4-4b14-922f-588d412e2a79"
      },
      "execution_count": 10,
      "outputs": [
        {
          "output_type": "stream",
          "name": "stdout",
          "text": [
            "1 2 Ram\n"
          ]
        }
      ]
    },
    {
      "cell_type": "code",
      "source": [
        "x = 5\n",
        "y = \"John\"\n",
        "print(type(x))\n",
        "print(type(y))"
      ],
      "metadata": {
        "colab": {
          "base_uri": "https://localhost:8080/"
        },
        "id": "okDbEZBAdYGf",
        "outputId": "48677bb9-d646-491b-a71b-90dc13c37a0a"
      },
      "execution_count": 11,
      "outputs": [
        {
          "output_type": "stream",
          "name": "stdout",
          "text": [
            "<class 'int'>\n",
            "<class 'str'>\n"
          ]
        }
      ]
    },
    {
      "cell_type": "code",
      "source": [
        "a = 4\n",
        "b = 2.3\n",
        "c = a+b\n",
        "print(c)"
      ],
      "metadata": {
        "colab": {
          "base_uri": "https://localhost:8080/"
        },
        "id": "DdjE_FPMeNVR",
        "outputId": "dc63f32b-3a6b-4ab7-d03a-05394fe1c56b"
      },
      "execution_count": 12,
      "outputs": [
        {
          "output_type": "stream",
          "name": "stdout",
          "text": [
            "6.3\n"
          ]
        }
      ]
    },
    {
      "cell_type": "code",
      "source": [
        "a = 2.6\n",
        "c = int(a)\n",
        "print(c)"
      ],
      "metadata": {
        "colab": {
          "base_uri": "https://localhost:8080/"
        },
        "id": "jt9MnVMMe8bG",
        "outputId": "a1eb3f7a-9992-4005-e3f2-b6adc3736955"
      },
      "execution_count": 14,
      "outputs": [
        {
          "output_type": "stream",
          "name": "stdout",
          "text": [
            "2\n"
          ]
        }
      ]
    },
    {
      "cell_type": "markdown",
      "source": [
        "Operators:\n",
        "1.Arithmetic\n",
        "2.Relational\n",
        "3.Assignment\n",
        "4.Logical\n",
        "5.Bitwise\n",
        "6.membership\n",
        "7.Identify"
      ],
      "metadata": {
        "id": "BI3y2qEMfZI1"
      }
    },
    {
      "cell_type": "code",
      "source": [
        "print(5//2)#Remove the integer part."
      ],
      "metadata": {
        "colab": {
          "base_uri": "https://localhost:8080/"
        },
        "id": "EFcVeffGf_Hn",
        "outputId": "878f5d7f-b85e-4f5c-9e47-b85b09ba53dc"
      },
      "execution_count": 21,
      "outputs": [
        {
          "output_type": "stream",
          "name": "stdout",
          "text": [
            "2\n"
          ]
        }
      ]
    },
    {
      "cell_type": "code",
      "source": [
        "#To compare we use relational operators.(==,!,etc) (True/False)"
      ],
      "metadata": {
        "id": "YNVBlnN6heto"
      },
      "execution_count": null,
      "outputs": []
    },
    {
      "cell_type": "code",
      "source": [
        "# Short hand notations.(+=,-=,*=,/=)\n",
        "# Cannot use a += b+c."
      ],
      "metadata": {
        "id": "CNvbf4o1ieCX"
      },
      "execution_count": null,
      "outputs": []
    },
    {
      "cell_type": "code",
      "source": [
        "# For bits we use bitwise operators.(&(AND), |(OR), ^(XOR), ~(Complement), <<(Bitwise left shift)(value*2^number of left shifts), >>(Bitwise right shift(value/2^n))"
      ],
      "metadata": {
        "id": "svs5oITwjmeN"
      },
      "execution_count": null,
      "outputs": []
    },
    {
      "cell_type": "code",
      "source": [
        "#Membership (in, not in) (True/False)"
      ],
      "metadata": {
        "id": "hYJxWUobjrdA"
      },
      "execution_count": null,
      "outputs": []
    },
    {
      "cell_type": "code",
      "source": [
        "# Identify (is, is not) (True/False) Two Variable can have the same memory location for the same value."
      ],
      "metadata": {
        "id": "gWpIg3IPm4vx"
      },
      "execution_count": null,
      "outputs": []
    }
  ]
}