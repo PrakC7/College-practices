{
  "nbformat": 4,
  "nbformat_minor": 0,
  "metadata": {
    "colab": {
      "provenance": [],
      "authorship_tag": "ABX9TyOpQYJW0iwVcv7M8SiLL9gp"
    },
    "kernelspec": {
      "name": "python3",
      "display_name": "Python 3"
    },
    "language_info": {
      "name": "python"
    }
  },
  "cells": [
    {
      "cell_type": "code",
      "execution_count": null,
      "metadata": {
        "id": "19lv6N54Ju8K",
        "colab": {
          "base_uri": "https://localhost:8080/"
        },
        "outputId": "a18be585-d55d-41e2-970d-411149f12c89"
      },
      "outputs": [
        {
          "output_type": "stream",
          "name": "stdout",
          "text": [
            "['HELLO', 'THIS', 'IS', 'PRAKHAR']\n"
          ]
        }
      ],
      "source": [
        "# List\n",
        "words = ['hello','this', 'is', 'prakhar']\n",
        "uppercase = [word.upper() for word in words]\n",
        "print(uppercase)"
      ]
    },
    {
      "cell_type": "code",
      "source": [
        "# Tuple\n",
        "tup = (\"apple\", \"banana\", \"cherry\")\n",
        "print(tup)"
      ],
      "metadata": {
        "colab": {
          "base_uri": "https://localhost:8080/"
        },
        "id": "CsgRXgGUNUA5",
        "outputId": "eb9703ab-3ce7-4c33-ce9b-f55e82f12515"
      },
      "execution_count": null,
      "outputs": [
        {
          "output_type": "stream",
          "name": "stdout",
          "text": [
            "('apple', 'banana', 'cherry')\n"
          ]
        }
      ]
    },
    {
      "cell_type": "code",
      "source": [
        "# Change in tuple using list\n",
        "x = (\"apple\", \"banana\", \"cherry\")\n",
        "y = list(x)\n",
        "y[1] = \"kiwi\"\n",
        "x = tuple(y)\n",
        "print(x)"
      ],
      "metadata": {
        "colab": {
          "base_uri": "https://localhost:8080/"
        },
        "id": "a_Y4ReRNONv5",
        "outputId": "afb5a231-dac1-4233-e926-29c205b0d732"
      },
      "execution_count": null,
      "outputs": [
        {
          "output_type": "stream",
          "name": "stdout",
          "text": [
            "('apple', 'kiwi', 'cherry')\n"
          ]
        }
      ]
    },
    {
      "cell_type": "code",
      "source": [
        "# Assigning one tuple values to the other\n",
        "(a,b,c) = (1,2,3)\n",
        "print(a,b,c)"
      ],
      "metadata": {
        "colab": {
          "base_uri": "https://localhost:8080/"
        },
        "id": "B_knhRb_Ow5q",
        "outputId": "618b8648-4f2a-4ffa-a1af-c812b25e9b9d"
      },
      "execution_count": null,
      "outputs": [
        {
          "output_type": "stream",
          "name": "stdout",
          "text": [
            "1 2 3\n"
          ]
        }
      ]
    },
    {
      "cell_type": "code",
      "source": [
        "# Tuple Assignment\n",
        "Tup1 = (100,200,300)\n",
        "(a,b,c) = Tup1\n",
        "print(a,b,c)"
      ],
      "metadata": {
        "colab": {
          "base_uri": "https://localhost:8080/"
        },
        "id": "pqSKCKp1Pm26",
        "outputId": "8341c33b-62d1-4ab1-bf78-c3f95b63dec3"
      },
      "execution_count": null,
      "outputs": [
        {
          "output_type": "stream",
          "name": "stdout",
          "text": [
            "100 200 300\n"
          ]
        }
      ]
    },
    {
      "cell_type": "code",
      "source": [
        "# Tuple\n",
        "# Membership Operator\n",
        "x = (\"apple\", \"banana\", \"cherry\")\n",
        "if \"apple\" in x:\n",
        "  print(\"Yes, apple is available.\")"
      ],
      "metadata": {
        "colab": {
          "base_uri": "https://localhost:8080/"
        },
        "id": "1XZIVFtdQw79",
        "outputId": "95b9904d-66d0-4391-f054-808414d4c88a"
      },
      "execution_count": null,
      "outputs": [
        {
          "output_type": "stream",
          "name": "stdout",
          "text": [
            "Yes, apple is available.\n"
          ]
        }
      ]
    },
    {
      "cell_type": "code",
      "source": [
        "# Length of tuple\n",
        "x = (\"apple\", \"banana\", \"cherry\")\n",
        "print(len(x))"
      ],
      "metadata": {
        "colab": {
          "base_uri": "https://localhost:8080/"
        },
        "id": "eCA7U7UnRZOc",
        "outputId": "a2359086-2089-4ae8-9e0f-487ed0623c0e"
      },
      "execution_count": null,
      "outputs": [
        {
          "output_type": "stream",
          "name": "stdout",
          "text": [
            "3\n"
          ]
        }
      ]
    },
    {
      "cell_type": "code",
      "source": [
        "# Joining tuples\n",
        "x = (\"apple\", \"banana\", \"cherry\")\n",
        "y = (1,2,3)\n",
        "z = x+y\n",
        "print(z)"
      ],
      "metadata": {
        "colab": {
          "base_uri": "https://localhost:8080/"
        },
        "id": "UqCjrG_gRnn6",
        "outputId": "457b1f4f-87a4-4869-b05d-f7f7216aa8bd"
      },
      "execution_count": null,
      "outputs": [
        {
          "output_type": "stream",
          "name": "stdout",
          "text": [
            "('apple', 'banana', 'cherry', 1, 2, 3)\n"
          ]
        }
      ]
    },
    {
      "cell_type": "code",
      "source": [
        "# Deleting tuple\n",
        "x = (\"apple\", \"banana\", \"cherry\")\n",
        "del x\n",
        "print(x) # This wil raise an error because the tupe no longer exists"
      ],
      "metadata": {
        "colab": {
          "base_uri": "https://localhost:8080/",
          "height": 176
        },
        "id": "C9bQUc4-RyxH",
        "outputId": "fe9634e2-4db1-42be-c320-985b44b4f43c"
      },
      "execution_count": null,
      "outputs": [
        {
          "output_type": "error",
          "ename": "NameError",
          "evalue": "name 'x' is not defined",
          "traceback": [
            "\u001b[0;31m---------------------------------------------------------------------------\u001b[0m",
            "\u001b[0;31mNameError\u001b[0m                                 Traceback (most recent call last)",
            "\u001b[0;32m<ipython-input-78-1725297358>\u001b[0m in \u001b[0;36m<cell line: 0>\u001b[0;34m()\u001b[0m\n\u001b[1;32m      2\u001b[0m \u001b[0mx\u001b[0m \u001b[0;34m=\u001b[0m \u001b[0;34m(\u001b[0m\u001b[0;34m\"apple\"\u001b[0m\u001b[0;34m,\u001b[0m \u001b[0;34m\"banana\"\u001b[0m\u001b[0;34m,\u001b[0m \u001b[0;34m\"cherry\"\u001b[0m\u001b[0;34m)\u001b[0m\u001b[0;34m\u001b[0m\u001b[0;34m\u001b[0m\u001b[0m\n\u001b[1;32m      3\u001b[0m \u001b[0;32mdel\u001b[0m \u001b[0mx\u001b[0m\u001b[0;34m\u001b[0m\u001b[0;34m\u001b[0m\u001b[0m\n\u001b[0;32m----> 4\u001b[0;31m \u001b[0mprint\u001b[0m\u001b[0;34m(\u001b[0m\u001b[0mx\u001b[0m\u001b[0;34m)\u001b[0m \u001b[0;31m# This wil raise an error because the tupe no longer exists\u001b[0m\u001b[0;34m\u001b[0m\u001b[0;34m\u001b[0m\u001b[0m\n\u001b[0m",
            "\u001b[0;31mNameError\u001b[0m: name 'x' is not defined"
          ]
        }
      ]
    },
    {
      "cell_type": "code",
      "source": [
        "# Defining Function\n",
        "def max_min(vals):\n",
        "  x = max(vals)\n",
        "  y = min(vals)\n",
        "  return(\"Max: \",x,\"Min:\",y)\n",
        "li = [10,56,43,32,76,26]\n",
        "print(max_min(li))"
      ],
      "metadata": {
        "id": "1Mb-rfKVTcJ5"
      },
      "execution_count": null,
      "outputs": []
    },
    {
      "cell_type": "code",
      "source": [
        "# Nested Tuple\n",
        "x = (1,2,3)\n",
        "y = ('Python','Java','C++')\n",
        "z=(x,y)\n",
        "print(z)"
      ],
      "metadata": {
        "id": "_l0OznXWTko6"
      },
      "execution_count": null,
      "outputs": []
    },
    {
      "cell_type": "code",
      "source": [
        "# Sets\n",
        "x = {\"apple\", \"banana\", \"cherry\"}\n",
        "print(x)"
      ],
      "metadata": {
        "id": "WXeRkzi3UBIp"
      },
      "execution_count": null,
      "outputs": []
    },
    {
      "cell_type": "code",
      "source": [
        "# Sets\n",
        "x = {\"apple\", \"banana\", \"cherry\"}\n",
        "for x in x:\n",
        "  print(x)"
      ],
      "metadata": {
        "id": "Z_j7ZfOEUZ9J"
      },
      "execution_count": null,
      "outputs": []
    },
    {
      "cell_type": "code",
      "source": [
        "# Removing Elements.\n",
        "y = {'Python','Java','C++'}\n",
        "y.remove(\"Java\")\n",
        "print(y)"
      ],
      "metadata": {
        "id": "tsn0EV8hVv-J"
      },
      "execution_count": null,
      "outputs": []
    },
    {
      "cell_type": "code",
      "source": [
        "# Dictionaries\n",
        "dict1 = {\n",
        "  \"brand\": \"Ford\",\n",
        "  \"model\": \"Mustang\",\n",
        "  \"year\": 1964\n",
        "}\n",
        "print(dict1)"
      ],
      "metadata": {
        "id": "sTY7oFZlVxZr"
      },
      "execution_count": null,
      "outputs": []
    },
    {
      "cell_type": "code",
      "source": [
        "# Function Definition\n",
        "def findsum(a,b): # def Keyword parenthesis name function block\n",
        "  result = a+b\n",
        "  return result\n",
        "x = float(input(\"Enter first number: \"))\n",
        "y = float(input(\"Enter second number: \"))\n",
        "z = findsum(x,y) # Function call x,y are called actual arguments and a,b are called formal arguments\n",
        "print(\"Sum:\",z)"
      ],
      "metadata": {
        "id": "kG7ljnkEWyMo"
      },
      "execution_count": null,
      "outputs": []
    },
    {
      "cell_type": "code",
      "source": [
        "# Function Definition\n",
        "def arithmetic(a,b): # def Keyword parenthesis name function block\n",
        "  add = a+b\n",
        "  sub = a-b\n",
        "  multiply = a*b\n",
        "  div = a/b\n",
        "  return add,sub,multiply,div\n",
        "\n",
        "x = float(input(\"Enter first number: \"))\n",
        "y = float(input(\"Enter second number: \"))\n",
        "z = arithmetic(x,y) # Function call x,y are called actual arguments and a,b are called formal arguments\n",
        "print(z)"
      ],
      "metadata": {
        "id": "gwcmaaGbY5Pq"
      },
      "execution_count": null,
      "outputs": []
    },
    {
      "cell_type": "code",
      "source": [
        "# Positional Arguments\n",
        "def candidate_name(a,b):\n",
        "  print(f\"Candidate Name: {a.title()} {b.title()}\")\n",
        "x = str(input(\"Enter first name: \"))\n",
        "y = str(input(\"Enter last name: \"))\n",
        "z = candidate_name(x,y)\n",
        "print(z)"
      ],
      "metadata": {
        "id": "_zsX7WhNZwfH"
      },
      "execution_count": null,
      "outputs": []
    },
    {
      "cell_type": "code",
      "source": [
        "# Default Arguments\n",
        "def candidate_name1(a,b=\"Kumar\"):\n",
        "  print(f\"Candidate Name: {a.title()} {b.title()}\")\n",
        "x = str(input(\"Enter first name: \"))\n",
        "y = str(input(\"Enter last name: \"))\n",
        "z = candidate_name1(\"Akash\")\n",
        "print(z)"
      ],
      "metadata": {
        "id": "yWEUZCOCbAdL"
      },
      "execution_count": null,
      "outputs": []
    },
    {
      "cell_type": "code",
      "source": [
        "# Default Arguments\n",
        "def candidate_name2(a,b=\"Kumar\"):\n",
        "  print(f\"Candidate Name: {a.title()} {b.title()}\")\n",
        "x = str(input(\"Enter first name: \"))\n",
        "y = str(input(\"Enter last name: \"))\n",
        "z = candidate_name2(\"Akash\",y)\n",
        "print(z)"
      ],
      "metadata": {
        "id": "c1j3bkh-cZA7"
      },
      "execution_count": null,
      "outputs": []
    },
    {
      "cell_type": "code",
      "source": [
        "\n",
        "def sum_num(a,*b):\n",
        "  result = a\n",
        "  for i in b:\n",
        "    result +=i\n",
        "  return result\n",
        "\n",
        "x = float(input(\"Enter first number: \"))\n",
        "y = float(input(\"Enter second number: \"))\n",
        "z = sum_num(x,y)\n",
        "print(z)"
      ],
      "metadata": {
        "id": "4kVDir6XcZzZ"
      },
      "execution_count": null,
      "outputs": []
    },
    {
      "cell_type": "code",
      "source": [
        "# Recursion Conditions:\n",
        "# 1.Base Case 2.Recursive Condition\n",
        "def fact(n):\n",
        "  if n == 1:\n",
        "    return 1\n",
        "  else:\n",
        "    return n*fact(n-1)\n",
        "num = int(input(\"Enter number: \"))\n",
        "print(fact(num))\n"
      ],
      "metadata": {
        "id": "cks1XPIjccga"
      },
      "execution_count": null,
      "outputs": []
    },
    {
      "cell_type": "code",
      "source": [
        "# Program = soul and process = body\n",
        "# process have a structure like (heap, stack, global, .exe) up to down\n",
        "# Activation record created for function call containing variables and"
      ],
      "metadata": {
        "id": "5unX3gbJiA55"
      },
      "execution_count": null,
      "outputs": []
    },
    {
      "cell_type": "code",
      "source": [
        "# Anonymous/Lambda Function\n",
        "result = lambda num1, num2, num3: num1+num2+num3\n",
        "num1 = float(input(\"Enter number:\"))\n",
        "num2 = float(input(\"Enter number:\"))\n",
        "num3 = float(input(\"Enter number:\"))\n",
        "print(result(num1,num2,num31))"
      ],
      "metadata": {
        "id": "IzrMmoAdke2H"
      },
      "execution_count": null,
      "outputs": []
    },
    {
      "cell_type": "code",
      "source": [
        "# Define a List of numbers\n",
        "numbers = [1,2,3,4,5,6,7,8,9,10]\n",
        "\n",
        "# Define a function to check if a number is even\n",
        "def is_even(n):\n",
        "  if n%2==0:\n",
        "    return True\n",
        "  return False\n",
        "\n",
        "# Use filter to get even numbers\n",
        "even_numbers=filter(is_even, numbers)\n",
        "\n",
        "# Convert the filter object to a list\n",
        "even_numbers_list = list(even_numbers)\n",
        "\n",
        "print(even_numbers_list)"
      ],
      "metadata": {
        "id": "2FpJzQ0Ll-a3"
      },
      "execution_count": null,
      "outputs": []
    },
    {
      "cell_type": "code",
      "source": [
        "# Define a List of numbers\n",
        "numbers = [1,2,3,4,5,6,7,8,9,10]\n",
        "\n",
        "#  Use filter with alambda function to get even numbers\n",
        "even_numbers=filter(lambda n: n%2 == 0, numbers)\n",
        "\n",
        "# Convert the filter object to a list\n",
        "even_numbers_list = list(even_numbers)\n",
        "\n",
        "print(even_numbers_list)\n"
      ],
      "metadata": {
        "id": "VzzUbUH1m0xJ"
      },
      "execution_count": null,
      "outputs": []
    },
    {
      "cell_type": "code",
      "source": [
        "# Mapping\n",
        "num_list = [10,5,12,78,6,1,7,9]\n",
        "cube_list = list(map(lambda x: x**3,num_list))\n",
        "print(cube_list)"
      ],
      "metadata": {
        "id": "PkK3q1fzoHrR"
      },
      "execution_count": null,
      "outputs": []
    },
    {
      "cell_type": "code",
      "source": [
        "# Largest Number\n",
        "from functools import reduce\n",
        "num_list = [20,12,52,22,72,19,7]\n",
        "large = reduce(lambda x,y:x if x>y else y,num_list)\n",
        "print(large)"
      ],
      "metadata": {
        "id": "Q_2kAvBIo8D5"
      },
      "execution_count": null,
      "outputs": []
    },
    {
      "cell_type": "code",
      "source": [
        "# Largest Number\n",
        "from functools import reduce\n",
        "\n",
        "#Define a List of numbers\n",
        "num = [20,12,52,22,72,19,7]\n",
        "large = reduce(lambda x,y:x if x>y else y,num)\n",
        "print(large)"
      ],
      "metadata": {
        "id": "4K8gTKHPpivb"
      },
      "execution_count": null,
      "outputs": []
    },
    {
      "cell_type": "code",
      "source": [
        "# Shopping Cart System\n",
        "cart = {}\n",
        "def add_item(name, price=100, qty=1):\n",
        "  cart[name] = cart.get(name, 0)+qty\n",
        "  print(f\"Added {qty} x {name}\")\n",
        "\n",
        "for i in range(3):\n",
        "  add_item(input(\"Item:\"), qty=int(input(\"qty:\")))\n",
        "print(cart)"
      ],
      "metadata": {
        "id": "q1yH99Gms6mX"
      },
      "execution_count": null,
      "outputs": []
    },
    {
      "cell_type": "code",
      "source": [
        "# Class\n",
        "class Greeting:\n",
        "  message = \"Hello, World!\" # Class variable\n",
        "\n",
        "  def say_hello(self): # Class method\n",
        "    print(self.message)\n",
        "\n",
        "# Create an object\n",
        "greet = Greeting()\n",
        "greet.say_hello()"
      ],
      "metadata": {
        "colab": {
          "base_uri": "https://localhost:8080/"
        },
        "id": "G7ELXcQe9Lef",
        "outputId": "ece12c8b-91ac-46ca-d864-956b5aceabce"
      },
      "execution_count": 4,
      "outputs": [
        {
          "output_type": "stream",
          "name": "stdout",
          "text": [
            "Hello, World!\n"
          ]
        }
      ]
    }
  ]
}