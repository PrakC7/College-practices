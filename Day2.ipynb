{
  "nbformat": 4,
  "nbformat_minor": 0,
  "metadata": {
    "colab": {
      "provenance": [],
      "authorship_tag": "ABX9TyOZDqHfw+V1u8DLbpKoVieI"
    },
    "kernelspec": {
      "name": "python3",
      "display_name": "Python 3"
    },
    "language_info": {
      "name": "python"
    }
  },
  "cells": [
    {
      "cell_type": "code",
      "execution_count": 5,
      "metadata": {
        "id": "19lv6N54Ju8K",
        "colab": {
          "base_uri": "https://localhost:8080/"
        },
        "outputId": "4b941b80-563a-480a-a76c-787199b62a2f"
      },
      "outputs": [
        {
          "output_type": "stream",
          "name": "stdout",
          "text": [
            "['HELLO', 'THIS', 'IS', 'PRAKHAR']\n"
          ]
        }
      ],
      "source": [
        "# List\n",
        "words = ['hello','this', 'is', 'prakhar']\n",
        "uppercase = [word.upper() for word in words]\n",
        "print(uppercase)"
      ]
    },
    {
      "cell_type": "code",
      "source": [
        "# Tuple\n",
        "tup = (\"apple\", \"banana\", \"cherry\")\n",
        "print(tup)"
      ],
      "metadata": {
        "colab": {
          "base_uri": "https://localhost:8080/"
        },
        "id": "CsgRXgGUNUA5",
        "outputId": "68123add-d0b5-431e-d591-19fb440718af"
      },
      "execution_count": 1,
      "outputs": [
        {
          "output_type": "stream",
          "name": "stdout",
          "text": [
            "('apple', 'banana', 'cherry')\n"
          ]
        }
      ]
    },
    {
      "cell_type": "code",
      "source": [
        "# Change in tuple using list\n",
        "x = (\"apple\", \"banana\", \"cherry\")\n",
        "y = list(x)\n",
        "y[1] = \"kiwi\"\n",
        "x = tuple(y)\n",
        "print(x)"
      ],
      "metadata": {
        "colab": {
          "base_uri": "https://localhost:8080/"
        },
        "id": "a_Y4ReRNONv5",
        "outputId": "c506ce6c-275e-4d06-953b-9950cae3699d"
      },
      "execution_count": 3,
      "outputs": [
        {
          "output_type": "stream",
          "name": "stdout",
          "text": [
            "('apple', 'kiwi', 'cherry')\n"
          ]
        }
      ]
    },
    {
      "cell_type": "code",
      "source": [
        "# Assigning one tuple values to the other\n",
        "(a,b,c) = (1,2,3)\n",
        "print(a,b,c)"
      ],
      "metadata": {
        "colab": {
          "base_uri": "https://localhost:8080/"
        },
        "id": "B_knhRb_Ow5q",
        "outputId": "67fd717a-e2d1-4297-907d-607c1ebb6f28"
      },
      "execution_count": 6,
      "outputs": [
        {
          "output_type": "stream",
          "name": "stdout",
          "text": [
            "1 2 3\n"
          ]
        }
      ]
    },
    {
      "cell_type": "code",
      "source": [
        "# Tuple Assignment\n",
        "Tup1 = (100,200,300)\n",
        "(a,b,c) = Tup1\n",
        "print(a,b,c)"
      ],
      "metadata": {
        "id": "pqSKCKp1Pm26"
      },
      "execution_count": null,
      "outputs": []
    },
    {
      "cell_type": "code",
      "source": [
        "# Tuple\n",
        "# Membership Operator\n",
        "x = (\"apple\", \"banana\", \"cherry\")\n",
        "if \"apple\" in x:\n",
        "  print(\"Yes, apple is available.\")"
      ],
      "metadata": {
        "colab": {
          "base_uri": "https://localhost:8080/"
        },
        "id": "1XZIVFtdQw79",
        "outputId": "9caa296d-830a-416a-a9e6-25c9cee769e6"
      },
      "execution_count": 7,
      "outputs": [
        {
          "output_type": "stream",
          "name": "stdout",
          "text": [
            "Yes, apple is available.\n"
          ]
        }
      ]
    },
    {
      "cell_type": "code",
      "source": [
        "# Length of tuple\n",
        "x = (\"apple\", \"banana\", \"cherry\")\n",
        "print(len(x))"
      ],
      "metadata": {
        "colab": {
          "base_uri": "https://localhost:8080/"
        },
        "id": "eCA7U7UnRZOc",
        "outputId": "a09c0877-ad12-404b-f6d0-5ef4345410e3"
      },
      "execution_count": 9,
      "outputs": [
        {
          "output_type": "stream",
          "name": "stdout",
          "text": [
            "3\n"
          ]
        }
      ]
    },
    {
      "cell_type": "code",
      "source": [
        "# Joining tuples\n",
        "x = (\"apple\", \"banana\", \"cherry\")\n",
        "y = (1,2,3)\n",
        "z = x+y\n",
        "print(z)"
      ],
      "metadata": {
        "colab": {
          "base_uri": "https://localhost:8080/"
        },
        "id": "UqCjrG_gRnn6",
        "outputId": "8cefc6f4-a57d-4f65-ac5a-847618a59d14"
      },
      "execution_count": 12,
      "outputs": [
        {
          "output_type": "stream",
          "name": "stdout",
          "text": [
            "('apple', 'banana', 'cherry', 1, 2, 3)\n",
            "banana\n"
          ]
        }
      ]
    },
    {
      "cell_type": "code",
      "source": [
        "# Deleting tuple\n",
        "x = (\"apple\", \"banana\", \"cherry\")\n",
        "del x\n",
        "print(x) # This wil raise an error because the tupe no longer exists"
      ],
      "metadata": {
        "colab": {
          "base_uri": "https://localhost:8080/",
          "height": 176
        },
        "id": "C9bQUc4-RyxH",
        "outputId": "a9f747cf-8e57-41fc-f5cd-d1d25bb23a10"
      },
      "execution_count": 16,
      "outputs": [
        {
          "output_type": "error",
          "ename": "NameError",
          "evalue": "name 'x' is not defined",
          "traceback": [
            "\u001b[0;31m---------------------------------------------------------------------------\u001b[0m",
            "\u001b[0;31mNameError\u001b[0m                                 Traceback (most recent call last)",
            "\u001b[0;32m<ipython-input-16-1725297358>\u001b[0m in \u001b[0;36m<cell line: 0>\u001b[0;34m()\u001b[0m\n\u001b[1;32m      2\u001b[0m \u001b[0mx\u001b[0m \u001b[0;34m=\u001b[0m \u001b[0;34m(\u001b[0m\u001b[0;34m\"apple\"\u001b[0m\u001b[0;34m,\u001b[0m \u001b[0;34m\"banana\"\u001b[0m\u001b[0;34m,\u001b[0m \u001b[0;34m\"cherry\"\u001b[0m\u001b[0;34m)\u001b[0m\u001b[0;34m\u001b[0m\u001b[0;34m\u001b[0m\u001b[0m\n\u001b[1;32m      3\u001b[0m \u001b[0;32mdel\u001b[0m \u001b[0mx\u001b[0m\u001b[0;34m\u001b[0m\u001b[0;34m\u001b[0m\u001b[0m\n\u001b[0;32m----> 4\u001b[0;31m \u001b[0mprint\u001b[0m\u001b[0;34m(\u001b[0m\u001b[0mx\u001b[0m\u001b[0;34m)\u001b[0m \u001b[0;31m# This wil raise an error because the tupe no longer exists\u001b[0m\u001b[0;34m\u001b[0m\u001b[0;34m\u001b[0m\u001b[0m\n\u001b[0m",
            "\u001b[0;31mNameError\u001b[0m: name 'x' is not defined"
          ]
        }
      ]
    },
    {
      "cell_type": "code",
      "source": [
        "# Defining Function\n",
        "def max_min(vals):\n",
        "  x = max(vals)\n",
        "  y = min(vals)\n",
        "  return(\"Max: \",x,\"Min:\",y)\n",
        "li = [10,56,43,32,76,26]\n",
        "print(max_min(li))"
      ],
      "metadata": {
        "colab": {
          "base_uri": "https://localhost:8080/"
        },
        "id": "1Mb-rfKVTcJ5",
        "outputId": "72dc18c3-5cb9-4408-96ce-0e462fb5a09d"
      },
      "execution_count": 19,
      "outputs": [
        {
          "output_type": "stream",
          "name": "stdout",
          "text": [
            "('Max: ', 76, 'Min:', 10)\n"
          ]
        }
      ]
    },
    {
      "cell_type": "code",
      "source": [
        "# Nested Tuple\n",
        "x = (1,2,3)\n",
        "y = ('Python','Java','C++')\n",
        "z=(x,y)\n",
        "print(z)"
      ],
      "metadata": {
        "colab": {
          "base_uri": "https://localhost:8080/"
        },
        "id": "_l0OznXWTko6",
        "outputId": "abc19320-b0af-4b83-b3d9-c1335b715152"
      },
      "execution_count": 20,
      "outputs": [
        {
          "output_type": "stream",
          "name": "stdout",
          "text": [
            "((1, 2, 3), ('Python', 'Java', 'C++'))\n"
          ]
        }
      ]
    },
    {
      "cell_type": "code",
      "source": [
        "# Sets\n",
        "x = {\"apple\", \"banana\", \"cherry\"}\n",
        "print(x)"
      ],
      "metadata": {
        "id": "WXeRkzi3UBIp"
      },
      "execution_count": null,
      "outputs": []
    },
    {
      "cell_type": "code",
      "source": [
        "# Sets\n",
        "x = {\"apple\", \"banana\", \"cherry\"}\n",
        "for x in x:\n",
        "  print(x)"
      ],
      "metadata": {
        "colab": {
          "base_uri": "https://localhost:8080/"
        },
        "id": "Z_j7ZfOEUZ9J",
        "outputId": "a6539012-d703-4f1b-da52-4b863021db61"
      },
      "execution_count": 21,
      "outputs": [
        {
          "output_type": "stream",
          "name": "stdout",
          "text": [
            "cherry\n",
            "banana\n",
            "apple\n"
          ]
        }
      ]
    },
    {
      "cell_type": "code",
      "source": [
        "# Removing Elements.\n",
        "y = {'Python','Java','C++'}\n",
        "y.remove(\"Java\")\n",
        "print(y)"
      ],
      "metadata": {
        "id": "tsn0EV8hVv-J"
      },
      "execution_count": null,
      "outputs": []
    },
    {
      "cell_type": "code",
      "source": [
        "# Dictionaries\n",
        "dict1 = {\n",
        "  \"brand\": \"Ford\",\n",
        "  \"model\": \"Mustang\",\n",
        "  \"year\": 1964\n",
        "}\n",
        "print(dict1)"
      ],
      "metadata": {
        "colab": {
          "base_uri": "https://localhost:8080/"
        },
        "id": "sTY7oFZlVxZr",
        "outputId": "f74d31d4-0a30-493f-91d9-061929a87ea3"
      },
      "execution_count": 29,
      "outputs": [
        {
          "output_type": "stream",
          "name": "stdout",
          "text": [
            "{'brand': 'Ford', 'model': 'Mustang', 'year': 1964}\n"
          ]
        }
      ]
    },
    {
      "cell_type": "code",
      "source": [
        "# Function Definition\n",
        "def findsum(a,b): # def Keyword parenthesis name function block\n",
        "  result = a+b\n",
        "  return result\n",
        "x = float(input(\"Enter first number: \"))\n",
        "y = float(input(\"Enter second number: \"))\n",
        "z = findsum(x,y) # Function call x,y are called actual arguments and a,b are called formal arguments\n",
        "print(\"Sum:\",z)"
      ],
      "metadata": {
        "colab": {
          "base_uri": "https://localhost:8080/"
        },
        "id": "kG7ljnkEWyMo",
        "outputId": "97c6afa7-c185-4f87-90e0-45b2aa786cda"
      },
      "execution_count": 35,
      "outputs": [
        {
          "output_type": "stream",
          "name": "stdout",
          "text": [
            "Enter first number: 12\n",
            "Enter second number: 12\n",
            "Sum: 24.0\n"
          ]
        }
      ]
    },
    {
      "cell_type": "code",
      "source": [
        "# Function Definition\n",
        "def arithmetic(a,b): # def Keyword parenthesis name function block\n",
        "  add = a+b\n",
        "  sub = a-b\n",
        "  multiply = a*b\n",
        "  div = a/b\n",
        "  return add,sub,multiply,div\n",
        "\n",
        "x = float(input(\"Enter first number: \"))\n",
        "y = float(input(\"Enter second number: \"))\n",
        "z = arithmetic(x,y) # Function call x,y are called actual arguments and a,b are called formal arguments\n",
        "print(z)"
      ],
      "metadata": {
        "colab": {
          "base_uri": "https://localhost:8080/"
        },
        "id": "gwcmaaGbY5Pq",
        "outputId": "d0379f66-2133-45e1-dfe1-b55de832cd39"
      },
      "execution_count": 36,
      "outputs": [
        {
          "output_type": "stream",
          "name": "stdout",
          "text": [
            "Enter first number: 12\n",
            "Enter second number: 1\n",
            "(13.0, 11.0, 12.0, 12.0)\n"
          ]
        }
      ]
    },
    {
      "cell_type": "code",
      "source": [
        "# Positional Arguments\n",
        "def candidate_name(a,b):\n",
        "  print(f\"Candidate Name: {a.title()} {b.title()}\")\n",
        "x = str(input(\"Enter first name: \"))\n",
        "y = str(input(\"Enter last name: \"))\n",
        "z = candidate_name(x,y)\n",
        "print(z)"
      ],
      "metadata": {
        "colab": {
          "base_uri": "https://localhost:8080/"
        },
        "id": "_zsX7WhNZwfH",
        "outputId": "0a34f18f-f979-4f40-a2ad-0b49fccd9078"
      },
      "execution_count": 40,
      "outputs": [
        {
          "output_type": "stream",
          "name": "stdout",
          "text": [
            "Enter first name: hi\n",
            "Enter last name: bye\n",
            "Candidate Name: Hi Bye\n",
            "None\n"
          ]
        }
      ]
    },
    {
      "cell_type": "code",
      "source": [
        "# Default Arguments\n",
        "def candidate_name1(a,b=\"Kumar\"):\n",
        "  print(f\"Candidate Name: {a.title()} {b.title()}\")\n",
        "x = str(input(\"Enter first name: \"))\n",
        "y = str(input(\"Enter last name: \"))\n",
        "z = candidate_name1(\"Akash\")\n",
        "print(z)"
      ],
      "metadata": {
        "colab": {
          "base_uri": "https://localhost:8080/"
        },
        "id": "yWEUZCOCbAdL",
        "outputId": "0d1522e2-a6ae-4704-cb4b-a48980ebe33e"
      },
      "execution_count": 45,
      "outputs": [
        {
          "output_type": "stream",
          "name": "stdout",
          "text": [
            "Enter first name: alok\n",
            "Enter last name: singh\n",
            "Candidate Name: Akash Kumar\n",
            "None\n"
          ]
        }
      ]
    },
    {
      "cell_type": "code",
      "source": [
        "# Default Arguments\n",
        "def candidate_name2(a,b=\"Kumar\"):\n",
        "  print(f\"Candidate Name: {a.title()} {b.title()}\")\n",
        "x = str(input(\"Enter first name: \"))\n",
        "y = str(input(\"Enter last name: \"))\n",
        "z = candidate_name2(\"Akash\",y)\n",
        "print(z)"
      ],
      "metadata": {
        "id": "c1j3bkh-cZA7"
      },
      "execution_count": null,
      "outputs": []
    },
    {
      "cell_type": "code",
      "source": [
        "\n",
        "def sum_num(a,*b):\n",
        "  result = a\n",
        "  for i in b:\n",
        "    result +=i\n",
        "  return result\n",
        "\n",
        "x = float(input(\"Enter first number: \"))\n",
        "y = float(input(\"Enter second number: \"))\n",
        "z = sum_num(x,y)\n",
        "print(z)"
      ],
      "metadata": {
        "colab": {
          "base_uri": "https://localhost:8080/"
        },
        "id": "4kVDir6XcZzZ",
        "outputId": "390cd040-879d-414d-cc52-da8d5d067799"
      },
      "execution_count": 50,
      "outputs": [
        {
          "output_type": "stream",
          "name": "stdout",
          "text": [
            "Enter first number: 1\n",
            "Enter first number: 1\n",
            "Enter first number: 1\n",
            "2.0\n"
          ]
        }
      ]
    },
    {
      "cell_type": "code",
      "source": [
        "# Recursion Conditions:\n",
        "# 1.Base Case 2.Recursive Condition\n",
        "def fact(n):\n",
        "  if n == 1:\n",
        "    return 1\n",
        "  else:\n",
        "    return n*fact(n-1)\n",
        "num = int(input(\"Enter number: \"))\n",
        "print(fact(num))\n"
      ],
      "metadata": {
        "colab": {
          "base_uri": "https://localhost:8080/"
        },
        "id": "cks1XPIjccga",
        "outputId": "c4fc33e5-7234-43ad-dc0c-6bc1bdb38819"
      },
      "execution_count": 56,
      "outputs": [
        {
          "output_type": "stream",
          "name": "stdout",
          "text": [
            "Enter number: 5\n",
            "120\n"
          ]
        }
      ]
    },
    {
      "cell_type": "code",
      "source": [
        "# Program = soul and process = body\n",
        "# process have a structure like (heap, stack, global, .exe) up to down\n",
        "# Activation record created for function call containing variables and"
      ],
      "metadata": {
        "id": "5unX3gbJiA55"
      },
      "execution_count": 57,
      "outputs": []
    },
    {
      "cell_type": "code",
      "source": [
        "# Anonymous/Lambda Function\n",
        "result = lambda num1, num2, num3: num1+num2+num3\n",
        "num1 = float(input(\"Enter number:\"))\n",
        "num2 = float(input(\"Enter number:\"))\n",
        "num3 = float(input(\"Enter number:\"))\n",
        "print(result(num1,num2,num31))"
      ],
      "metadata": {
        "colab": {
          "base_uri": "https://localhost:8080/"
        },
        "id": "IzrMmoAdke2H",
        "outputId": "c0960306-076e-4532-9281-677602324479"
      },
      "execution_count": 60,
      "outputs": [
        {
          "output_type": "stream",
          "name": "stdout",
          "text": [
            "Enter number:12\n",
            "Enter number:2\n",
            "Enter number:2\n",
            "16.0\n"
          ]
        }
      ]
    },
    {
      "cell_type": "code",
      "source": [
        "# Define a List of numbers\n",
        "numbers = [1,2,3,4,5,6,7,8,9,10]\n",
        "\n",
        "# Define a function to check if a number is even\n",
        "def is_even(n):\n",
        "  if n%2==0:\n",
        "    return True\n",
        "  return False\n",
        "\n",
        "#\n",
        "even_numbers=filter(is_even, numbers)\n",
        "\n",
        "# Convert the filter object to a list\n",
        "even_numbers_list = list(even_numbers)\n",
        "\n",
        "print(even_numbers_list)"
      ],
      "metadata": {
        "colab": {
          "base_uri": "https://localhost:8080/"
        },
        "id": "2FpJzQ0Ll-a3",
        "outputId": "b7deb39c-ace5-4692-be6b-614d5946a897"
      },
      "execution_count": 69,
      "outputs": [
        {
          "output_type": "stream",
          "name": "stdout",
          "text": [
            "[2, 4, 6, 8, 10]\n"
          ]
        }
      ]
    },
    {
      "cell_type": "code",
      "source": [
        "# Define a List of numbers\n",
        "numbers = [1,2,3,4,5,6,7,8,9,10]\n",
        "\n",
        "#  Use filter with alambda function to get even numbers\n",
        "even_numbers=filter(lambda n: n%2 == 0, numbers)\n",
        "\n",
        "# Convert the filter object to a list\n",
        "even_numbers_list = list(even_numbers)\n",
        "\n",
        "print(even_numbers_list)\n"
      ],
      "metadata": {
        "colab": {
          "base_uri": "https://localhost:8080/"
        },
        "id": "VzzUbUH1m0xJ",
        "outputId": "b83cb506-9d6d-437b-ff2f-d03cea3922c7"
      },
      "execution_count": 61,
      "outputs": [
        {
          "output_type": "stream",
          "name": "stdout",
          "text": [
            "[2, 4, 6, 8, 10]\n"
          ]
        }
      ]
    },
    {
      "cell_type": "code",
      "source": [
        "# Mapping\n",
        "num_list = [10,5,12,78,6,1,7,9]\n",
        "cube_list = list(map(lambda x: x**3,num_list))\n",
        "print(cube_list)"
      ],
      "metadata": {
        "colab": {
          "base_uri": "https://localhost:8080/"
        },
        "id": "PkK3q1fzoHrR",
        "outputId": "d7d6820f-32cd-460e-a448-25f1552e64ac"
      },
      "execution_count": 65,
      "outputs": [
        {
          "output_type": "stream",
          "name": "stdout",
          "text": [
            "[1000, 125, 1728, 474552, 216, 1, 343, 729]\n"
          ]
        }
      ]
    },
    {
      "cell_type": "code",
      "source": [
        "# Largest Number\n",
        "from functools import reduce\n",
        "num_list = [20,12,52,22,72,19,7]\n",
        "large = reduce(lambda x,y:x if x>y else y,num_list)\n",
        "print(large)"
      ],
      "metadata": {
        "colab": {
          "base_uri": "https://localhost:8080/"
        },
        "id": "Q_2kAvBIo8D5",
        "outputId": "15614cf6-9d23-41a7-de33-4619017acc6c"
      },
      "execution_count": 66,
      "outputs": [
        {
          "output_type": "stream",
          "name": "stdout",
          "text": [
            "72\n"
          ]
        }
      ]
    },
    {
      "cell_type": "code",
      "source": [
        "# Largest Number\n",
        "from functools import reduce\n",
        "\n",
        "#Define a List of numbers\n",
        "num = [20,12,52,22,72,19,7]\n",
        "large = reduce(lambda x,y:x if x>y else y,num)\n",
        "print(large)"
      ],
      "metadata": {
        "id": "4K8gTKHPpivb"
      },
      "execution_count": null,
      "outputs": []
    },
    {
      "cell_type": "code",
      "source": [
        "# Shopping Cart System\n",
        "cart = {}\n",
        "def add_item(name, price=100, qty=1):\n",
        "  cart[name] = cart.get(name, 0)+qty\n",
        "  print(f\"Added {qty} x {name}\")\n",
        "\n",
        "fo3r i in range(3):\n",
        "  add_item(input(\"Item:\"), qty=int(input(\"qty:\")))\n",
        "print(cart)"
      ],
      "metadata": {
        "colab": {
          "base_uri": "https://localhost:8080/"
        },
        "id": "q1yH99Gms6mX",
        "outputId": "9e868a71-6aef-4618-b3dd-0f12baba34f5"
      },
      "execution_count": 68,
      "outputs": [
        {
          "output_type": "stream",
          "name": "stdout",
          "text": [
            "Item:1\n",
            "qty:1\n",
            "Added 1 x 1\n",
            "Item:1\n",
            "qty:1\n",
            "Added 1 x 1\n",
            "Item:2\n",
            "qty:3\n",
            "Added 3 x 2\n",
            "{'1': 2, '2': 3}\n"
          ]
        }
      ]
    }
  ]
}