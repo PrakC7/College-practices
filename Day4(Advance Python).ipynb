{
  "nbformat": 4,
  "nbformat_minor": 0,
  "metadata": {
    "colab": {
      "provenance": [],
      "authorship_tag": "ABX9TyOeIyU5+CpT3BnIFWt1jMy9"
    },
    "kernelspec": {
      "name": "python3",
      "display_name": "Python 3"
    },
    "language_info": {
      "name": "python"
    }
  },
  "cells": [
    {
      "cell_type": "code",
      "execution_count": null,
      "metadata": {
        "id": "PsSNoCFLem0v"
      },
      "outputs": [],
      "source": [
        "# Four Pillars Of OOP\n",
        "# Abstraction (hiding unuseful details from the user)\n",
        "# Encapsulation (binding the data (variable) into a class)\n",
        "# Inheritance (base can access all the functions of the super class)\n",
        "# Polymorphism (ability to have different methods with the same name but perform different tasks) (Method overriding, Method overloading)"
      ]
    },
    {
      "cell_type": "code",
      "source": [
        "# Inheritange Class\n",
        "class Animal:\n",
        "  name = \"\"\n",
        "\n",
        "  def eat(self):\n",
        "    print(\"I can eat\")\n",
        "\n",
        "# Inherit from Animal\n",
        "class Dog(Animal):\n",
        "\n",
        "  # New method in subclass\n",
        "  def display(self):\n",
        "    # Access name\n",
        "    print(\"My name is \", self.name)\n",
        "\n",
        "# Create an object of the subclass\n",
        "labrador = Dog()\n",
        "\n",
        "# Access superclass attribute and method\n",
        "labrador.name = \"Rohu\"\n",
        "labrador.eat()\n",
        "\n",
        "# Call subclass method\n",
        "labrador.display()"
      ],
      "metadata": {
        "id": "rrWXDeS4iJNT"
      },
      "execution_count": null,
      "outputs": []
    },
    {
      "cell_type": "code",
      "source": [
        "# Single Inheritange\n",
        "class Father:\n",
        "  money = 1000\n",
        "  def show(self):\n",
        "    print(\"Parent class instance method\")\n",
        "\n",
        "  @classmethod\n",
        "  def moneyshow(cls):\n",
        "    print(\"Parent class class method: Total money = \",cls.money)\n",
        "\n",
        "  @staticmethod\n",
        "  def stat_method():\n",
        "    a = 5\n",
        "    print(\"Parent class static method: the value of a is \", a)\n",
        "\n",
        "class Son(Father):\n",
        "  def son_display(self):\n",
        "    print(\"Child class instance method\")\n",
        "\n",
        "s = Son()\n",
        "s.show()\n",
        "s.moneyshow()\n",
        "s.stat_method()\n",
        "s.son_display()"
      ],
      "metadata": {
        "colab": {
          "base_uri": "https://localhost:8080/"
        },
        "id": "c4kmaRfykrqV",
        "outputId": "df67418a-fed1-4901-c9ad-674fb4eabcb2"
      },
      "execution_count": 4,
      "outputs": [
        {
          "output_type": "stream",
          "name": "stdout",
          "text": [
            "Parent class instance method\n",
            "Parent class class method: Total money =  1000\n",
            "Parent class static method: the value of a is  5\n",
            "Child class instance method\n"
          ]
        }
      ]
    },
    {
      "cell_type": "code",
      "source": [
        "# Construtor in Inheritance\n",
        "class Person:\n",
        "  def __init__(self, fname, lname):\n",
        "    self.fname = fname\n",
        "    self.lname = lname\n",
        "    print(\"Candidate Name:\", self.fname, self.lname)\n",
        "\n",
        "class Student(Person):\n",
        "  pass\n",
        "\n",
        "s = Student(\"Sachin\", \"Kumar\")"
      ],
      "metadata": {
        "colab": {
          "base_uri": "https://localhost:8080/"
        },
        "id": "bO1YLXBloZJ_",
        "outputId": "4f51e065-cdbb-4268-a4ee-9920c17023a1"
      },
      "execution_count": 9,
      "outputs": [
        {
          "output_type": "stream",
          "name": "stdout",
          "text": [
            "Candidate Name: Sachin Kumar\n"
          ]
        }
      ]
    },
    {
      "cell_type": "code",
      "source": [
        "# Constructor Overriding\n",
        "class Person:\n",
        "  def __init__(self, fname, lname):\n",
        "    self.fname = fname\n",
        "    self.lname = lname\n",
        "    print(\"Candidate Name:\", self.fname, self.lname)\n",
        "\n",
        "class Student(Person):\n",
        "  def __init__(self, fname, lname):\n",
        "    print(\"Inside student class init\")\n",
        "\n",
        "s = Student(\"Mohit\", \"Kumar\")"
      ],
      "metadata": {
        "colab": {
          "base_uri": "https://localhost:8080/"
        },
        "id": "vZDe0aWaqWDf",
        "outputId": "63011e23-febf-4717-feb4-a604c89b7e3e"
      },
      "execution_count": 14,
      "outputs": [
        {
          "output_type": "stream",
          "name": "stdout",
          "text": [
            "Inside student class init\n"
          ]
        }
      ]
    },
    {
      "cell_type": "code",
      "source": [
        "# Calling Parent class constructor\n",
        "# Constructor with super Method\n",
        "class Person:\n",
        "  def __init__(self, fname, lname):\n",
        "    self.fname = fname\n",
        "    self.lname = lname\n",
        "    print(\"Candidate Name:\", self.fname, self.lname)\n",
        "\n",
        "class Student(Person):\n",
        "  def __init__(self, fname, lname):\n",
        "    super().__init__(fname, lname)\n",
        "    print(\"Inside student class init\")\n",
        "\n",
        "s = Student(\"Mohit\", \"Kumar\")"
      ],
      "metadata": {
        "colab": {
          "base_uri": "https://localhost:8080/"
        },
        "id": "59o6rKtKr8-Z",
        "outputId": "5d427a94-2f38-4efb-e0d0-826950b958cf"
      },
      "execution_count": 16,
      "outputs": [
        {
          "output_type": "stream",
          "name": "stdout",
          "text": [
            "Candidate Name: Mohit Kumar\n",
            "Inside student class init\n"
          ]
        }
      ]
    },
    {
      "cell_type": "code",
      "source": [
        "# Multi Level Inheritance\n",
        "class Father:\n",
        "  def __init__(self):\n",
        "    print(\"Father class constructor\")\n",
        "  def show_father(self):\n",
        "    print(\"Father class method\")\n",
        "\n",
        "class Son(Father):\n",
        "  def __init__(self):\n",
        "    print(\"Son class constructor\")\n",
        "  def show_son(self):\n",
        "    print(\"Son class method\")\n",
        "\n",
        "class Grandson(Son):\n",
        "  def __init__(self):\n",
        "    print(\"Grandson class constructor\")\n",
        "  def show_grandson(self):\n",
        "    print(\"Grandson class method\")\n",
        "\n",
        "g = Grandson()\n",
        "g.show_grandson()\n",
        "g.show_son()\n",
        "g.show_father()"
      ],
      "metadata": {
        "colab": {
          "base_uri": "https://localhost:8080/"
        },
        "id": "2lSKYc9gsblz",
        "outputId": "05342734-014f-40b4-b362-533c40fb5499"
      },
      "execution_count": 18,
      "outputs": [
        {
          "output_type": "stream",
          "name": "stdout",
          "text": [
            "Grandson class constructor\n",
            "Grandson class method\n",
            "Son class method\n",
            "Father class method\n"
          ]
        }
      ]
    },
    {
      "cell_type": "code",
      "source": [
        "# Multi Inheritance\n",
        "class Father:\n",
        "  def __init__(self):\n",
        "    print(\"Father class constructor\")\n",
        "  def show_father(self):\n",
        "    print(\"Father class method\")\n",
        "\n",
        "class Son(Father):\n",
        "  def __init__(self):\n",
        "    print(\"Son class constructor\")\n",
        "  def show_son(self):\n",
        "    print(\"Son class method\")\n",
        "\n",
        "class Daughter(Father):\n",
        "  def __init__(self):\n",
        "    print(\"Daughter class constructor\")\n",
        "  def show_grandson(self):\n",
        "    print(\"Daughter class method\")\n",
        "\n",
        "s = Son()\n",
        "s.show_son()\n",
        "s.show_father()\n",
        "\n",
        "print(\"\")\n",
        "\n",
        "d = Son()\n",
        "d.show_son()\n",
        "d.show_father()"
      ],
      "metadata": {
        "id": "C6pzoRdrwEPU"
      },
      "execution_count": null,
      "outputs": []
    },
    {
      "cell_type": "code",
      "source": [
        "# Multiple Inheritance\n",
        "class Father:\n",
        "  def __init__(self):\n",
        "    print(\"Father class constructor\")\n",
        "  def show_father(self):\n",
        "    print(\"Father class method\")\n",
        "\n",
        "class Mother:\n",
        "  def __init__(self):\n",
        "    print(\"Mother class constructor\")\n",
        "  def show_mother(self):\n",
        "    print(\"Mother class method\")\n",
        "\n",
        "class Son(Father, Mother):\n",
        "  def __init__(self):\n",
        "    super().__init__()\n",
        "    print(\"Son class constructor\")\n",
        "  def show_son(self):\n",
        "    print(\"Son class method\")\n",
        "\n",
        "s = Son()\n",
        "print(\"\")\n",
        "s.show_father()\n",
        "s.show_mother()\n",
        "s.show_son()"
      ],
      "metadata": {
        "colab": {
          "base_uri": "https://localhost:8080/"
        },
        "id": "1rHBjO4fwE9z",
        "outputId": "ab5af360-7daa-4b69-c32c-6a005245c196"
      },
      "execution_count": 31,
      "outputs": [
        {
          "output_type": "stream",
          "name": "stdout",
          "text": [
            "Father class constructor\n",
            "Son class constructor\n",
            "\n",
            "Father class method\n",
            "Mother class method\n",
            "Son class method\n"
          ]
        }
      ]
    },
    {
      "cell_type": "code",
      "source": [
        "# issubclass(Child class, Parent class)\n",
        "class Father:\n",
        "  pass\n",
        "\n",
        "class Son(Father):\n",
        "  pass\n",
        "\n",
        "issubclass(Son, Father)"
      ],
      "metadata": {
        "colab": {
          "base_uri": "https://localhost:8080/"
        },
        "id": "8fP2DpZbyopk",
        "outputId": "0a70c6cf-7591-4574-ead1-400910feaba9"
      },
      "execution_count": 32,
      "outputs": [
        {
          "output_type": "execute_result",
          "data": {
            "text/plain": [
              "True"
            ]
          },
          "metadata": {},
          "execution_count": 32
        }
      ]
    },
    {
      "cell_type": "code",
      "source": [
        "class Computer:\n",
        "  def __init__(self):\n",
        "    self.__maxprice = 900\n",
        "\n",
        "  def sell(self):\n",
        "    print(\"Selling Price: {}\".format(self.__maxprice))\n",
        "\n",
        "  def setMaxPrice(self, price):\n",
        "    self.__maxprice = price\n",
        "\n",
        "c = Computer()\n",
        "c.sell()\n",
        "print(\"\")\n",
        "c.setMaxPrice(1000)\n",
        "c.sell()"
      ],
      "metadata": {
        "colab": {
          "base_uri": "https://localhost:8080/"
        },
        "id": "R2M9lOM9zMXx",
        "outputId": "e5a9625c-c720-4895-f542-18e2b76b214a"
      },
      "execution_count": 33,
      "outputs": [
        {
          "output_type": "stream",
          "name": "stdout",
          "text": [
            "Selling Price: 900\n",
            "\n",
            "Selling Price: 1000\n"
          ]
        }
      ]
    },
    {
      "cell_type": "code",
      "source": [
        "# Access Modifiers in Python\n"
      ],
      "metadata": {
        "id": "nT4mKzFi35uP"
      },
      "execution_count": null,
      "outputs": []
    },
    {
      "cell_type": "code",
      "source": [
        "# Protected Access Modifiers (can be sccessed by the classes that are inherited)\n",
        "class Student:\n",
        "  _name = None\n",
        "  _roll = None\n",
        "  _branch = None\n",
        "\n",
        "  def __init__(self, name, roll, branch):\n",
        "      self._name = name\n",
        "      self._roll = roll\n",
        "      self._branch = branch\n",
        "\n",
        "  def _displayInfo(self):\n",
        "    print(\"Roll: \", self._roll)\n",
        "    print(\"Branch: \", self._branch)\n",
        "\n",
        "class Learnown(Student):\n",
        "  def __init__(self, name, roll, branch):\n",
        "    Student.__init__(self, name, roll, branch)\n",
        "\n",
        "  def displayDetails(self):\n",
        "    print(\"Name: \", self._name)\n",
        "    self._displayInfo()\n",
        "\n",
        "obj = Learnown(\"Aditya\", 101203, \"Data Science\")\n",
        "obj.displayDetails()"
      ],
      "metadata": {
        "colab": {
          "base_uri": "https://localhost:8080/"
        },
        "id": "Esc1k4H74iJJ",
        "outputId": "93d3503e-8f3a-4c42-a30e-595fe9cd3a1a"
      },
      "execution_count": 41,
      "outputs": [
        {
          "output_type": "stream",
          "name": "stdout",
          "text": [
            "Name:  Aditya\n",
            "Roll:  101203\n",
            "Branch:  Data Science\n"
          ]
        }
      ]
    },
    {
      "cell_type": "code",
      "source": [
        "# Private Access Modifiers (can be sccessed by the same class only)\n",
        "class Student:\n",
        "  __name = None\n",
        "  __roll = None\n",
        "  __branch = None\n",
        "\n",
        "  def __init__(self, name, roll, branch):\n",
        "      self.__name = name\n",
        "      self.__roll = roll\n",
        "      self.__branch = branch\n",
        "\n",
        "  def __displayDetails(self):\n",
        "    print(\"Name: \", self.__name)\n",
        "    print(\"Roll: \", self.__roll)\n",
        "    print(\"Branch: \", self.__branch)\n",
        "\n",
        "  def accessPrivateMethod(self):\n",
        "    self.__displayDetails()\n",
        "\n",
        "obj = Student(\"Deepak\", 1010023, \"Information Technology\")\n",
        "obj.accessPrivateMethod()"
      ],
      "metadata": {
        "colab": {
          "base_uri": "https://localhost:8080/"
        },
        "id": "CeUKXAUs7PWy",
        "outputId": "fbd72769-8f95-45b1-a942-57ea85fafc09"
      },
      "execution_count": 47,
      "outputs": [
        {
          "output_type": "stream",
          "name": "stdout",
          "text": [
            "Name:  Deepak\n",
            "Roll:  1010023\n",
            "Branch:  Information Technology\n"
          ]
        }
      ]
    },
    {
      "cell_type": "code",
      "source": [
        "# Private Access Modifiers (can be sccessed by the same class only)\n",
        "class Student:\n",
        "  __name = None\n",
        "  __roll = None\n",
        "  __branch = None\n",
        "\n",
        "  def __init__(self, name, roll, branch):\n",
        "      self.__name = name\n",
        "      self.__roll = roll\n",
        "      self.__branch = branch\n",
        "\n",
        "  def __displayDetails(self):\n",
        "    print(\"Name: \", self.__name)\n",
        "    print(\"Roll: \", self.__roll)\n",
        "    print(\"Branch: \", self.__branch)\n",
        "\n",
        "  def accessPrivateMethod(self):\n",
        "    self.__displayDetails()\n",
        "\n",
        "class Details(Student):\n",
        "  def __displayDetails(self):\n",
        "    print(\"Name: \", self.__name)\n",
        "    print(\"Roll: \", self.__roll)\n",
        "    print(\"Branch: \", self.__branch)\n",
        "\n",
        "obj = Student(\"Deepak\", 1010023, \"Information Technology\")\n",
        "obj.accessPrivateMethod()\n",
        "\n",
        "s = Details(\"Deepak\", 1010023, \"Information Technology\")\n",
        "s.__displayDetails() # Generates an error as it is private access modifier"
      ],
      "metadata": {
        "colab": {
          "base_uri": "https://localhost:8080/",
          "height": 228
        },
        "id": "JntkjjC29Dlo",
        "outputId": "2d235fde-2756-4af3-f688-0ce4f4ffd715"
      },
      "execution_count": 53,
      "outputs": [
        {
          "output_type": "stream",
          "name": "stdout",
          "text": [
            "Name:  Deepak\n",
            "Roll:  1010023\n",
            "Branch:  Information Technology\n"
          ]
        },
        {
          "output_type": "error",
          "ename": "AttributeError",
          "evalue": "'Details' object has no attribute '__displayDetails'",
          "traceback": [
            "\u001b[0;31m---------------------------------------------------------------------------\u001b[0m",
            "\u001b[0;31mAttributeError\u001b[0m                            Traceback (most recent call last)",
            "\u001b[0;32m<ipython-input-53-2752542396>\u001b[0m in \u001b[0;36m<cell line: 0>\u001b[0;34m()\u001b[0m\n\u001b[1;32m     28\u001b[0m \u001b[0;34m\u001b[0m\u001b[0m\n\u001b[1;32m     29\u001b[0m \u001b[0ms\u001b[0m \u001b[0;34m=\u001b[0m \u001b[0mDetails\u001b[0m\u001b[0;34m(\u001b[0m\u001b[0;34m\"Deepak\"\u001b[0m\u001b[0;34m,\u001b[0m \u001b[0;36m1010023\u001b[0m\u001b[0;34m,\u001b[0m \u001b[0;34m\"Information Technology\"\u001b[0m\u001b[0;34m)\u001b[0m\u001b[0;34m\u001b[0m\u001b[0;34m\u001b[0m\u001b[0m\n\u001b[0;32m---> 30\u001b[0;31m \u001b[0ms\u001b[0m\u001b[0;34m.\u001b[0m\u001b[0m__displayDetails\u001b[0m\u001b[0;34m(\u001b[0m\u001b[0;34m)\u001b[0m\u001b[0;34m\u001b[0m\u001b[0;34m\u001b[0m\u001b[0m\n\u001b[0m",
            "\u001b[0;31mAttributeError\u001b[0m: 'Details' object has no attribute '__displayDetails'"
          ]
        }
      ]
    }
  ]
}