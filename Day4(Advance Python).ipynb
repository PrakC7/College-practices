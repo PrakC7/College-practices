{
  "nbformat": 4,
  "nbformat_minor": 0,
  "metadata": {
    "colab": {
      "provenance": [],
      "authorship_tag": "ABX9TyMBo6No5v9N4uCwvKkBnAmc"
    },
    "kernelspec": {
      "name": "python3",
      "display_name": "Python 3"
    },
    "language_info": {
      "name": "python"
    }
  },
  "cells": [
    {
      "cell_type": "code",
      "execution_count": null,
      "metadata": {
        "id": "PsSNoCFLem0v"
      },
      "outputs": [],
      "source": [
        "# Four Pillars Of OOP\n",
        "# Abstraction (hiding unuseful details from the user)\n",
        "# Encapsulation (binding the data (variable) into a class)\n",
        "# Inheritance (base can access all the functions of the super class)\n",
        "# Polymorphism (ability to have different methods with the same name but perform different tasks) (Method overriding, Method overloading)"
      ]
    },
    {
      "cell_type": "code",
      "source": [
        "# Inheritange Class\n",
        "class Animal:\n",
        "  name = \"\"\n",
        "\n",
        "  def eat(self):\n",
        "    print(\"I can eat\")\n",
        "\n",
        "# Inherit from Animal\n",
        "class Dog(Animal):\n",
        "\n",
        "  # New method in subclass\n",
        "  def display(self):\n",
        "    # Access name\n",
        "    print(\"My name is \", self.name)\n",
        "\n",
        "# Create an object of the subclass\n",
        "labrador = Dog()\n",
        "\n",
        "# Access superclass attribute and method\n",
        "labrador.name = \"Rohu\"\n",
        "labrador.eat()\n",
        "\n",
        "# Call subclass method\n",
        "labrador.display()"
      ],
      "metadata": {
        "id": "rrWXDeS4iJNT"
      },
      "execution_count": null,
      "outputs": []
    },
    {
      "cell_type": "code",
      "source": [
        "# Single Inheritange\n",
        "class Father:\n",
        "  money = 1000\n",
        "  def show(self):\n",
        "    print(\"Parent class instance method\")\n",
        "\n",
        "  @classmethod\n",
        "  def moneyshow(cls):\n",
        "    print(\"Parent class class method: Total money = \",cls.money)\n",
        "\n",
        "  @staticmethod\n",
        "  def stat_method():\n",
        "    a = 5\n",
        "    print(\"Parent class static method: the value of a is \", a)\n",
        "\n",
        "class Son(Father):\n",
        "  def son_display(self):\n",
        "    print(\"Child class instance method\")\n",
        "\n",
        "s = Son()\n",
        "s.show()\n",
        "s.moneyshow()\n",
        "s.stat_method()\n",
        "s.son_display()"
      ],
      "metadata": {
        "colab": {
          "base_uri": "https://localhost:8080/"
        },
        "id": "c4kmaRfykrqV",
        "outputId": "df67418a-fed1-4901-c9ad-674fb4eabcb2"
      },
      "execution_count": 4,
      "outputs": [
        {
          "output_type": "stream",
          "name": "stdout",
          "text": [
            "Parent class instance method\n",
            "Parent class class method: Total money =  1000\n",
            "Parent class static method: the value of a is  5\n",
            "Child class instance method\n"
          ]
        }
      ]
    },
    {
      "cell_type": "code",
      "source": [],
      "metadata": {
        "id": "bO1YLXBloZJ_"
      },
      "execution_count": null,
      "outputs": []
    }
  ]
}